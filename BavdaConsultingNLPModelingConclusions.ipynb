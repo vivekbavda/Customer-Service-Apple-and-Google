{
 "cells": [
  {
   "cell_type": "markdown",
   "id": "14b8b9d8",
   "metadata": {},
   "source": [
    "# [Modeling, Data Visualization, and Conclusions Notebook](#'/BavdaConsultingNLPModelingConclusions')"
   ]
  },
  {
   "cell_type": "markdown",
   "id": "c9685cea",
   "metadata": {},
   "source": [
    "## Table of Contents\n",
    "   - [Modeling Caution and Methodology](#Modeling-Caution-and-Methodology)\n",
    "   - [Visualizations and Tables](#Visualizations-and-Tables)\n",
    "   - [Pipelines, GridsearchCV, and Automated Modeling](#Pipelines,-GridsearchCV,-and-Automated-Modeling)\n",
    "   - [Conclusions and Recommendations](#Conclusions-and-Recommendations)\n"
   ]
  },
  {
   "cell_type": "markdown",
   "id": "96a6afd7",
   "metadata": {},
   "source": [
    "#### Imported Libraries "
   ]
  },
  {
   "cell_type": "code",
   "execution_count": 1,
   "id": "10e1bd43",
   "metadata": {},
   "outputs": [
    {
     "data": {
      "text/plain": [
       "'cat'"
      ]
     },
     "execution_count": 1,
     "metadata": {},
     "output_type": "execute_result"
    }
   ],
   "source": [
    "import pandas as pd\n",
    "import numpy as np\n",
    "import matplotlib.pyplot as plt\n",
    "import seaborn as sns\n",
    "import re\n",
    "from tqdm import tqdm\n",
    "from pprint import pprint\n",
    "%matplotlib inline\n",
    "import spacy\n",
    "from spacytextblob.spacytextblob import SpacyTextBlob\n",
    "\n",
    "\n",
    "from sklearn.preprocessing import StandardScaler\n",
    "from sklearn.model_selection import cross_val_score, KFold, train_test_split, cross_validate, cross_val_predict\n",
    "from sklearn.linear_model import LogisticRegression\n",
    "from sklearn.neighbors import KNeighborsClassifier\n",
    "from sklearn.ensemble import RandomForestClassifier\n",
    "from sklearn.feature_extraction.text import CountVectorizer\n",
    "from sklearn.feature_extraction.text import TfidfVectorizer\n",
    "from sklearn import metrics\n",
    "from sklearn.pipeline import Pipeline\n",
    "from sklearn.model_selection import GridSearchCV\n",
    "\n",
    "\n",
    "from nltk import PorterStemmer\n",
    "from nltk.tokenize import word_tokenize\n",
    "from nltk.stem import WordNetLemmatizer\n",
    "lemmatizer =WordNetLemmatizer()\n",
    "lemmatizer.lemmatize(\"cats\")\n"
   ]
  },
  {
   "cell_type": "markdown",
   "id": "127d7396",
   "metadata": {},
   "source": [
    "### [Modeling Caution and Methodology](Modeling-Caution-and-Methodology)\n",
    "\n",
    "As you can see below, the cleaned data is loaded from the relative path in the Data Folder, The features and the target are defined below. The text is converted to a matrix representation. Methods such as stop words, stemming, and tokenizing are used. Instead of Train, Test, and Split, Cross Validation and KFold are used to sample and split the data for validation and training purposes. Cross Validation Scores and Predictions are used in confusion matrices. \n",
    "Three classification models were identified and used in this analysis. K Nearest Neighbors (KNN), Logistic Regression (LR), and Random Forests(RF) were tuned and fed the data. Several iterations were made to determine the best parameters. Moreover, Gridsearching and piping were also used to improve the model.\n",
    "\n",
    "First, it is important to identify our baseline. This is using the average to predict from our dataset. This is around 50% as the API query for each Google and Apple posts was 3,000. If we can do better, this would suggest success. However, 90% Accuracy has been made the benchmark in this engagement by our client.\n",
    "\n",
    "Second, it is important to understand how these three models work and their successes and downfalls.\n",
    "\n",
    "The KNN model is the simplest. This relies on distance. Imagine Apple and Google as separate countries who speak Apple Language and Google Language, respectively. One might have a customer service response that was similar to both. This data would live on the border between Apple where Apple Language is spoken and where Google Language is spoken. This KNN model might be useful in predicting this individual’s language based on where his community was in relation to these different language speakers.  So KNN would look at the distance say where 5 neighbors are included. K, the number of neighbors, could go up and down. If the majority near our observation spoke Apple Language, KNN would predict that our individual speaks Apple Language and vice versa. This type of model is good if we have known data and the decision boundary is strange.  One example of an odd boundary is to consider the distance between two points. Normally, we would say that a line would determine the quickest distance.  However, what if we were in the Loop in Chicago, IL?  All of sudden we have to go around things due to buildings being in the way.  This model was tried in case we had a strange boundary. The results of the data do not reflect such a strange boundary. KNN scored the worst on most of the metrics.\n",
    "\n",
    "Logistic Regression is more complicated. It is an odd combination of classification and linear regression, which more people are aware of.  Logistic Regression is usually a yes, no or 1, 0 model. In other words, it tells you which class you are in. Thus, it is termed a classification model, mostly. The regression aspect of it is that it could be used to predict the percentage chance of something happening. In other words, you could get the chance from 0 % to 100%. There will be independent variable coefficients that predict the possibility of the dependent variable. The only thing is these coefficients will be the exponent portion of e, a mathematical value like pie. Practically, perhaps, it could be used to predict the result of our language. The mathematically interesting thing about logistic regression is that a logarithm is used to fit a curved figure between 1 and 0.  This is known as the Logit Link Function. It is a binary result-Apple or Google.  However, there are many variables in our model due to the matrix of words. Here though, the independent variables must have a linear relationship with the target. Moreover, there are probably too many features for our data size for this to be useful.  It is highly likely that this model is overfit. Logistic Regression scored second best on most of the metrics discussed below\n",
    "\n",
    "Finally, Random Forests, a randomized decision tree classfication model is perhaps the most powerful and complicated. As Riley Dallas of General Assembly put it, decision trees work like the game 20 questions.  Each question you ask leads to a new split point until you get to the item you are seeking. Essentially, the computer decides based on the data inputted such as the words used in these posts, which trees minimize error and complexity. So, in decision trees similar to 20 questions, the computer likely  would never ask if the item is a bottle of Gatorade. This is too specific and would make a decision tree more complicated and have more levels. In modeling, this would increase the mean square error for a continuous variable and Gini purity for discrete dependent variable. To minimize error, if we were playing 20 questions, we would start with a broad question that would minimize the number of levels-for example, is the item you are thinking of, living or not? Then one would get more specific. The random part of it is that at different points, the decision tree has random sampling of features to choose from rather than completely minimizing the error. The problem with this model is that while it may predict well on existing data, it has difficulty on new data. In this context, it would only be good at predicting the same type of customer service problems from our dataset.\n",
    "\n",
    "Please see below the technical aspects. The conclusion provides the model choice and recommendations."
   ]
  },
  {
   "cell_type": "markdown",
   "id": "b4182e06",
   "metadata": {},
   "source": [
    "#### Loading Cleaned Data "
   ]
  },
  {
   "cell_type": "code",
   "execution_count": 2,
   "id": "642afe4f",
   "metadata": {},
   "outputs": [],
   "source": [
    "df = pd.read_csv('./Data/modeling.csv')"
   ]
  },
  {
   "cell_type": "markdown",
   "id": "b126ee8f",
   "metadata": {},
   "source": [
    "#### Variables have been defined."
   ]
  },
  {
   "cell_type": "code",
   "execution_count": 3,
   "id": "041bce63",
   "metadata": {},
   "outputs": [],
   "source": [
    "features= ['created_utc', 'text', 'num_comments']\n",
    "target=df['apple']"
   ]
  },
  {
   "cell_type": "code",
   "execution_count": 4,
   "id": "d21f68f6",
   "metadata": {},
   "outputs": [],
   "source": [
    "X=df[features]\n",
    "y=target"
   ]
  },
  {
   "cell_type": "markdown",
   "id": "63fd1b43",
   "metadata": {},
   "source": [
    "#### Baseline is below. The mean is used as the baseline. 53% of the posts are Google whereas Apple is 47%. If we used the mean to predict our target, we would be right 53% of the time. The goal of this model is to do better than the mean."
   ]
  },
  {
   "cell_type": "code",
   "execution_count": 5,
   "id": "d5511ffd",
   "metadata": {},
   "outputs": [
    {
     "data": {
      "text/plain": [
       "0.5319969159599075"
      ]
     },
     "execution_count": 5,
     "metadata": {},
     "output_type": "execute_result"
    }
   ],
   "source": [
    "1-y.mean()"
   ]
  },
  {
   "cell_type": "markdown",
   "id": "bff75edd",
   "metadata": {},
   "source": [
    "#### Summary Statistics"
   ]
  },
  {
   "cell_type": "code",
   "execution_count": 6,
   "id": "aba0badb",
   "metadata": {},
   "outputs": [
    {
     "data": {
      "text/html": [
       "<div>\n",
       "<style scoped>\n",
       "    .dataframe tbody tr th:only-of-type {\n",
       "        vertical-align: middle;\n",
       "    }\n",
       "\n",
       "    .dataframe tbody tr th {\n",
       "        vertical-align: top;\n",
       "    }\n",
       "\n",
       "    .dataframe thead th {\n",
       "        text-align: right;\n",
       "    }\n",
       "</style>\n",
       "<table border=\"1\" class=\"dataframe\">\n",
       "  <thead>\n",
       "    <tr style=\"text-align: right;\">\n",
       "      <th></th>\n",
       "      <th>created_utc</th>\n",
       "      <th>num_comments</th>\n",
       "    </tr>\n",
       "  </thead>\n",
       "  <tbody>\n",
       "    <tr>\n",
       "      <th>count</th>\n",
       "      <td>1.297000e+03</td>\n",
       "      <td>1297.000000</td>\n",
       "    </tr>\n",
       "    <tr>\n",
       "      <th>mean</th>\n",
       "      <td>1.569593e+09</td>\n",
       "      <td>4.922899</td>\n",
       "    </tr>\n",
       "    <tr>\n",
       "      <th>std</th>\n",
       "      <td>9.699154e+06</td>\n",
       "      <td>29.242973</td>\n",
       "    </tr>\n",
       "    <tr>\n",
       "      <th>min</th>\n",
       "      <td>1.558282e+09</td>\n",
       "      <td>0.000000</td>\n",
       "    </tr>\n",
       "    <tr>\n",
       "      <th>25%</th>\n",
       "      <td>1.560985e+09</td>\n",
       "      <td>0.000000</td>\n",
       "    </tr>\n",
       "    <tr>\n",
       "      <th>50%</th>\n",
       "      <td>1.563473e+09</td>\n",
       "      <td>0.000000</td>\n",
       "    </tr>\n",
       "    <tr>\n",
       "      <th>75%</th>\n",
       "      <td>1.577296e+09</td>\n",
       "      <td>1.000000</td>\n",
       "    </tr>\n",
       "    <tr>\n",
       "      <th>max</th>\n",
       "      <td>1.628782e+09</td>\n",
       "      <td>531.000000</td>\n",
       "    </tr>\n",
       "  </tbody>\n",
       "</table>\n",
       "</div>"
      ],
      "text/plain": [
       "        created_utc  num_comments\n",
       "count  1.297000e+03   1297.000000\n",
       "mean   1.569593e+09      4.922899\n",
       "std    9.699154e+06     29.242973\n",
       "min    1.558282e+09      0.000000\n",
       "25%    1.560985e+09      0.000000\n",
       "50%    1.563473e+09      0.000000\n",
       "75%    1.577296e+09      1.000000\n",
       "max    1.628782e+09    531.000000"
      ]
     },
     "execution_count": 6,
     "metadata": {},
     "output_type": "execute_result"
    }
   ],
   "source": [
    "X.describe()"
   ]
  },
  {
   "cell_type": "code",
   "execution_count": 7,
   "id": "a6b752b8",
   "metadata": {},
   "outputs": [
    {
     "data": {
      "text/plain": [
       "count    1297.000000\n",
       "mean        0.468003\n",
       "std         0.499168\n",
       "min         0.000000\n",
       "25%         0.000000\n",
       "50%         0.000000\n",
       "75%         1.000000\n",
       "max         1.000000\n",
       "Name: apple, dtype: float64"
      ]
     },
     "execution_count": 7,
     "metadata": {},
     "output_type": "execute_result"
    }
   ],
   "source": [
    "y.describe()"
   ]
  },
  {
   "cell_type": "markdown",
   "id": "fa18a4a4",
   "metadata": {},
   "source": [
    "#### Preprocessing methods are used below."
   ]
  },
  {
   "cell_type": "code",
   "execution_count": 8,
   "id": "fec8f3c1",
   "metadata": {},
   "outputs": [],
   "source": [
    "ps=PorterStemmer()\n",
    "df.text=df.text.apply(lambda x : ' '.join([ps.stem(w) for w in word_tokenize(x)]))"
   ]
  },
  {
   "cell_type": "code",
   "execution_count": 9,
   "id": "eebf7184",
   "metadata": {},
   "outputs": [
    {
     "data": {
      "text/plain": [
       "0       appl wi-fi rumor . so a while back i heard app...\n",
       "1       have anyon notic a massiv drop off in support ...\n",
       "2       appl is n't listen so i thought i 'd just tri ...\n",
       "3       upgrad oper system messag . hello , i am a stu...\n",
       "4       for anyon who recent got a logic board replac ...\n",
       "                              ...                        \n",
       "1292    googl timelin issu . for mani month timelin ha...\n",
       "1293    bill and hillari clinton . i hope i live long ...\n",
       "1294    safesearch broken . [ http : //support.google....\n",
       "1295    help me make a list of `` flip-a-switch '' fea...\n",
       "1296    need help ( softwar engin ) . hi , my name is ...\n",
       "Name: text, Length: 1297, dtype: object"
      ]
     },
     "execution_count": 9,
     "metadata": {},
     "output_type": "execute_result"
    }
   ],
   "source": [
    "df.text"
   ]
  },
  {
   "cell_type": "code",
   "execution_count": 10,
   "id": "3b59b145",
   "metadata": {},
   "outputs": [],
   "source": [
    "tfidf= TfidfVectorizer(strip_accents=ascii, lowercase = True,\n",
    "                       stop_words='english', max_df=100.0,\n",
    "                        min_df=.01, max_features=250, \n",
    "                       norm='l1', sublinear_tf=True) \n",
    "tfidf.fit(df.text)\n",
    "dft= pd.DataFrame(tfidf.transform(df.text).todense(), columns =tfidf.get_feature_names())"
   ]
  },
  {
   "cell_type": "code",
   "execution_count": 11,
   "id": "935160ab",
   "metadata": {},
   "outputs": [
    {
     "data": {
      "text/plain": [
       "\"my iphon 11 pro 's port is n't ground properli ? option ? . got an iphon 11 pro right befor thanksgiv , and i notic it did someth weird when i plug it in to a dock station via aux cord + dongl : it kept skip forward the song a littl bit at a regular interv , and then siri kept turn on . i brush it off as just someth weird with the plug ( which doe n't make too much sens ) . just now , i had it plug in again , and i notic that when i touch the edg of the phone , the speaker get an interfer sound similar to when you hold the end of a cabl . similarli , i had my forearm slightli touch the edg of the phone , and i felt a small shock ( you can do thi with a connect aux cord too . it 's a veri small shock , but it happen sinc such a small contact point build potenti better ) . thi impli that some of the electr from the aux is go to other part of the phone ( which would explain how it turn siri on . i guess the phone figur the button wa be press ) . are there ani free option to possibl get thi problem fix ? i 'm not veri familiar with iphon hardwar . there 's no visibl damag on the outsid of the devic . thank\""
      ]
     },
     "execution_count": 11,
     "metadata": {},
     "output_type": "execute_result"
    }
   ],
   "source": [
    "\n",
    "\n",
    "df['text'][54]"
   ]
  },
  {
   "cell_type": "code",
   "execution_count": 12,
   "id": "1beb0ccf",
   "metadata": {},
   "outputs": [
    {
     "data": {
      "text/plain": [
       "array([0])"
      ]
     },
     "execution_count": 12,
     "metadata": {},
     "output_type": "execute_result"
    }
   ],
   "source": [
    "df['num_crossposts'].unique()"
   ]
  },
  {
   "cell_type": "code",
   "execution_count": 13,
   "id": "c211da4e",
   "metadata": {},
   "outputs": [
    {
     "data": {
      "text/plain": [
       "Index(['10', '11', '13', '2019', 'abl', 'access', 'account', 'actual', 'ad',\n",
       "       'add', 'ago', 'airpod', 'allow', 'alreadi', 'alway', 'amp', 'android',\n",
       "       'ani', 'anoth', 'anyon', 'anyth', 'app', 'appl', 'apple', 'ask',\n",
       "       'assist', 'bar', 'batteri', 'becaus', 'befor', 'best', 'better', 'bit',\n",
       "       'bought', 'button', 'buy', 'ca', 'calendar', 'card', 'case', 'chang',\n",
       "       'charg', 'check', 'chrome', 'click', 'code', 'com', 'come', 'compani',\n",
       "       'complet', 'comput', 'connect', 'contact', 'creat', 'current', 'custom',\n",
       "       'data', 'day', 'delet', 'design', 'develop', 'devic', 'did', 'differ',\n",
       "       'display', 'doe', 'don', 'download', 'drive', 'els', 'email', 'end',\n",
       "       'everi', 'everyth', 'experi', 'famili', 'featur', 'feel', 'file', 'fix',\n",
       "       'game', 'gmail', 'good', 'googl', 'google', 'got', 'great', 'guy', 'ha',\n",
       "       'happen', 'help', 'hey', 'hi', 'home', 'hope', 'hour', 'howev', 'http',\n",
       "       'icloud', 'id'],\n",
       "      dtype='object')"
      ]
     },
     "execution_count": 13,
     "metadata": {},
     "output_type": "execute_result"
    }
   ],
   "source": [
    "dft.columns[0:100]"
   ]
  },
  {
   "cell_type": "code",
   "execution_count": 14,
   "id": "ac4ef153",
   "metadata": {},
   "outputs": [
    {
     "data": {
      "text/plain": [
       "Index(['imag', 'includ', 'inform', 'instead', 'io', 'ipad', 'iphon', 'issu',\n",
       "       'just', 'keyboard', 'know', 'laptop', 'left', 'let', 'life', 'like',\n",
       "       'link', 'list', 'll', 'locat', 'long', 'look', 'lot', 'mac', 'macbook',\n",
       "       'make', 'mani', 'map', 'mbp', 'messag', 'mode', 'model', 'money',\n",
       "       'month', 'music', 'need', 'new', 'news', 'noth', 'notic', 'notif',\n",
       "       'number', 'offer', 'old', 'onli', 'onlin', 'open', 'option', 'order',\n",
       "       'page', 'password', 'pay', 'peopl', 'person', 'phone', 'photo', 'pixel',\n",
       "       'place', 'play', 'pleas', 'plu', 'point', 'possibl', 'post', 'pro',\n",
       "       'problem', 'product', 'purchas', 'question', 'read', 'realli', 'reason',\n",
       "       'receiv', 'recent', 'redd', 'releas', 'remov', 'repair', 'replac',\n",
       "       'result', 'return', 'right', 'run', 'said', 'save', 'say', 'screen',\n",
       "       'search', 'send', 'sent', 'servic', 'set', 'share', 'sinc', 'site',\n",
       "       'someon', 'someth', 'start', 'stop'],\n",
       "      dtype='object')"
      ]
     },
     "execution_count": 14,
     "metadata": {},
     "output_type": "execute_result"
    }
   ],
   "source": [
    "dft.columns[101:200]"
   ]
  },
  {
   "cell_type": "code",
   "execution_count": 15,
   "id": "5869d94e",
   "metadata": {},
   "outputs": [
    {
     "data": {
      "text/plain": [
       "Index(['store', 'suggest', 'support', 'sure', 'switch', 'talk', 'tell', 'text',\n",
       "       'thank', 'thi', 'thing', 'think', 'thought', 'time', 'today', 'told',\n",
       "       'track', 'tri', 'turn', 'type', 'u2019', 'u201c', 'u201d', 'updat',\n",
       "       'upgrad', 'usb', 'use', 'user', 've', 'veri', 'version', 'video', 'wa',\n",
       "       'wait', 'want', 'watch', 'way', 'websit', 'week', 'went', 'whi',\n",
       "       'window', 'wonder', 'work', 'wrong', 'www', 'x200b', 'year', 'youtub'],\n",
       "      dtype='object')"
      ]
     },
     "execution_count": 15,
     "metadata": {},
     "output_type": "execute_result"
    }
   ],
   "source": [
    "dft.columns[201:300]"
   ]
  },
  {
   "cell_type": "markdown",
   "id": "abc32e1d",
   "metadata": {},
   "source": [
    "#### Words that would affect the predictor without suggesting customer service are dropped."
   ]
  },
  {
   "cell_type": "code",
   "execution_count": 16,
   "id": "145868f1",
   "metadata": {},
   "outputs": [],
   "source": [
    "dft=dft.drop(['airpod', 'android', 'appl', 'apple', 'chrome','gmail', 'googl', 'google', 'icloud', 'ipad','iphon',\\\n",
    "'macbook', 'mac', 'iphon', 'pixel', 'youtub'], axis=1)\n"
   ]
  },
  {
   "cell_type": "code",
   "execution_count": 17,
   "id": "0ece36e5",
   "metadata": {},
   "outputs": [],
   "source": [
    "dft['num_comments'] = df.num_comments"
   ]
  },
  {
   "cell_type": "code",
   "execution_count": 18,
   "id": "e9a24104",
   "metadata": {},
   "outputs": [],
   "source": [
    "XX=dft"
   ]
  },
  {
   "cell_type": "code",
   "execution_count": 19,
   "id": "bc634447",
   "metadata": {},
   "outputs": [],
   "source": [
    "#standard scaler\n",
    "XXX=StandardScaler().fit_transform(XX)"
   ]
  },
  {
   "cell_type": "code",
   "execution_count": 20,
   "id": "765ad79c",
   "metadata": {},
   "outputs": [],
   "source": [
    "#instantiation\n",
    "lr=LogisticRegression()\n",
    "knn= KNeighborsClassifier(n_neighbors=1, weights='uniform', metric='euclidean')\n",
    "rf=RandomForestClassifier(n_estimators=25, n_jobs=-1)\n"
   ]
  },
  {
   "cell_type": "code",
   "execution_count": 21,
   "id": "d9a7c3c0",
   "metadata": {},
   "outputs": [
    {
     "name": "stdout",
     "output_type": "stream",
     "text": [
      "logreg 0.756 +- 0.05\n",
      "KNN 0.655 +- 0.05\n",
      "RF 0.816 +- 0.05\n"
     ]
    }
   ],
   "source": [
    "#Cross val scores\n",
    "lr_scores = cross_val_score(lr, XXX, y, cv=KFold(n_splits=5, shuffle=True, random_state=42))\n",
    "knn_scores=cross_val_score(knn, XXX, y, cv=KFold(n_splits=5, shuffle=True, random_state=42))\n",
    "rf_scores=cross_val_score(rf, XXX, y, cv=KFold(n_splits=5, shuffle=True, random_state=42))\n",
    "\n",
    "print('logreg', round (lr_scores.mean(), 3), '+-', round (2 *lr_scores.std(), 3))\n",
    "print('KNN', round (knn_scores.mean(), 3), '+-', round (2 *lr_scores.std(), 3))\n",
    "print('RF', round (rf_scores.mean(), 3), '+-', round (2 *lr_scores.std(), 3))"
   ]
  },
  {
   "cell_type": "code",
   "execution_count": 22,
   "id": "7695ac20",
   "metadata": {},
   "outputs": [],
   "source": [
    "#dft.value_counts().sort_values()"
   ]
  },
  {
   "cell_type": "code",
   "execution_count": 23,
   "id": "ed062bd1",
   "metadata": {},
   "outputs": [],
   "source": [
    "lrpredictions= cross_val_predict(lr, XXX, y, cv=KFold(n_splits=5, shuffle=True, random_state=42))\n",
    "knnpredictions= cross_val_predict(knn, XXX, y, cv=KFold(n_splits=5, shuffle=True, random_state=42))\n",
    "rfpredictions= cross_val_predict(rf, XXX, y, cv=KFold(n_splits=5, shuffle=True, random_state=42))"
   ]
  },
  {
   "cell_type": "markdown",
   "id": "3234f479",
   "metadata": {},
   "source": [
    "### [Visualizations and Tables](#Visualizations-and-Tables)\n",
    "\n"
   ]
  },
  {
   "cell_type": "code",
   "execution_count": 24,
   "id": "a8189a9b",
   "metadata": {},
   "outputs": [
    {
     "data": {
      "text/plain": [
       "array([[528, 162],\n",
       "       [154, 453]])"
      ]
     },
     "execution_count": 24,
     "metadata": {},
     "output_type": "execute_result"
    }
   ],
   "source": [
    "cnf_matrix_lr=metrics.confusion_matrix(y, lrpredictions)\n",
    "cnf_matrix_lr"
   ]
  },
  {
   "cell_type": "code",
   "execution_count": 25,
   "id": "74f9e328",
   "metadata": {},
   "outputs": [
    {
     "data": {
      "text/plain": [
       "Text(0.5, 257.44, 'Predicted label')"
      ]
     },
     "execution_count": 25,
     "metadata": {},
     "output_type": "execute_result"
    },
    {
     "data": {
      "image/png": "[encoded data removed]",
      "text/plain": [
       "<Figure size 432x288 with 2 Axes>"
      ]
     },
     "metadata": {
      "needs_background": "light"
     },
     "output_type": "display_data"
    }
   ],
   "source": [
    "# name  of classes\n",
    "fig, ax = plt.subplots()\n",
    "tick_marks = np.arange(len(y))\n",
    "plt.xticks(tick_marks, y)\n",
    "plt.yticks(tick_marks, y)\n",
    "# create heatmap\n",
    "sns.heatmap(pd.DataFrame(cnf_matrix_lr), annot=True, cmap=\"YlGnBu\" ,fmt='g')\n",
    "ax.xaxis.set_label_position(\"top\")\n",
    "plt.tight_layout()\n",
    "plt.title('Confusion Matrix for Logistic Regression', y=1.1)\n",
    "plt.ylabel('Actual Label')\n",
    "plt.xlabel('Predicted label')\n"
   ]
  },
  {
   "cell_type": "code",
   "execution_count": 26,
   "id": "04e7145c",
   "metadata": {},
   "outputs": [
    {
     "name": "stdout",
     "output_type": "stream",
     "text": [
      "Accuracy: 0.756360832690825\n",
      "Precision: 0.7365853658536585\n",
      "Recall: 0.7462932454695222\n",
      "F1 Score: 0.7414075286415712\n"
     ]
    }
   ],
   "source": [
    "print(\"Accuracy:\",metrics.accuracy_score(y, lrpredictions))\n",
    "print(\"Precision:\",metrics.precision_score(y, lrpredictions))\n",
    "print(\"Recall:\",metrics.recall_score(y, lrpredictions))\n",
    "print(\"F1 Score:\", metrics.f1_score(y, lrpredictions))"
   ]
  },
  {
   "cell_type": "code",
   "execution_count": 27,
   "id": "10c0d26f",
   "metadata": {},
   "outputs": [
    {
     "data": {
      "text/plain": [
       "array([[389, 301],\n",
       "       [147, 460]])"
      ]
     },
     "execution_count": 27,
     "metadata": {},
     "output_type": "execute_result"
    }
   ],
   "source": [
    "cnf_matrix_knn=metrics.confusion_matrix(y, knnpredictions)\n",
    "cnf_matrix_knn"
   ]
  },
  {
   "cell_type": "code",
   "execution_count": 28,
   "id": "f70ec9b3",
   "metadata": {},
   "outputs": [
    {
     "data": {
      "text/plain": [
       "Text(0.5, 257.44, 'Predicted label')"
      ]
     },
     "execution_count": 28,
     "metadata": {},
     "output_type": "execute_result"
    },
    {
     "data": {
      "image/png": "[encoded data removed]",
      "text/plain": [
       "<Figure size 432x288 with 2 Axes>"
      ]
     },
     "metadata": {
      "needs_background": "light"
     },
     "output_type": "display_data"
    }
   ],
   "source": [
    "# name  of classes\n",
    "fig, ax = plt.subplots()\n",
    "tick_marks = np.arange(len(y))\n",
    "plt.xticks(tick_marks, y)\n",
    "plt.yticks(tick_marks, y)\n",
    "# create heatmap\n",
    "sns.heatmap(pd.DataFrame(cnf_matrix_knn), annot=True, cmap=\"coolwarm\" ,fmt='g')\n",
    "ax.xaxis.set_label_position(\"top\")\n",
    "plt.tight_layout()\n",
    "plt.title('Confusion matrix for KNN Model', y=1.1)\n",
    "plt.ylabel('Actual Label')\n",
    "plt.xlabel('Predicted label')"
   ]
  },
  {
   "cell_type": "code",
   "execution_count": 29,
   "id": "eea3039e",
   "metadata": {},
   "outputs": [
    {
     "name": "stdout",
     "output_type": "stream",
     "text": [
      "Accuracy: 0.6545875096376252\n",
      "Precision: 0.6044678055190539\n",
      "Recall: 0.7578253706754531\n",
      "F1 Score: 0.672514619883041\n"
     ]
    }
   ],
   "source": [
    "print(\"Accuracy:\",metrics.accuracy_score(y, knnpredictions))\n",
    "print(\"Precision:\",metrics.precision_score(y, knnpredictions))\n",
    "print(\"Recall:\",metrics.recall_score(y, knnpredictions))\n",
    "print(\"F1 Score:\", metrics.f1_score(y, knnpredictions))"
   ]
  },
  {
   "cell_type": "code",
   "execution_count": 30,
   "id": "5036c600",
   "metadata": {},
   "outputs": [
    {
     "data": {
      "text/plain": [
       "array([[528, 162],\n",
       "       [154, 453]])"
      ]
     },
     "execution_count": 30,
     "metadata": {},
     "output_type": "execute_result"
    }
   ],
   "source": [
    "cnf_matrix_lr=metrics.confusion_matrix(y, lrpredictions)\n",
    "cnf_matrix_lr"
   ]
  },
  {
   "cell_type": "code",
   "execution_count": 31,
   "id": "87975ed3",
   "metadata": {},
   "outputs": [
    {
     "data": {
      "text/plain": [
       "array([[570, 120],\n",
       "       [133, 474]])"
      ]
     },
     "execution_count": 31,
     "metadata": {},
     "output_type": "execute_result"
    }
   ],
   "source": [
    "cnf_matrix_rf=metrics.confusion_matrix(y, rfpredictions)\n",
    "cnf_matrix_rf"
   ]
  },
  {
   "cell_type": "code",
   "execution_count": 32,
   "id": "a4b3ef4a",
   "metadata": {},
   "outputs": [
    {
     "data": {
      "text/plain": [
       "Text(0.5, 257.44, 'Predicted')"
      ]
     },
     "execution_count": 32,
     "metadata": {},
     "output_type": "execute_result"
    },
    {
     "data": {
      "image/png": "[encoded data removed]",
      "text/plain": [
       "<Figure size 432x288 with 2 Axes>"
      ]
     },
     "metadata": {
      "needs_background": "light"
     },
     "output_type": "display_data"
    }
   ],
   "source": [
    "# name  of classes\n",
    "fig, ax = plt.subplots()\n",
    "tick_marks = np.arange(len(y))\n",
    "plt.xticks(tick_marks, y)\n",
    "plt.yticks(tick_marks, y)\n",
    "# create heatmap\n",
    "sns.heatmap(pd.DataFrame(cnf_matrix_rf), annot=True, cmap=\"YlGnBu\" ,fmt='g')\n",
    "ax.xaxis.set_label_position(\"top\")\n",
    "plt.tight_layout()\n",
    "plt.title('Confusion matrix for Random Forests', y=1.1)\n",
    "plt.ylabel('Actual')\n",
    "plt.xlabel('Predicted')"
   ]
  },
  {
   "cell_type": "code",
   "execution_count": 33,
   "id": "326bf5f5",
   "metadata": {},
   "outputs": [
    {
     "name": "stdout",
     "output_type": "stream",
     "text": [
      "Accuracy: 0.8049344641480339\n",
      "Precision: 0.797979797979798\n",
      "Recall: 0.7808896210873146\n",
      "F1 Score: 0.7893422148209825\n"
     ]
    }
   ],
   "source": [
    "print(\"Accuracy:\",metrics.accuracy_score(y, rfpredictions))\n",
    "print(\"Precision:\",metrics.precision_score(y, rfpredictions))\n",
    "print(\"Recall:\",metrics.recall_score(y, rfpredictions))\n",
    "print(\"F1 Score:\", metrics.f1_score(y, rfpredictions))"
   ]
  },
  {
   "cell_type": "code",
   "execution_count": 34,
   "id": "2678e515",
   "metadata": {},
   "outputs": [
    {
     "data": {
      "text/plain": [
       "<spacytextblob.spacytextblob.SpacyTextBlob at 0x7f966673fee0>"
      ]
     },
     "execution_count": 34,
     "metadata": {},
     "output_type": "execute_result"
    }
   ],
   "source": [
    "# tell spaCy to use the english language\n",
    "nlp = spacy.load('en_core_web_sm')\n",
    "# add sentiment analysis to your pipeline\n",
    "nlp.add_pipe(\"spacytextblob\")"
   ]
  },
  {
   "cell_type": "code",
   "execution_count": 35,
   "id": "c142d926",
   "metadata": {},
   "outputs": [],
   "source": [
    "df['polarity']=[nlp(word)._.polarity for word in df['text']]"
   ]
  },
  {
   "cell_type": "code",
   "execution_count": 36,
   "id": "7de2a962",
   "metadata": {},
   "outputs": [],
   "source": [
    "df['subjectivity']=[nlp(word)._.subjectivity for word in df['text']]"
   ]
  },
  {
   "cell_type": "code",
   "execution_count": 37,
   "id": "c95660b5",
   "metadata": {},
   "outputs": [],
   "source": [
    "df['assessment']=[nlp(word)._.assessments for word in df['text']]"
   ]
  },
  {
   "cell_type": "code",
   "execution_count": 38,
   "id": "084f5ebd",
   "metadata": {},
   "outputs": [
    {
     "name": "stdout",
     "output_type": "stream",
     "text": [
      "RF 0.816 +- 0.05\n"
     ]
    }
   ],
   "source": [
    "print('RF', round (rf_scores.mean(), 3), '+-', round (2 *lr_scores.std(), 3))"
   ]
  },
  {
   "cell_type": "code",
   "execution_count": 39,
   "id": "69164197",
   "metadata": {},
   "outputs": [
    {
     "name": "stdout",
     "output_type": "stream",
     "text": [
      "Apple Mean Polarity:\n",
      "0.093\n",
      "Apple Median Polarity:\n",
      "0.067\n"
     ]
    },
    {
     "data": {
      "text/plain": [
       "(None, None, None, None, <AxesSubplot:>)"
      ]
     },
     "execution_count": 39,
     "metadata": {},
     "output_type": "execute_result"
    },
    {
     "data": {
      "image/png": "[encoded data removed]",
      "text/plain": [
       "<Figure size 432x288 with 1 Axes>"
      ]
     },
     "metadata": {
      "needs_background": "light"
     },
     "output_type": "display_data"
    }
   ],
   "source": [
    "print('Apple Mean Polarity:'), print(round(df['polarity'][0:606].mean(), 3)), print('Apple Median Polarity:'), print(round(df['polarity'][0:606].median(), 3)), df['polarity'][0:606].hist()"
   ]
  },
  {
   "cell_type": "code",
   "execution_count": 40,
   "id": "fea1f81f",
   "metadata": {},
   "outputs": [
    {
     "name": "stdout",
     "output_type": "stream",
     "text": [
      "Google Mean Polarity\n",
      "0.05\n",
      "Google Median Polarity\n",
      "0.0\n"
     ]
    },
    {
     "data": {
      "text/plain": [
       "(None, None, None, None, <AxesSubplot:>)"
      ]
     },
     "execution_count": 40,
     "metadata": {},
     "output_type": "execute_result"
    },
    {
     "data": {
      "image/png": "[encoded data removed]",
      "text/plain": [
       "<Figure size 432x288 with 1 Axes>"
      ]
     },
     "metadata": {
      "needs_background": "light"
     },
     "output_type": "display_data"
    }
   ],
   "source": [
    "print('Google Mean Polarity'), print(round(df['polarity'][607:1297].mean(), 3)), print('Google Median Polarity'), print(round(df['polarity'][607:1297].median(), 3)), df['polarity'][607:1297].hist()"
   ]
  },
  {
   "cell_type": "code",
   "execution_count": 41,
   "id": "b48fe4f1",
   "metadata": {},
   "outputs": [
    {
     "data": {
      "text/plain": [
       "(0.38313952134404256, 0.40603592314118625, <AxesSubplot:>)"
      ]
     },
     "execution_count": 41,
     "metadata": {},
     "output_type": "execute_result"
    },
    {
     "data": {
      "image/png": "[encoded data removed]",
      "text/plain": [
       "<Figure size 432x288 with 1 Axes>"
      ]
     },
     "metadata": {
      "needs_background": "light"
     },
     "output_type": "display_data"
    }
   ],
   "source": [
    "df['subjectivity'][0:606].mean(), df['subjectivity'][0:606].median(), df['subjectivity'][0:606].hist()"
   ]
  },
  {
   "cell_type": "code",
   "execution_count": 42,
   "id": "ea40e5d0",
   "metadata": {},
   "outputs": [
    {
     "data": {
      "text/plain": [
       "(0.36887178879182836, 0.38988095238095233, <AxesSubplot:>)"
      ]
     },
     "execution_count": 42,
     "metadata": {},
     "output_type": "execute_result"
    },
    {
     "data": {
      "image/png": "[encoded data removed]",
      "text/plain": [
       "<Figure size 432x288 with 1 Axes>"
      ]
     },
     "metadata": {
      "needs_background": "light"
     },
     "output_type": "display_data"
    }
   ],
   "source": [
    "df['subjectivity'][607:1297].mean(), df['subjectivity'][607:1297].median(), df['subjectivity'][607:1297].hist()"
   ]
  },
  {
   "cell_type": "code",
   "execution_count": 43,
   "id": "07be7edb",
   "metadata": {},
   "outputs": [
    {
     "data": {
      "text/plain": [
       "(apple\n",
       " 0    0.368872\n",
       " 1    0.383384\n",
       " Name: subjectivity, dtype: float64,\n",
       " apple\n",
       " 0    0.389881\n",
       " 1    0.406151\n",
       " Name: subjectivity, dtype: float64,\n",
       " apple\n",
       " 0    AxesSubplot(0.125,0.125;0.775x0.755)\n",
       " 1    AxesSubplot(0.125,0.125;0.775x0.755)\n",
       " Name: subjectivity, dtype: object)"
      ]
     },
     "execution_count": 43,
     "metadata": {},
     "output_type": "execute_result"
    },
    {
     "data": {
      "image/png": "[encoded data removed]",
      "text/plain": [
       "<Figure size 432x288 with 1 Axes>"
      ]
     },
     "metadata": {
      "needs_background": "light"
     },
     "output_type": "display_data"
    }
   ],
   "source": [
    "df.groupby(['apple'])['subjectivity'].mean(), df.groupby(['apple'])['subjectivity'].median(), df.groupby(['apple'])['subjectivity'].hist()\n"
   ]
  },
  {
   "cell_type": "code",
   "execution_count": 44,
   "id": "d18e020a",
   "metadata": {},
   "outputs": [
    {
     "data": {
      "text/plain": [
       "(apple\n",
       " 0    0.049940\n",
       " 1    0.092758\n",
       " Name: polarity, dtype: float64,\n",
       " apple\n",
       " 0    0.000000\n",
       " 1    0.066667\n",
       " Name: polarity, dtype: float64,\n",
       " apple\n",
       " 0    AxesSubplot(0.125,0.125;0.775x0.755)\n",
       " 1    AxesSubplot(0.125,0.125;0.775x0.755)\n",
       " Name: polarity, dtype: object)"
      ]
     },
     "execution_count": 44,
     "metadata": {},
     "output_type": "execute_result"
    },
    {
     "data": {
      "image/png": "[encoded data removed]",
      "text/plain": [
       "<Figure size 432x288 with 1 Axes>"
      ]
     },
     "metadata": {
      "needs_background": "light"
     },
     "output_type": "display_data"
    }
   ],
   "source": [
    "df.groupby(['apple'])['polarity'].mean(), df.groupby(['apple'])['polarity'].median(), df.groupby(['apple'])['polarity'].hist() "
   ]
  },
  {
   "cell_type": "code",
   "execution_count": 45,
   "id": "cdf49135",
   "metadata": {},
   "outputs": [
    {
     "name": "stdout",
     "output_type": "stream",
     "text": [
      "Apple Mean Polarity:\n",
      "0.093\n",
      "Apple Median Polarity:\n",
      "0.067\n"
     ]
    },
    {
     "data": {
      "text/plain": [
       "(None, None, None, None, <AxesSubplot:>)"
      ]
     },
     "execution_count": 45,
     "metadata": {},
     "output_type": "execute_result"
    },
    {
     "data": {
      "image/png": "[encoded data removed]",
      "text/plain": [
       "<Figure size 432x288 with 1 Axes>"
      ]
     },
     "metadata": {
      "needs_background": "light"
     },
     "output_type": "display_data"
    }
   ],
   "source": [
    "print('Apple Mean Polarity:'), print(round(df['polarity'][0:606].mean(), 3)), print('Apple Median Polarity:'), print(round(df['polarity'][0:606].median(), 3)), df['polarity'][0:606].hist()"
   ]
  },
  {
   "cell_type": "markdown",
   "id": "4a97f939",
   "metadata": {},
   "source": [
    "### [Pipelines, GridsearchCV, and Automated Modeling](#Pipelines,-GridsearchCV,-and-Automated-Modeling)"
   ]
  },
  {
   "cell_type": "markdown",
   "id": "0d7fe689",
   "metadata": {},
   "source": [
    "#### This is where the parameters were created for each of the three models."
   ]
  },
  {
   "cell_type": "code",
   "execution_count": 46,
   "id": "f585709d",
   "metadata": {},
   "outputs": [],
   "source": [
    "params1={'tfidf__strip_accents':[ascii], 'tfidf__lowercase':[True],\\\n",
    "         \n",
    "'tfidf__stop_words':['english'], 'tfidf__max_df':[10, 20, 50, 100, 150, 200],\\\n",
    "\n",
    "'tfidf__min_df':[.01, .05, .1, .5, 1], 'tfidf__max_features':[50, 150, 250, 300, 350],\\\n",
    "\n",
    "'tfidf__norm':['l1'], 'tfidf__sublinear_tf':[True], 'lr__penalty':['l1', 'l2']}\n",
    "\n",
    "\n",
    "params2={'tfidf__strip_accents':[ascii], 'tfidf__lowercase':[True],\\\n",
    "         \n",
    "'tfidf__stop_words':['english'], 'tfidf__max_df':[10, 20, 50, 100, 150, 200],\\\n",
    "         \n",
    "'tfidf__min_df':[.01, .05, .1, .5, 1], 'tfidf__max_features':[50, 150, 200, 300, 350],\\\n",
    "         \n",
    "'tfidf__norm':['l1'], 'tfidf__sublinear_tf':[True], 'knn__n_neighbors':range(1, 51, 10), \\\n",
    "         \n",
    "'knn__weights':['uniform', 'distance'], 'knn__metric':['euclidean','manhattan']}\n",
    "\n",
    "\n",
    "params3={'tfidf__strip_accents':[None, ascii], 'tfidf__lowercase':[False, True],\\\n",
    "         \n",
    "'tfidf__stop_words':[None, 'english'], 'tfidf__max_df':[10, 20, 50, 100, 150, 200],\\\n",
    "         \n",
    "'tfidf__min_df':[.01, .05, .1, .5, 1], 'tfidf__max_features':[50, 150, 250, 300, 350],\\\n",
    "         \n",
    "'tfidf__norm':['l1'], 'tfidf__sublinear_tf':[False, True], 'rf__max_depth': [range(1,20, 5)],\\\n",
    "\n",
    "'rf__min_samples_leaf':[range(1,15, 5)], 'rf__n_estimators':[25, 50, 100, 200]}\n"
   ]
  },
  {
   "cell_type": "markdown",
   "id": "fac75a61",
   "metadata": {},
   "source": [
    "#### The Pipelines are instantiated, and the GridsearchCV is run. Parameters had to be reduced to prevent a crash of the notebook."
   ]
  },
  {
   "cell_type": "code",
   "execution_count": 47,
   "id": "b12cda20",
   "metadata": {},
   "outputs": [],
   "source": [
    "pipelr=Pipeline([('tfidf', TfidfVectorizer()), ('ss', StandardScaler()), ('lr', LogisticRegression())])\n",
    "pipeknn=Pipeline([('tfidf', TfidfVectorizer()), ('ss', StandardScaler()), ('knn', KNeighborsClassifier())])\n",
    "piperf=Pipeline([('tfidf', TfidfVectorizer()), ('ss', StandardScaler()), ('rf', RandomForestClassifier())])"
   ]
  },
  {
   "cell_type": "code",
   "execution_count": 48,
   "id": "ae97867d",
   "metadata": {},
   "outputs": [],
   "source": [
    "#pipelrgrid=GridSearchCV(pipelr, param_grid=params1, cv=5)\n",
    "#pipelrgrid.fit(X,y)"
   ]
  },
  {
   "cell_type": "code",
   "execution_count": 49,
   "id": "33a469c0",
   "metadata": {},
   "outputs": [],
   "source": [
    "#print(pipelrgrid.best_score_)\n",
    "#print(pipelrgrid.best_estimator_)\n",
    "#print(pipelrgrid.best_params_)"
   ]
  },
  {
   "cell_type": "code",
   "execution_count": 50,
   "id": "3ab39cd0",
   "metadata": {},
   "outputs": [],
   "source": [
    "#pipeknngrid=GridSearchCV(pipeknn, param_grid=params2, cv=5)\n",
    "#pipeknngrid.fit(X,y)"
   ]
  },
  {
   "cell_type": "code",
   "execution_count": 51,
   "id": "f54b123a",
   "metadata": {},
   "outputs": [],
   "source": [
    "#print(pipeknngrid.best_score_)\n",
    "#print(pipeknngrid.best_estimator_)\n",
    "#print(pipeknngrid.best_params_)"
   ]
  },
  {
   "cell_type": "code",
   "execution_count": 52,
   "id": "f4baa233",
   "metadata": {},
   "outputs": [],
   "source": [
    "#piperfgrid=GridSearchCV(piperf, param_grid=params3, cv=5)\n",
    "#piperfgrid.fit(X,y)"
   ]
  },
  {
   "cell_type": "code",
   "execution_count": 53,
   "id": "347a620f",
   "metadata": {},
   "outputs": [],
   "source": [
    "#print(piperfgrid.best_score_)\n",
    "#print(piperfgrid.best_estimator_)\n",
    "#print(piperfgrid.best_params_)"
   ]
  },
  {
   "cell_type": "markdown",
   "id": "123370ea",
   "metadata": {},
   "source": [
    "### [Conclusions and Recommendations](#Conclusions-and-Recommendations)\n",
    "\n",
    "As the introduction explains, Mr. Amir Payeebaj of ANEC-NOC has hired Bavda Consulting to develop a model in a multi-part project to analyze the customer service of Apple and Google to help choose whose model of customer service ANEC-NOC will emulate. In the engagement letter, targeting the readers of Reddit was deemed important. While part two of this project will be to poll and engage focus groups to better assess sentiment, I have targeted the subreddits for Apple and Google and queried customer service related posts to analyze. There are two key recommendations Bavda Consulting can make. First, there is a production model recommendation, Second, there is a usage recommendation.\n",
    "\n",
    "As a caution, Gridsearching was used to tune parameters. However, keywords such as Google and Apple were included in the parameters it chose. To improve upon this model, the relevant key words should have been added to the corpus of the stop words to prevent GridSearch from identifying those words from the matrices. This would allow GridSearch to be more useful. Moreover, the polling and focus groups that will be used used in Part 2 of this project will provide, with this model, a better context to help ANEC-NOC. With and without Gridsearch, several runs were made to determine the best parameters and models. The data above and explanation below use the best of it. It should be noted that Bavda Consulting has not met the metric of .90 accuracy as requested by ANEC-NOC.\n",
    "\n",
    "#### Production Model Recommendation\n",
    "\n",
    "The production model chosen is Random Forests for several reasons. First, the Cross Validation Score, Accuracy, Precision, Recall, and F1 Score were the highest for Random Forests above its competitors. As the visualizations in the confusion matrices and classification metric tables show, these scores makes a strong case. Logistic Regression is its only competitor based on these scores. KNN is well below the other two. \n",
    "\n",
    "Second, Logistic Regression and Random Forests are within each other's confidence interval. However, given the number of features used and the data size, the Logistic Regression model may be overfit and not generalize well to new data. Normally, Random Forests is typically overfit. Given that they both have the same drawback, Random Forest shows higher scores, suggesting it is better fit. \n",
    "\n",
    "Third, Logistic Regression assumes a linear relationship even if a log is used.  Given that language is not necessarily linear, this violates Logistic Regression's assumptions. Without more contextual data and reasoning, logistic regression may lead you on the wrong path.\n",
    "\n",
    "Fourth, conceptually, Random Forests's algorithm of a decision tree may more accurately reflect the algorithm of someone getting customer service. If the computer is essentially playing 20 questions, this is how people would describe their customer service experience narratives in language. They usually start with someone who tries to narrow down where the customer would go like the decision tree. The end is satisfiaction or dissatisfaction. \n",
    "\n",
    "    Cross Validation Score  Accuracy          Precision         Recall       F1 Score\n",
    "LR---0.756 +- 0.05---------------------0.756---------------------0.736---------------------0.746--------------0.741\n",
    "\n",
    "KNN-0.655 +- 0.05---------------------0.654---------------------0.604---------------------0.757--------------0.672\n",
    "\n",
    "RF---0.805 +- 0.05---------------------0.808---------------------0.801---------------------0.785------------- 0.793\n",
    "\n",
    "\n",
    "\n",
    "\n",
    "\n",
    "#### Model Usage Recommendation\n",
    "\n",
    "The first recommendation is based off a polarity analysis that was done above.  A polarity analysis is how positive or negative a group of text is. If one looks at the histogram of Google and Apple subreddits above, they nearly overlap each other. The measures of central tendency, meaning mean and median, are relatively close. Given this similarity, it may be that both Apple and Google are good models to follow. Perhaps combining their strategies might be the best for your company.\n",
    "\n",
    "The second recommendation is that instead of trying to see whether Apple or Google have a better model, focus on your customers. It may be that Apple is good for its customers, and Google is good for its customers. Finding out what your company's customers like may be key to determining whom you should imitate. Using the Random Forests model developed, Logistic Regression model in combination, or all three models averaged, enter you company's highly satisfied subreddit posts and see whether the model predicts Google or Apple. By identifying your customers' needs and desires, this model could guide you to which company to imitate. Moreover, you can identify other subreddits that contain customers you would like to seek. Use their subreddit posts as the independent variable to determine whether Google or Apple's model is most similar and better for you.\n",
    "\n",
    "The third recommendation is to gather additional data over time for several reasons. First, the forked and cloned copy of all these documents that you now have contains an automated API function. This will allow you to see if customers' tastes have changed. This will allow the model more training data to hone in on your target. Given larger amounts of data, both the random forest and logistic regression model that you now have may contain enough data to generalize better than now. Moreover, by identifying the coefficients on a better logistic regression model, these key words may guide you on the most important language. By holding all else constant, each coefficient (remember this is logged) will give you the contribution towards the model picked.\n",
    "\n",
    "This completes our analysis, conclusion, and recommendations. Please contact Bavda Consulting with any questions, suggestions and comments."
   ]
  },
  {
   "cell_type": "code",
   "execution_count": null,
   "id": "1bd2a78e",
   "metadata": {},
   "outputs": [],
   "source": []
  }
 ],
 "metadata": {
  "kernelspec": {
   "display_name": "Python 3",
   "language": "python",
   "name": "python3"
  },
  "language_info": {
   "codemirror_mode": {
    "name": "ipython",
    "version": 3
   },
   "file_extension": ".py",
   "mimetype": "text/x-python",
   "name": "python",
   "nbconvert_exporter": "python",
   "pygments_lexer": "ipython3",
   "version": "3.8.8"
  }
 },
 "nbformat": 4,
 "nbformat_minor": 5
}
