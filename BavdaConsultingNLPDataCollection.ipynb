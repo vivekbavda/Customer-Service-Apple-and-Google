{
 "cells": [
  {
   "cell_type": "markdown",
   "id": "b9f5e7be",
   "metadata": {},
   "source": [
    "# Bavda Consulting\n",
    "\n",
    "# Vivek Bavda\n",
    "\n",
    "# Apple or Google: Who Has the Customer Service Edge?\n",
    "\n",
    "# August 23, 2021\n",
    "\n",
    "## Introduction:\n",
    "\n",
    "*As you are aware Mr. Amir Payeebaj of ANEC-NOC, customer service is the cornerstone of any business. Given your desire to grow your customer base with better customer service, you've asked me in a multi-part project to analyze the customer service of Apple and Google to help you choose who you should use as the model for your organization. In our discussions, it is my understanding that you wish to target the readers of Reddit. While part two of this project will be to poll and engage focus groups to better assess sentiment, I have targeted the subreddits for Apple and Google and queried customer service related posts to analyze. As the first part of this engagement, Natural Language Processing and Python Classification Models such as Logistic Regression, K Nearest Neighbors, and a Random Forest Decision Tree will be used to determine if there is any significant difference in language that would suggest that one company's customer service responses may be better than the other. In other words, is there a difference between Google and Apple customer statements? And does it correspond to higher customer service quality or satisfaction?*"
   ]
  },
  {
   "cell_type": "markdown",
   "id": "3b42d2c2",
   "metadata": {},
   "source": [
    "## Contents:\n",
    "\n",
    "### [Introduction and Data Collection Notebook]('/BavdaConsultingNLPDataCollection')\n",
    "   - [Background](#Background)\n",
    "   - [Outside Research](#Outside-Research)\n",
    "   - [Reddit Data Sets and Data Collection](#Reddit-Data-Sets-and-Data-Collection)\n",
    "   \n",
    "### [Data Cleaning and Exploratory Data Analysis Notebook](http://localhost:8888/notebooks/BavdaConsultingNLPDataCleaning.ipynb)\n",
    "   - [Data Cleaning](http://localhost:8888/notebooks/BavdaConsultingNLPDataCleaning.ipynb)\n",
    "   - [Exploratory Data Analysis](http://localhost:8888/notebooks/BavdaConsultingNLPDataCleaning.ipynb)\n",
    "   - [Summary Statistics and Visualizations Created.](http://localhost:8888/notebooks/BavdaConsultingNLPDataCleaning.ipynb)\n",
    "   \n",
    "### [Modeling, Data Visualization, and Conclusions Notebook](http://localhost:8888/notebooks/BavdaConsultingNLPModelingConclusions.ipynb)\n",
    "   - [Modeling Caution and Methodology](http://localhost:8888/notebooks/BavdaConsultingNLPModelingConclusions.ipynb)\n",
    "   - [Visualizations and Tables](http://localhost:8888/notebooks/BavdaConsultingNLPModelingConclusions.ipynb)\n",
    "   - [Pipelines, GridsearchCV, and Automated Modeling](http://localhost:8888/notebooks/BavdaConsultingNLPModelingConclusions.ipynb)\n",
    "   - [Conclusions and Recommendations](http://localhost:8888/notebooks/BavdaConsultingNLPModelingConclusions.ipynb)"
   ]
  },
  {
   "cell_type": "markdown",
   "id": "34a94008",
   "metadata": {},
   "source": [
    "###  [Background](#Background)\n",
    "\n",
    "As a carbon copy competitor of EnerNOC, ANEC-NOC \"is a leading provider of cloud-based energy intelligence software (EIS) and services to thousands of enterprise customers and utilities globally. ANEC-NOC EIS solutions improve energy productivity by optimizing how our customers buy energy, how much they use, and when they use it. EIS for enterprise includes budgeting and procurement, utility bill management, facility optimization, visibility and reporting, project tracking, demand management, and demand response. These solutions for utilities help maximize customer engagement and the value of demand-side resources, including demand response and energy efficiency. ANEC-NOC supports customer success with its world-class professional services team and a Network Operations Center (NOC) staffed 24x7x365.\"[source](https://www.linkedin.com/company/enernoc/)\n",
    "\n",
    "Given the need for high level customer service at this operations center, ANEC-NOC has identified the Google and Apple models of success in customer service to mimic for better customer service. As Google and Apple differ in audience and style, the choice is important and  may have an impact on how ANEC-NOC proceeds. While statistical sampling and focus groups will be used in part 2, ANEC-NOC has identified Reddit as an important target base of customers. \"As of February 2021, Reddit ranks as the 18th-most-visited website in the world and 7th most-visited website in the U.S., according to Alexa Internet. About 42-49.3% of its user base comes from the United States, followed by the United Kingdom at 7.9-8.2% and Canada at 5.2-7.8%. 22 percent of U.S. adults aged 18 to 29 years, and 14 percent of U.S. adults aged 30 to 49 years, regularly use Reddit.\"[source](https://en.wikipedia.org/wiki/Reddit)\n",
    "\n",
    "With this in mind, Bavda Consulting has been hired to develop a Classification Model that will differentiate the customer service of Apple and Google from posts on their subreddits. The Google and Apple subreddits have been queried for customer service using the api function detailed below. (This api was considerate and has a 3 second wait time to prevent overwhelming the server.) Natural Language Processing will be used to prepare the data from each subreddit.  Term Frequency-Inverse Document Frequency will be used to create a matrix of language that will suggest highly used words, excluding obvious and irrelevant identifiers such as 'Google' or 'Apple.' Random Forests, K-Nearest Neighbors, and Logistic Regression, all classification models, will be used to see if there is any predictive power greater than simply taking the average of the classification of the posts. Cross Validation will be used to score the models. The closer to 1 suggests greater predictive power. The measure of significance will be .90 to meet. Cross Validation will also generate model based values to compare to actuals. These accuracy scores and a confusion matrix will also evaluate success. 90% will be the threshold. In addition, methods for sentiment and subjectivity gauged by SpaceyBlob shall be used. Overlapping histograms along with measure of central tendency such as the mean and median will evaluate the subreddits. "
   ]
  },
  {
   "cell_type": "markdown",
   "id": "41eae2f5",
   "metadata": {},
   "source": [
    "### [Outside Research](#Outside-Research)\n",
    "\n",
    "To those who are unfamiliar with Reddit, \"Reddit is an American social news aggregation, web content rating, and discussion website. Registered members submit content to the site such as links, text posts, images, and videos, which are then voted up or down by other members. Posts are organized by subject into user-created boards called \"communities\" or \"subreddits\", which cover a variety of topics such as news, politics, religion, science, movies, video games, music, books, sports, fitness, cooking, pets, and image-sharing. Submissions with more up-votes appear towards the top of their subreddit and, if they receive enough up-votes, ultimately on the site's front page.\" [source](https://en.wikipedia.org/wiki/Reddit) \n",
    "\n",
    "With this context on Reddit, the posts can be used to differentiate Apple and Google. Below are Apple and Google's vision of customer service as explained by two reporters.\n",
    "\n",
    "Carmine Gallo of Forbes explains the customer service model for Apple:\n",
    "\n",
    "The \"magic formula: Building relationships is the secret to selling more products.Many brands try to imitate the Apple Store model and most fall woefully short because they fail to recognize this simple fact—the soul of Apple is not its products. The soul of the Apple Store is its people —how they are hired, trained, and taught to engage the brand’s customers. The Apple Store relies on a very effective communication technique it adapted from The Ritz-Carlton: Steps of Service. Every employee is trained to walk a customer through five steps that spell out the acronym A-P-P-L-E (The Ritz-Carlton has three steps). I've described the steps of service in previous columns so I won’t go into detail here, but briefly the steps are: A: Approach customers with a personalized, warm welcome. P: Probe politely to understand the customer’s needs. P: Present a solution for the customer to take home today. L: Listen for and resolve issues or concerns. E: End with a fond farewell and an invitation to return. The products may change, but the steps do not.\"[source](https://www.forbes.com/sites/carminegallo/2015/04/10/how-the-apple-store-creates-irresistible-customer-experiences/?sh=61a939e617a8)\n",
    "\n",
    "\n",
    "Karen Tibar Leland of Inc. in an interview with a Google representative explains customer service:\n",
    "\n",
    "\"the Google way. Here's what he(Satadip) had to say. 1. Start by understanding engagement.'As you acquire customers, it is important to understand exactly why -- and why not -- someone is choosing your product or service, and how they feel about the transaction' says Satadip. 'One of the simplest ways small businesses can do this is to send a short online survey, after someone has signed on or after they have posed questions via Internet or phone.' ... 'Satadip suggests that small businesses use Relationship Customer Satisfaction Surveys, which contain questions that provide customers with the opportunity to give feedback on not just one or two interactions, but on how they feel about their relationship with the company -- as a whole. 2. Use the data wisely. Gathering your customer data is one thing; making it meaningful requires understating what the underlying drivers are of the levels of engagement you have uncovered. Satadip says that in some cases, it may be the quality of customer service, in others, a combination of service and product. 'The comments in the survey responses from both the most satisfied and dissatisfied customers can help provide more color into what things could be fixed to improve engagement,' he says. 3. Not all support channels are equal. In part, great customer experience is about clients being able to find the information they want and need to evaluate and use a product or service quickly and easily. 'The biggest challenge with this,' say Satadip, 'is to provide the right information to your customers in a timely manner.'  4. Deprioritize action and prioritize continuous improvement. '(P)ick three top metrics to improve, and work on those for three months.\" Once you have made meaningful progress, you can swap those out for the next most important metrics. In my experience this type of continuous improvement approach is key to gaining ground on customer satisfaction and does so in a way that keeps the company sane.' [source](https://www.inc.com/karen-tiber-leland/4-top-lessons-from-a-google-insider-on-how-to-create-happy-customers.html)\n",
    "\n"
   ]
  },
  {
   "cell_type": "markdown",
   "id": "4c1f4199",
   "metadata": {},
   "source": [
    "### [Reddit Data Sets and Data Collection](Reddit-Data-Sets-and-Data-Collection)\n",
    "\n",
    "**The Data Folder in this repository contains three datasets:**\n",
    "\n",
    "- apple818.csv: This dataset was generated on August 18, 2021 from a query of customer service in the Apple subreddit through an API custom function for Reddit.  This ensured that data was collected automatically. Moreover, the function has a three second timer to prevent overwhelming Reddit's server. This is a raw dataset that contains columns listed below. However, most of these were eliminated in data cleaning and exploratory data analysis. The key portions were the text posts. This dataset was merged with google818.csv to create modeling.csv.\n",
    "\n",
    "\n",
    "- google818.csv: This dataset was generated on August 18, 2021 from a query of customer service in the Google subreddit through an API custom function for Reddit.  This ensured that data was collected automatically. Moreover, the function has a three second timer to prevent overwhelming Reddit's server. This is a raw dataset that contains columns listed below. However, most of these were eliminated in data cleaning and exploratory data analysis. The key portions were the text posts. This dataset was merged with apple818.csv to create modeling.csv.\n",
    "\n",
    "\n",
    "- modeling.csv: This dataset was a merger between the apple818.csv and google818.csv. It includes a time column called,'created_utc', an indicator of an Apple or Google called 'apple', the reddit post language called 'text', the Reddit title called 'title', the web address called'full link', and the number of comments called 'num_comments categories. These variables are discrete except 'num_comments. This is the dataset used to model the data. It has 1,296 observations.\n",
    "\n",
    "\n",
    "- Cautionary Note: In attempting to gather data from Reddit, there were issues with the number of posts on the subreddits. While, initially, the hope was to analyze particular customer service for products like the Iphone or Homekit  and Pixel or GoogleHome, there were not enough posts in these separate subreddits to form a model. There were about 300 customer service posts for the Pixel, for example. Moreover, specifically customer service posts were difficult to query. In focusing on the bigger group of the Google and Apple subreddits, 6,000 customer service posts, 3,000 each, were gathered to test the hypothesis that there was a differentiation in customer service responses for Google and Apple. While this appeared to be enough for a significant result, steps taken the Data Cleaning and Exploratory Data Analysis reduced the dataset for modeling to 1,200. This suggested there was enough data to make a significant result. However, in the next iteration of this study, a better result would be obtained if greater data were collected. It should also be noted that with the 1200 posts, there were issues with the Jupyter Notebook's ability to handle this much data when the Gridsearch was ran. Moreover, there appears to be a file limit of 100 megabytes to save to the server. Even with these limitations, the data was gathered to generate a significant result.\n",
    "\n",
    "\n",
    "- Raw Columns Names:\n",
    ":'Unnamed: 0', 'all_awardings', 'allow_live_comments', 'author','author_flair_css_class', 'author_flair_richtext', 'author_flair_text','author_flair_type','author_fullname', 'author_is_blocked','author_patreon_flair', 'author_premium', 'awarders', 'can_mod_post','contest_mode','created_utc', 'domain', 'full_link', 'gildings', 'id','is_created_from_ads_ui', 'is_crosspostable', 'is_meta','is_original_content', 'is_reddit_media_domain','is_robot_indexable','is_self','is_video','link_flair_background_color','link_flair_css_class', 'link_flair_richtext', 'link_flair_template_id', 'link_flair_text', 'link_flair_text_color', 'link_flair_type', 'locked','media_only', 'no_follow', 'num_comments', 'num_crossposts', 'over_18','parent_whitelist_status', 'permalink', 'pinned', 'pwls','removed_by_category', 'retrieved_on', 'score', 'selftext','send_replies', 'spoiler', 'stickied', 'subreddit', 'subreddit_id','subreddit_subscribers', 'subreddit_type', 'thumbnail', 'title', 'total_awards_received', 'treatment_tags', 'upvote_ratio', 'url','whitelist_status', 'wls', 'post_hint', 'preview', 'thumbnail_height','thumbnail_width', 'url_overridden_by_dest', 'steward_reports','author_cakeday', 'suggested_sort', 'crosspost_parent','crosspost_parent_list', 'media', 'media_embed', 'secure_media','secure_media_embed', 'distinguished', 'author_flair_background_color',author_flair_text_color', 'banned_by', 'edited', 'gilded'"
   ]
  },
  {
   "cell_type": "markdown",
   "id": "8ecaeebf",
   "metadata": {},
   "source": [
    "#### Imports and Function below for code to collect data"
   ]
  },
  {
   "cell_type": "code",
   "execution_count": 1,
   "id": "868fc74d",
   "metadata": {},
   "outputs": [],
   "source": [
    "import pandas as pd\n",
    "import numpy as np\n",
    "import requests\n",
    "import time\n"
   ]
  },
  {
   "cell_type": "code",
   "execution_count": 2,
   "id": "191608e4",
   "metadata": {},
   "outputs": [],
   "source": [
    "\n",
    "def aphelp(base_url, sub, about):    \n",
    "    params = {'subreddit': sub, 'q': about, 'size': 75}\n",
    "    data = requests.get(base_url + 'submission/', params=params)\n",
    "    data=data.json()\n",
    "    posts = pd.DataFrame(data['data'])\n",
    "    time.sleep(3)\n",
    "\n",
    "    while posts.shape[0] < 3000:\n",
    "        earliest = posts['created_utc'].min()\n",
    "        print (posts.shape)\n",
    "        params = {'subreddit': sub, 'size': 75, 'before':earliest}\n",
    "        new_data = requests.get(base_url + 'submission/', params=params).json()\n",
    "        posts = pd.concat([posts,pd.DataFrame(new_data['data'])], ignore_index=True)\n",
    "        time.sleep(3)\n",
    "            \n",
    "    return posts\n",
    "#Aaron Pollard guided code-changed to adapt to my need"
   ]
  },
  {
   "cell_type": "markdown",
   "id": "62e14358",
   "metadata": {},
   "source": [
    "#### Below are the inputs for the custom function. It is automated to collect the necessary data. I have put a '#' to prevent the collection of 3000 posts each for Apple and Google customer service to start when the notebook is run. The data has already been exported to begin data cleaning and exploratory data analysis."
   ]
  },
  {
   "cell_type": "code",
   "execution_count": 3,
   "id": "952e5c4c",
   "metadata": {},
   "outputs": [],
   "source": [
    "previous_shape=(1,1)\n",
    "base_url = 'https://api.pushshift.io/reddit/search/'\n",
    "sub1='apple'\n",
    "sub2='google'\n",
    "about='customer service'\n",
    "#apple_posts = aphelp(base_url, sub1, about)\n",
    "previous_shape=(1,1)\n",
    "#google_posts = aphelp(base_url, sub2, about)"
   ]
  },
  {
   "cell_type": "code",
   "execution_count": 4,
   "id": "dfa33eae",
   "metadata": {},
   "outputs": [],
   "source": [
    "#apple_posts"
   ]
  },
  {
   "cell_type": "code",
   "execution_count": 5,
   "id": "26cc9026",
   "metadata": {},
   "outputs": [],
   "source": [
    "#apple_posts['selftext']"
   ]
  },
  {
   "cell_type": "code",
   "execution_count": 6,
   "id": "6bb04985",
   "metadata": {},
   "outputs": [],
   "source": [
    "#apple_posts.to_csv('./data/apple818.csv')"
   ]
  },
  {
   "cell_type": "code",
   "execution_count": 7,
   "id": "e6b27eb8",
   "metadata": {},
   "outputs": [],
   "source": [
    "\n",
    "#google_posts"
   ]
  },
  {
   "cell_type": "code",
   "execution_count": 8,
   "id": "50c61e83",
   "metadata": {},
   "outputs": [],
   "source": [
    "#google_posts['selftext']"
   ]
  },
  {
   "cell_type": "code",
   "execution_count": 9,
   "id": "385dfe77",
   "metadata": {},
   "outputs": [],
   "source": [
    "#google_posts.to_csv('./data/google818.csv')"
   ]
  },
  {
   "cell_type": "markdown",
   "id": "e0acb39d",
   "metadata": {},
   "source": [
    "### Please click to open the next notebook: [Data Cleaning and Exploratory Data Analysis Notebook](/BavdaConsultingNLPDataCleaning.ipynb)"
   ]
  },
  {
   "cell_type": "code",
   "execution_count": null,
   "id": "89b57b55",
   "metadata": {},
   "outputs": [],
   "source": []
  }
 ],
 "metadata": {
  "kernelspec": {
   "display_name": "Python 3",
   "language": "python",
   "name": "python3"
  },
  "language_info": {
   "codemirror_mode": {
    "name": "ipython",
    "version": 3
   },
   "file_extension": ".py",
   "mimetype": "text/x-python",
   "name": "python",
   "nbconvert_exporter": "python",
   "pygments_lexer": "ipython3",
   "version": "3.8.8"
  }
 },
 "nbformat": 4,
 "nbformat_minor": 5
}
