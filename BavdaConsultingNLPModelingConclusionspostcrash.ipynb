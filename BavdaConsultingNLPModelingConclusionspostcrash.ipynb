{
 "cells": [
  {
   "cell_type": "markdown",
   "id": "14b8b9d8",
   "metadata": {},
   "source": [
    "# [Modeling, Data Visualization, and Conclusions Notebook] (/BavdaConsultingNLPModelingConclusions)"
   ]
  },
  {
   "cell_type": "markdown",
   "id": "c9685cea",
   "metadata": {},
   "source": [
    "## Table of Contents\n",
    "\n",
    "\n",
    "### - [Modeling Caution and Methodology](Modeling-Caution-and-Methodology)\n",
    "\n",
    "### - [Stop Words & Lemmatize, Stem, and Tokenize the language.](Stop-Words-&-Lemmatize,-Stem,-Tokenize-the-language.)\n",
    "\n",
    "### - [Pipelines, GridsearchCV, and Automated Modeling](Pipelines,-GridsearchCV,-and-Automated Modeling)\n",
    "\n",
    "### - [Visualizations and Tables](Visualizations-and-Tables)\n",
    "\n",
    "### - [Conclusions and Recommendations](Conclusions-and-Recommendations)\n"
   ]
  },
  {
   "cell_type": "markdown",
   "id": "96a6afd7",
   "metadata": {},
   "source": [
    "## Table of Contents\n",
    "### [Modeling Caution and Methodology] (Modeling Caution and Methodology)\n",
    "### [Conclusions and Recommendations] (Conclusions and Recommendations)\n",
    "### [\n"
   ]
  },
  {
   "cell_type": "markdown",
   "id": "53df2664",
   "metadata": {},
   "source": [
    "### Imported Libraries "
   ]
  },
  {
   "cell_type": "code",
   "execution_count": 126,
   "id": "10e1bd43",
   "metadata": {},
   "outputs": [],
   "source": [
    "import pandas as pd\n",
    "import numpy as np\n",
    "import matplotlib.pyplot as plt\n",
    "import seaborn as sns\n",
    "import re\n",
    "from tqdm import tqdm\n",
    "from pprint import pprint\n",
    "%matplotlib inline\n",
    "import spacy\n",
    "from spacytextblob.spacytextblob import SpacyTextBlob\n",
    "\n",
    "\n",
    "from sklearn.preprocessing import StandardScaler\n",
    "from sklearn.model_selection import cross_val_score, KFold, train_test_split, cross_validate, cross_val_predict\n",
    "from sklearn.linear_model import LogisticRegression\n",
    "from sklearn.neighbors import KNeighborsClassifier\n",
    "from sklearn.ensemble import RandomForestClassifier\n",
    "from sklearn.feature_extraction.text import CountVectorizer\n",
    "from sklearn.feature_extraction.text import TfidfVectorizer\n",
    "from sklearn import metrics\n",
    "from sklearn.pipeline import Pipeline\n",
    "from sklearn.model_selection import GridSearchCV\n",
    "\n",
    "\n",
    "from nltk import PorterStemmer\n",
    "from nltk.tokenize import word_tokenize\n",
    "from nltk.stem import WordNetLemmatizer\n",
    "\n"
   ]
  },
  {
   "cell_type": "markdown",
   "id": "b4182e06",
   "metadata": {},
   "source": [
    "### Loading Cleaned Data "
   ]
  },
  {
   "cell_type": "code",
   "execution_count": 92,
   "id": "642afe4f",
   "metadata": {},
   "outputs": [],
   "source": [
    "df = pd.read_csv('./Data/modeling.csv')"
   ]
  },
  {
   "cell_type": "markdown",
   "id": "b126ee8f",
   "metadata": {},
   "source": [
    "### Variables have been defined."
   ]
  },
  {
   "cell_type": "code",
   "execution_count": 93,
   "id": "041bce63",
   "metadata": {},
   "outputs": [],
   "source": [
    "features= ['created_utc', 'text', 'num_comments', 'num_crossposts']\n",
    "target=df['apple']"
   ]
  },
  {
   "cell_type": "code",
   "execution_count": 94,
   "id": "d21f68f6",
   "metadata": {},
   "outputs": [],
   "source": [
    "X=df[features]\n",
    "y=target"
   ]
  },
  {
   "cell_type": "markdown",
   "id": "63fd1b43",
   "metadata": {},
   "source": [
    "### Baseline is below. The mean is used as the baseline. 53% of the posts are Google whereas Apple is 47%. If we used the mean to predict our target, we would be right 53% of the time. The goal of this model is to do better than the mean."
   ]
  },
  {
   "cell_type": "code",
   "execution_count": 95,
   "id": "d5511ffd",
   "metadata": {},
   "outputs": [
    {
     "data": {
      "text/plain": [
       "0.5319969159599075"
      ]
     },
     "execution_count": 95,
     "metadata": {},
     "output_type": "execute_result"
    }
   ],
   "source": [
    "1-y.mean()"
   ]
  },
  {
   "cell_type": "markdown",
   "id": "bff75edd",
   "metadata": {},
   "source": [
    "### Summary Statistics"
   ]
  },
  {
   "cell_type": "code",
   "execution_count": 96,
   "id": "aba0badb",
   "metadata": {},
   "outputs": [
    {
     "data": {
      "text/html": [
       "<div>\n",
       "<style scoped>\n",
       "    .dataframe tbody tr th:only-of-type {\n",
       "        vertical-align: middle;\n",
       "    }\n",
       "\n",
       "    .dataframe tbody tr th {\n",
       "        vertical-align: top;\n",
       "    }\n",
       "\n",
       "    .dataframe thead th {\n",
       "        text-align: right;\n",
       "    }\n",
       "</style>\n",
       "<table border=\"1\" class=\"dataframe\">\n",
       "  <thead>\n",
       "    <tr style=\"text-align: right;\">\n",
       "      <th></th>\n",
       "      <th>created_utc</th>\n",
       "      <th>num_comments</th>\n",
       "      <th>num_crossposts</th>\n",
       "    </tr>\n",
       "  </thead>\n",
       "  <tbody>\n",
       "    <tr>\n",
       "      <th>count</th>\n",
       "      <td>1.297000e+03</td>\n",
       "      <td>1297.000000</td>\n",
       "      <td>1297.0</td>\n",
       "    </tr>\n",
       "    <tr>\n",
       "      <th>mean</th>\n",
       "      <td>1.569593e+09</td>\n",
       "      <td>4.922899</td>\n",
       "      <td>0.0</td>\n",
       "    </tr>\n",
       "    <tr>\n",
       "      <th>std</th>\n",
       "      <td>9.699154e+06</td>\n",
       "      <td>29.242973</td>\n",
       "      <td>0.0</td>\n",
       "    </tr>\n",
       "    <tr>\n",
       "      <th>min</th>\n",
       "      <td>1.558282e+09</td>\n",
       "      <td>0.000000</td>\n",
       "      <td>0.0</td>\n",
       "    </tr>\n",
       "    <tr>\n",
       "      <th>25%</th>\n",
       "      <td>1.560985e+09</td>\n",
       "      <td>0.000000</td>\n",
       "      <td>0.0</td>\n",
       "    </tr>\n",
       "    <tr>\n",
       "      <th>50%</th>\n",
       "      <td>1.563473e+09</td>\n",
       "      <td>0.000000</td>\n",
       "      <td>0.0</td>\n",
       "    </tr>\n",
       "    <tr>\n",
       "      <th>75%</th>\n",
       "      <td>1.577296e+09</td>\n",
       "      <td>1.000000</td>\n",
       "      <td>0.0</td>\n",
       "    </tr>\n",
       "    <tr>\n",
       "      <th>max</th>\n",
       "      <td>1.628782e+09</td>\n",
       "      <td>531.000000</td>\n",
       "      <td>0.0</td>\n",
       "    </tr>\n",
       "  </tbody>\n",
       "</table>\n",
       "</div>"
      ],
      "text/plain": [
       "        created_utc  num_comments  num_crossposts\n",
       "count  1.297000e+03   1297.000000          1297.0\n",
       "mean   1.569593e+09      4.922899             0.0\n",
       "std    9.699154e+06     29.242973             0.0\n",
       "min    1.558282e+09      0.000000             0.0\n",
       "25%    1.560985e+09      0.000000             0.0\n",
       "50%    1.563473e+09      0.000000             0.0\n",
       "75%    1.577296e+09      1.000000             0.0\n",
       "max    1.628782e+09    531.000000             0.0"
      ]
     },
     "execution_count": 96,
     "metadata": {},
     "output_type": "execute_result"
    }
   ],
   "source": [
    "X.describe()"
   ]
  },
  {
   "cell_type": "code",
   "execution_count": 97,
   "id": "a6b752b8",
   "metadata": {},
   "outputs": [
    {
     "data": {
      "text/plain": [
       "count    1297.000000\n",
       "mean        0.468003\n",
       "std         0.499168\n",
       "min         0.000000\n",
       "25%         0.000000\n",
       "50%         0.000000\n",
       "75%         1.000000\n",
       "max         1.000000\n",
       "Name: apple, dtype: float64"
      ]
     },
     "execution_count": 97,
     "metadata": {},
     "output_type": "execute_result"
    }
   ],
   "source": [
    "y.describe()"
   ]
  },
  {
   "attachments": {
    "image.png": {
     "image/png": "[encoded data removed]"
    }
   },
   "cell_type": "markdown",
   "id": "fa18a4a4",
   "metadata": {},
   "source": [
    "\n",
    "Runs:\n",
    "- **run 1 with a max 200 features and a Max Doc Fre of 20 **: \n",
    "Cross Validation scores\n",
    "logreg 0.755 +- 0.053\n",
    "KNN 0.649 +- 0.053\n",
    "RF 0.824 +- 0.053\n",
    "Log Reg\n",
    "Accuracy: 0.7548188126445644\n",
    "Precision: 0.7380560131795717\n",
    "Recall: 0.7380560131795717\n",
    "F1 Score: 0.7380560131795717\n",
    "KNN\n",
    "Accuracy: 0.6491904394757132\n",
    "Precision: 0.6305841924398625\n",
    "Recall: 0.6046128500823723\n",
    "F1 Score: 0.6173254835996635\n",
    "RF\n",
    "Accuracy: 0.818041634541249\n",
    "Precision: 0.8170940170940171\n",
    "Recall: 0.7874794069192751\n",
    "F1 Score: 0.802013422818792\n",
    "-** run 2**- with a max feature 400 max doc frequency 200\n",
    "logreg 0.746 +- 0.056\n",
    "KNN 0.591 +- 0.056\n",
    "RF 0.827 +- 0.056\n",
    "Loogreg\n",
    "Accuracy: 0.7455666923670008\n",
    "Precision: 0.7187993680884676\n",
    "Recall: 0.7495881383855024\n",
    "F1 Score: 0.7338709677419354\n",
    "KNN\n",
    "Accuracy: 0.5913646877409406\n",
    "Precision: 0.6230031948881789\n",
    "Recall: 0.3212520593080725\n",
    "F1 Score: 0.42391304347826086\n",
    "RF\n",
    "Accuracy: 0.8272937548188126\n",
    "Precision: 0.8353765323992994\n",
    "Recall: 0.785831960461285\n",
    "F1 Score: 0.8098471986417657\n",
    "run 300 300 max\n",
    "logreg 0.749 +- 0.045\n",
    "KNN 0.606 +- 0.045\n",
    "RF 0.826 +- 0.045\n",
    "Logreg\n",
    "Accuracy: 0.7455666923670008\n",
    "Precision: 0.7187993680884676\n",
    "Recall: 0.7495881383855024\n",
    "F1 Score: 0.7338709677419354\n",
    "KNN\n",
    "Accuracy: 0.6060138781804163\n",
    "Precision: 0.6111111111111112\n",
    "Recall: 0.43492586490939045\n",
    "F1 Score: 0.5081809432146295\n",
    "RF\n",
    "Accuracy: 0.8234387047031612\n",
    "Precision: 0.8225255972696246\n",
    "Recall: 0.7940691927512356\n",
    "F1 Score: 0.8080469404861694\n",
    "\n",
    "100 max doc fr 250max features\n",
    "logreg 0.756 +- 0.05\n",
    "KNN 0.655 +- 0.05\n",
    "RF 0.816 +- 0.05\n",
    "logreg\n",
    "Accuracy: 0.756360832690825\n",
    "Precision: 0.7365853658536585\n",
    "Recall: 0.7462932454695222\n",
    "F1 Score: 0.7414075286415712\n",
    "knn\n",
    "Accuracy: 0.6545875096376252\n",
    "Precision: 0.6044678055190539\n",
    "Recall: 0.7578253706754531\n",
    "F1 Score: 0.672514619883041\n",
    "rf\n",
    "Accuracy: 0.8211256746337703\n",
    "Precision: 0.8088962108731467\n",
    "Recall: 0.8088962108731467\n",
    "F1 Score: 0.8088962108731467\n",
    "nan\n",
    "Pipeline(steps=[('tfidf',\n",
    "                 TfidfVectorizer(max_df=10, max_features=50, min_df=0.01,\n",
    "                                 norm='l1', stop_words='english',\n",
    "                                 strip_accents=<built-in function ascii>,\n",
    "                                 sublinear_tf=True)),\n",
    "                ('ss', StandardScaler()),\n",
    "                ('knn',\n",
    "                 KNeighborsClassifier(metric='euclidean', n_neighbors=1))])\n",
    "{'knn__metric': 'euclidean', 'knn__n_neighbors': 1, 'knn__weights': 'uniform', 'tfidf__lowercase': True, 'tfidf__max_df': 10, 'tfidf__max_features': 50, 'tfidf__min_df': 0.01, 'tfidf__norm': 'l1', 'tfidf__stop_words': 'english', 'tfidf__strip_accents': <built-in function ascii>, 'tfidf__sublinear_tf': True}\n",
    "\n",
    "\n",
    "Pipeline(steps=[('tfidf',\n",
    "                 TfidfVectorizer(max_df=10, max_features=50, min_df=0.01,\n",
    "                                 norm='l1', stop_words='english',\n",
    "                                 strip_accents=<built-in function ascii>,\n",
    "                                 sublinear_tf=True)),\n",
    "                ('ss', StandardScaler()),\n",
    "                ('lr', LogisticRegression(penalty='l1'))])\n",
    "{'lr__penalty': 'l1', 'tfidf__lowercase': True, 'tfidf__max_df': 10, 'tfidf__max_features': 50, 'tfidf__min_df': 0.01, 'tfidf__norm': 'l1', 'tfidf__stop_words': 'english', 'tfidf__strip_accents': <built-in function ascii>, 'tfidf__sublinear_tf': True}\n",
    "\n",
    "\n",
    "nan\n",
    "Pipeline(steps=[('tfidf',\n",
    "                 TfidfVectorizer(lowercase=False, max_df=10, max_features=50,\n",
    "                                 min_df=0.01, norm='l1')),\n",
    "                ('ss', StandardScaler()),\n",
    "                ('rf',\n",
    "                 RandomForestClassifier(max_depth=range(1, 20, 5),\n",
    "                                        min_samples_leaf=range(1, 15, 5),\n",
    "                                        n_estimators=25))])\n",
    "{'rf__max_depth': range(1, 20, 5), 'rf__min_samples_leaf': range(1, 15, 5), 'rf__n_estimators': 25, 'tfidf__lowercase': False, 'tfidf__max_df': 10, 'tfidf__max_features': 50, 'tfidf__min_df': 0.01, 'tfidf__norm': 'l1', 'tfidf__stop_words': None, 'tfidf__strip_accents': None, 'tfidf__sublinear_tf': False}\n",
    "![image.png](attachment:image.png)\n",
    "Gridsearched without removal of names\n",
    "    logreg 0.914 +- 0.043\n",
    "KNN 0.773 +- 0.043\n",
    "RF 0.927 +- 0.043"
   ]
  },
  {
   "cell_type": "markdown",
   "id": "9ad7dcde",
   "metadata": {},
   "source": [
    "## "
   ]
  },
  {
   "cell_type": "markdown",
   "id": "7ac836f4",
   "metadata": {},
   "source": [
    "## [Stop Words & Lemmatize, Stem, and Tokenize the language.](Stop-Words-&-Lemmatize,-Stem,-Tokenize-the-language.)"
   ]
  },
  {
   "cell_type": "code",
   "execution_count": 98,
   "id": "fec8f3c1",
   "metadata": {},
   "outputs": [],
   "source": [
    "ps=PorterStemmer()\n",
    "df.text=df.text.apply(lambda x : ' '.join([ps.stem(w) for w in word_tokenize(x)]))"
   ]
  },
  {
   "cell_type": "code",
   "execution_count": 99,
   "id": "eebf7184",
   "metadata": {},
   "outputs": [
    {
     "data": {
      "text/plain": [
       "0       appl wi-fi rumor . so a while back i heard app...\n",
       "1       have anyon notic a massiv drop off in support ...\n",
       "2       appl is n't listen so i thought i 'd just tri ...\n",
       "3       upgrad oper system messag . hello , i am a stu...\n",
       "4       for anyon who recent got a logic board replac ...\n",
       "                              ...                        \n",
       "1292    googl timelin issu . for mani month timelin ha...\n",
       "1293    bill and hillari clinton . i hope i live long ...\n",
       "1294    safesearch broken . [ http : //support.google....\n",
       "1295    help me make a list of `` flip-a-switch '' fea...\n",
       "1296    need help ( softwar engin ) . hi , my name is ...\n",
       "Name: text, Length: 1297, dtype: object"
      ]
     },
     "execution_count": 99,
     "metadata": {},
     "output_type": "execute_result"
    }
   ],
   "source": [
    "df.text"
   ]
  },
  {
   "cell_type": "code",
   "execution_count": 100,
   "id": "3b59b145",
   "metadata": {},
   "outputs": [],
   "source": [
    "tfidf= TfidfVectorizer(strip_accents=ascii, lowercase = True,\n",
    "                       stop_words='english', max_df=100.0,\n",
    "                        min_df=.01, max_features=250, \n",
    "                       norm='l1', sublinear_tf=True) \n",
    "tfidf.fit(df.text)\n",
    "dft= pd.DataFrame(tfidf.transform(df.text).todense(), columns =tfidf.get_feature_names())"
   ]
  },
  {
   "cell_type": "code",
   "execution_count": 101,
   "id": "da4b85ae",
   "metadata": {},
   "outputs": [
    {
     "data": {
      "text/plain": [
       "'wa i hack ? if so , what do i do ? . i ’ m sorri if the flair or the post don ’ t belong here , but i dunno where to go instead . i got an email today say that my appl id wa use to sign into a complet unrecogn iphon 6 somewher . i don ’ t think it ’ s a scam email , and it fit with anoth email i got from googl say that someon tri to access my account from malaysia but it wa block . i don ’ t think i have ani credit card detail or anyth on thi account , but what should i do from here ?'"
      ]
     },
     "execution_count": 101,
     "metadata": {},
     "output_type": "execute_result"
    }
   ],
   "source": [
    "df['text'][50]"
   ]
  },
  {
   "cell_type": "code",
   "execution_count": 102,
   "id": "1beb0ccf",
   "metadata": {},
   "outputs": [
    {
     "data": {
      "text/plain": [
       "array([0])"
      ]
     },
     "execution_count": 102,
     "metadata": {},
     "output_type": "execute_result"
    }
   ],
   "source": [
    "df['num_crossposts'].unique()"
   ]
  },
  {
   "cell_type": "code",
   "execution_count": 103,
   "id": "c211da4e",
   "metadata": {},
   "outputs": [
    {
     "data": {
      "text/plain": [
       "Index(['10', '11', '13', '2019', 'abl', 'access', 'account', 'actual', 'ad',\n",
       "       'add', 'ago', 'airpod', 'allow', 'alreadi', 'alway', 'amp', 'android',\n",
       "       'ani', 'anoth', 'anyon', 'anyth', 'app', 'appl', 'apple', 'ask',\n",
       "       'assist', 'bar', 'batteri', 'becaus', 'befor', 'best', 'better', 'bit',\n",
       "       'bought', 'button', 'buy', 'ca', 'calendar', 'card', 'case', 'chang',\n",
       "       'charg', 'check', 'chrome', 'click', 'code', 'com', 'come', 'compani',\n",
       "       'complet', 'comput', 'connect', 'contact', 'creat', 'current', 'custom',\n",
       "       'data', 'day', 'delet', 'design', 'develop', 'devic', 'did', 'differ',\n",
       "       'display', 'doe', 'don', 'download', 'drive', 'els', 'email', 'end',\n",
       "       'everi', 'everyth', 'experi', 'famili', 'featur', 'feel', 'file', 'fix',\n",
       "       'game', 'gmail', 'good', 'googl', 'google', 'got', 'great', 'guy', 'ha',\n",
       "       'happen', 'help', 'hey', 'hi', 'home', 'hope', 'hour', 'howev', 'http',\n",
       "       'icloud', 'id'],\n",
       "      dtype='object')"
      ]
     },
     "execution_count": 103,
     "metadata": {},
     "output_type": "execute_result"
    }
   ],
   "source": [
    "dft.columns[0:100]"
   ]
  },
  {
   "cell_type": "code",
   "execution_count": 104,
   "id": "ac4ef153",
   "metadata": {},
   "outputs": [
    {
     "data": {
      "text/plain": [
       "Index(['imag', 'includ', 'inform', 'instead', 'io', 'ipad', 'iphon', 'issu',\n",
       "       'just', 'keyboard', 'know', 'laptop', 'left', 'let', 'life', 'like',\n",
       "       'link', 'list', 'll', 'locat', 'long', 'look', 'lot', 'mac', 'macbook',\n",
       "       'make', 'mani', 'map', 'mbp', 'messag', 'mode', 'model', 'money',\n",
       "       'month', 'music', 'need', 'new', 'news', 'noth', 'notic', 'notif',\n",
       "       'number', 'offer', 'old', 'onli', 'onlin', 'open', 'option', 'order',\n",
       "       'page', 'password', 'pay', 'peopl', 'person', 'phone', 'photo', 'pixel',\n",
       "       'place', 'play', 'pleas', 'plu', 'point', 'possibl', 'post', 'pro',\n",
       "       'problem', 'product', 'purchas', 'question', 'read', 'realli', 'reason',\n",
       "       'receiv', 'recent', 'redd', 'releas', 'remov', 'repair', 'replac',\n",
       "       'result', 'return', 'right', 'run', 'said', 'save', 'say', 'screen',\n",
       "       'search', 'send', 'sent', 'servic', 'set', 'share', 'sinc', 'site',\n",
       "       'someon', 'someth', 'start', 'stop'],\n",
       "      dtype='object')"
      ]
     },
     "execution_count": 104,
     "metadata": {},
     "output_type": "execute_result"
    }
   ],
   "source": [
    "dft.columns[101:200]"
   ]
  },
  {
   "cell_type": "code",
   "execution_count": 105,
   "id": "5869d94e",
   "metadata": {},
   "outputs": [
    {
     "data": {
      "text/plain": [
       "Index(['store', 'suggest', 'support', 'sure', 'switch', 'talk', 'tell', 'text',\n",
       "       'thank', 'thi', 'thing', 'think', 'thought', 'time', 'today', 'told',\n",
       "       'track', 'tri', 'turn', 'type', 'u2019', 'u201c', 'u201d', 'updat',\n",
       "       'upgrad', 'usb', 'use', 'user', 've', 'veri', 'version', 'video', 'wa',\n",
       "       'wait', 'want', 'watch', 'way', 'websit', 'week', 'went', 'whi',\n",
       "       'window', 'wonder', 'work', 'wrong', 'www', 'x200b', 'year', 'youtub'],\n",
       "      dtype='object')"
      ]
     },
     "execution_count": 105,
     "metadata": {},
     "output_type": "execute_result"
    }
   ],
   "source": [
    "dft.columns[201:300]"
   ]
  },
  {
   "cell_type": "code",
   "execution_count": 125,
   "id": "145868f1",
   "metadata": {},
   "outputs": [
    {
     "ename": "KeyError",
     "evalue": "\"['airpod' 'android' 'appl' 'apple' 'chrome' 'gmail' 'googl' 'google'\\n 'icloud' 'ipad' 'iphon' 'macbook' 'mac' 'iphon' 'pixel' 'youtub'] not found in axis\"",
     "output_type": "error",
     "traceback": [
      "\u001b[0;31m---------------------------------------------------------------------------\u001b[0m",
      "\u001b[0;31mKeyError\u001b[0m                                  Traceback (most recent call last)",
      "\u001b[0;32m<ipython-input-125-3d532944cf43>\u001b[0m in \u001b[0;36m<module>\u001b[0;34m\u001b[0m\n\u001b[0;32m----> 1\u001b[0;31m dft=dft.drop(['airpod', 'android', 'appl', 'apple', 'chrome','gmail', 'googl', 'google', 'icloud', 'ipad','iphon',\\\n\u001b[0m\u001b[1;32m      2\u001b[0m 'macbook', 'mac', 'iphon', 'pixel', 'youtub'], axis=1)\n",
      "\u001b[0;32m~/opt/anaconda3/lib/python3.8/site-packages/pandas/core/frame.py\u001b[0m in \u001b[0;36mdrop\u001b[0;34m(self, labels, axis, index, columns, level, inplace, errors)\u001b[0m\n\u001b[1;32m   4306\u001b[0m                 \u001b[0mweight\u001b[0m  \u001b[0;36m1.0\u001b[0m     \u001b[0;36m0.8\u001b[0m\u001b[0;34m\u001b[0m\u001b[0;34m\u001b[0m\u001b[0m\n\u001b[1;32m   4307\u001b[0m         \"\"\"\n\u001b[0;32m-> 4308\u001b[0;31m         return super().drop(\n\u001b[0m\u001b[1;32m   4309\u001b[0m             \u001b[0mlabels\u001b[0m\u001b[0;34m=\u001b[0m\u001b[0mlabels\u001b[0m\u001b[0;34m,\u001b[0m\u001b[0;34m\u001b[0m\u001b[0;34m\u001b[0m\u001b[0m\n\u001b[1;32m   4310\u001b[0m             \u001b[0maxis\u001b[0m\u001b[0;34m=\u001b[0m\u001b[0maxis\u001b[0m\u001b[0;34m,\u001b[0m\u001b[0;34m\u001b[0m\u001b[0;34m\u001b[0m\u001b[0m\n",
      "\u001b[0;32m~/opt/anaconda3/lib/python3.8/site-packages/pandas/core/generic.py\u001b[0m in \u001b[0;36mdrop\u001b[0;34m(self, labels, axis, index, columns, level, inplace, errors)\u001b[0m\n\u001b[1;32m   4151\u001b[0m         \u001b[0;32mfor\u001b[0m \u001b[0maxis\u001b[0m\u001b[0;34m,\u001b[0m \u001b[0mlabels\u001b[0m \u001b[0;32min\u001b[0m \u001b[0maxes\u001b[0m\u001b[0;34m.\u001b[0m\u001b[0mitems\u001b[0m\u001b[0;34m(\u001b[0m\u001b[0;34m)\u001b[0m\u001b[0;34m:\u001b[0m\u001b[0;34m\u001b[0m\u001b[0;34m\u001b[0m\u001b[0m\n\u001b[1;32m   4152\u001b[0m             \u001b[0;32mif\u001b[0m \u001b[0mlabels\u001b[0m \u001b[0;32mis\u001b[0m \u001b[0;32mnot\u001b[0m \u001b[0;32mNone\u001b[0m\u001b[0;34m:\u001b[0m\u001b[0;34m\u001b[0m\u001b[0;34m\u001b[0m\u001b[0m\n\u001b[0;32m-> 4153\u001b[0;31m                 \u001b[0mobj\u001b[0m \u001b[0;34m=\u001b[0m \u001b[0mobj\u001b[0m\u001b[0;34m.\u001b[0m\u001b[0m_drop_axis\u001b[0m\u001b[0;34m(\u001b[0m\u001b[0mlabels\u001b[0m\u001b[0;34m,\u001b[0m \u001b[0maxis\u001b[0m\u001b[0;34m,\u001b[0m \u001b[0mlevel\u001b[0m\u001b[0;34m=\u001b[0m\u001b[0mlevel\u001b[0m\u001b[0;34m,\u001b[0m \u001b[0merrors\u001b[0m\u001b[0;34m=\u001b[0m\u001b[0merrors\u001b[0m\u001b[0;34m)\u001b[0m\u001b[0;34m\u001b[0m\u001b[0;34m\u001b[0m\u001b[0m\n\u001b[0m\u001b[1;32m   4154\u001b[0m \u001b[0;34m\u001b[0m\u001b[0m\n\u001b[1;32m   4155\u001b[0m         \u001b[0;32mif\u001b[0m \u001b[0minplace\u001b[0m\u001b[0;34m:\u001b[0m\u001b[0;34m\u001b[0m\u001b[0;34m\u001b[0m\u001b[0m\n",
      "\u001b[0;32m~/opt/anaconda3/lib/python3.8/site-packages/pandas/core/generic.py\u001b[0m in \u001b[0;36m_drop_axis\u001b[0;34m(self, labels, axis, level, errors)\u001b[0m\n\u001b[1;32m   4186\u001b[0m                 \u001b[0mnew_axis\u001b[0m \u001b[0;34m=\u001b[0m \u001b[0maxis\u001b[0m\u001b[0;34m.\u001b[0m\u001b[0mdrop\u001b[0m\u001b[0;34m(\u001b[0m\u001b[0mlabels\u001b[0m\u001b[0;34m,\u001b[0m \u001b[0mlevel\u001b[0m\u001b[0;34m=\u001b[0m\u001b[0mlevel\u001b[0m\u001b[0;34m,\u001b[0m \u001b[0merrors\u001b[0m\u001b[0;34m=\u001b[0m\u001b[0merrors\u001b[0m\u001b[0;34m)\u001b[0m\u001b[0;34m\u001b[0m\u001b[0;34m\u001b[0m\u001b[0m\n\u001b[1;32m   4187\u001b[0m             \u001b[0;32melse\u001b[0m\u001b[0;34m:\u001b[0m\u001b[0;34m\u001b[0m\u001b[0;34m\u001b[0m\u001b[0m\n\u001b[0;32m-> 4188\u001b[0;31m                 \u001b[0mnew_axis\u001b[0m \u001b[0;34m=\u001b[0m \u001b[0maxis\u001b[0m\u001b[0;34m.\u001b[0m\u001b[0mdrop\u001b[0m\u001b[0;34m(\u001b[0m\u001b[0mlabels\u001b[0m\u001b[0;34m,\u001b[0m \u001b[0merrors\u001b[0m\u001b[0;34m=\u001b[0m\u001b[0merrors\u001b[0m\u001b[0;34m)\u001b[0m\u001b[0;34m\u001b[0m\u001b[0;34m\u001b[0m\u001b[0m\n\u001b[0m\u001b[1;32m   4189\u001b[0m             \u001b[0mresult\u001b[0m \u001b[0;34m=\u001b[0m \u001b[0mself\u001b[0m\u001b[0;34m.\u001b[0m\u001b[0mreindex\u001b[0m\u001b[0;34m(\u001b[0m\u001b[0;34m**\u001b[0m\u001b[0;34m{\u001b[0m\u001b[0maxis_name\u001b[0m\u001b[0;34m:\u001b[0m \u001b[0mnew_axis\u001b[0m\u001b[0;34m}\u001b[0m\u001b[0;34m)\u001b[0m\u001b[0;34m\u001b[0m\u001b[0;34m\u001b[0m\u001b[0m\n\u001b[1;32m   4190\u001b[0m \u001b[0;34m\u001b[0m\u001b[0m\n",
      "\u001b[0;32m~/opt/anaconda3/lib/python3.8/site-packages/pandas/core/indexes/base.py\u001b[0m in \u001b[0;36mdrop\u001b[0;34m(self, labels, errors)\u001b[0m\n\u001b[1;32m   5589\u001b[0m         \u001b[0;32mif\u001b[0m \u001b[0mmask\u001b[0m\u001b[0;34m.\u001b[0m\u001b[0many\u001b[0m\u001b[0;34m(\u001b[0m\u001b[0;34m)\u001b[0m\u001b[0;34m:\u001b[0m\u001b[0;34m\u001b[0m\u001b[0;34m\u001b[0m\u001b[0m\n\u001b[1;32m   5590\u001b[0m             \u001b[0;32mif\u001b[0m \u001b[0merrors\u001b[0m \u001b[0;34m!=\u001b[0m \u001b[0;34m\"ignore\"\u001b[0m\u001b[0;34m:\u001b[0m\u001b[0;34m\u001b[0m\u001b[0;34m\u001b[0m\u001b[0m\n\u001b[0;32m-> 5591\u001b[0;31m                 \u001b[0;32mraise\u001b[0m \u001b[0mKeyError\u001b[0m\u001b[0;34m(\u001b[0m\u001b[0;34mf\"{labels[mask]} not found in axis\"\u001b[0m\u001b[0;34m)\u001b[0m\u001b[0;34m\u001b[0m\u001b[0;34m\u001b[0m\u001b[0m\n\u001b[0m\u001b[1;32m   5592\u001b[0m             \u001b[0mindexer\u001b[0m \u001b[0;34m=\u001b[0m \u001b[0mindexer\u001b[0m\u001b[0;34m[\u001b[0m\u001b[0;34m~\u001b[0m\u001b[0mmask\u001b[0m\u001b[0;34m]\u001b[0m\u001b[0;34m\u001b[0m\u001b[0;34m\u001b[0m\u001b[0m\n\u001b[1;32m   5593\u001b[0m         \u001b[0;32mreturn\u001b[0m \u001b[0mself\u001b[0m\u001b[0;34m.\u001b[0m\u001b[0mdelete\u001b[0m\u001b[0;34m(\u001b[0m\u001b[0mindexer\u001b[0m\u001b[0;34m)\u001b[0m\u001b[0;34m\u001b[0m\u001b[0;34m\u001b[0m\u001b[0m\n",
      "\u001b[0;31mKeyError\u001b[0m: \"['airpod' 'android' 'appl' 'apple' 'chrome' 'gmail' 'googl' 'google'\\n 'icloud' 'ipad' 'iphon' 'macbook' 'mac' 'iphon' 'pixel' 'youtub'] not found in axis\""
     ]
    }
   ],
   "source": [
    "dft=dft.drop(['airpod', 'android', 'appl', 'apple', 'chrome','gmail', 'googl', 'google', 'icloud', 'ipad','iphon',\\\n",
    "'macbook', 'mac', 'iphon', 'pixel', 'youtub'], axis=1)\n"
   ]
  },
  {
   "cell_type": "code",
   "execution_count": 108,
   "id": "0ece36e5",
   "metadata": {},
   "outputs": [],
   "source": [
    "dft['num_comments'] = df.num_comments"
   ]
  },
  {
   "cell_type": "code",
   "execution_count": 109,
   "id": "e9a24104",
   "metadata": {},
   "outputs": [],
   "source": [
    "XX=dft"
   ]
  },
  {
   "cell_type": "code",
   "execution_count": 110,
   "id": "bc634447",
   "metadata": {},
   "outputs": [],
   "source": [
    "#standard scaler\n",
    "XXX=StandardScaler().fit_transform(XX)"
   ]
  },
  {
   "cell_type": "code",
   "execution_count": 111,
   "id": "765ad79c",
   "metadata": {},
   "outputs": [],
   "source": [
    "#init\n",
    "lr=LogisticRegression()\n",
    "knn= KNeighborsClassifier(n_neighbors=1, weights='uniform', metric='euclidean')\n",
    "rf=RandomForestClassifier(n_estimators=25, n_jobs=-1)\n"
   ]
  },
  {
   "cell_type": "code",
   "execution_count": 112,
   "id": "d9a7c3c0",
   "metadata": {},
   "outputs": [
    {
     "name": "stdout",
     "output_type": "stream",
     "text": [
      "logreg 0.756 +- 0.05\n",
      "KNN 0.655 +- 0.05\n",
      "RF 0.816 +- 0.05\n"
     ]
    }
   ],
   "source": [
    "#Cross val\n",
    "lr_scores = cross_val_score(lr, XXX, y, cv=KFold(n_splits=5, shuffle=True, random_state=42))\n",
    "knn_scores=cross_val_score(knn, XXX, y, cv=KFold(n_splits=5, shuffle=True, random_state=42))\n",
    "rf_scores=cross_val_score(rf, XXX, y, cv=KFold(n_splits=5, shuffle=True, random_state=42))\n",
    "\n",
    "print('logreg', round (lr_scores.mean(), 3), '+-', round (2 *lr_scores.std(), 3))\n",
    "print('KNN', round (knn_scores.mean(), 3), '+-', round (2 *lr_scores.std(), 3))\n",
    "print('RF', round (rf_scores.mean(), 3), '+-', round (2 *lr_scores.std(), 3))"
   ]
  },
  {
   "cell_type": "code",
   "execution_count": 247,
   "id": "7695ac20",
   "metadata": {},
   "outputs": [],
   "source": [
    "#dft.value_counts().sort_values()"
   ]
  },
  {
   "cell_type": "code",
   "execution_count": 42,
   "id": "ed062bd1",
   "metadata": {},
   "outputs": [],
   "source": [
    "dft=dft.drop(['iphon', 'macbook', 'mac', 'iphon', 'googl', 'appl', 'airpod'], axis=1)\n",
    "#'youtub', airpod', 'android', 'appl', 'apple', 'gmail', 'googl', 'google', 'icloud', 'ipad', 'iphon', 'mac',\\\n",
    "#'macbook', 'pixel'"
   ]
  },
  {
   "cell_type": "code",
   "execution_count": 113,
   "id": "ea272866",
   "metadata": {},
   "outputs": [],
   "source": [
    "lrpredictions= cross_val_predict(lr, XXX, y, cv=KFold(n_splits=5, shuffle=True, random_state=42))\n",
    "knnpredictions= cross_val_predict(knn, XXX, y, cv=KFold(n_splits=5, shuffle=True, random_state=42))\n",
    "rfpredictions= cross_val_predict(rf, XXX, y, cv=KFold(n_splits=5, shuffle=True, random_state=42))"
   ]
  },
  {
   "cell_type": "code",
   "execution_count": 231,
   "id": "a8189a9b",
   "metadata": {},
   "outputs": [],
   "source": [
    "cnf_matrix_lr=metrics.confusion_matrix(y, lrpredictions)\n",
    "cnf_matrix_lr"
   ]
  },
  {
   "cell_type": "code",
   "execution_count": 115,
   "id": "74f9e328",
   "metadata": {},
   "outputs": [
    {
     "data": {
      "text/plain": [
       "Text(0.5, 257.44, 'Predicted label')"
      ]
     },
     "execution_count": 115,
     "metadata": {},
     "output_type": "execute_result"
    },
    {
     "data": {
      "image/png": "[encoded data removed]",
      "text/plain": [
       "<Figure size 432x288 with 2 Axes>"
      ]
     },
     "metadata": {
      "needs_background": "light"
     },
     "output_type": "display_data"
    }
   ],
   "source": [
    "# name  of classes\n",
    "fig, ax = plt.subplots()\n",
    "tick_marks = np.arange(len(y))\n",
    "plt.xticks(tick_marks, y)\n",
    "plt.yticks(tick_marks, y)\n",
    "# create heatmap\n",
    "sns.heatmap(pd.DataFrame(cnf_matrix_lr), annot=True, cmap=\"YlGnBu\" ,fmt='g')\n",
    "ax.xaxis.set_label_position(\"top\")\n",
    "plt.tight_layout()\n",
    "plt.title('Confusion matrix', y=1.1)\n",
    "plt.ylabel('Actual Label')\n",
    "plt.xlabel('Predicted label')"
   ]
  },
  {
   "cell_type": "code",
   "execution_count": 116,
   "id": "04e7145c",
   "metadata": {},
   "outputs": [
    {
     "name": "stdout",
     "output_type": "stream",
     "text": [
      "Accuracy: 0.756360832690825\n",
      "Precision: 0.7365853658536585\n",
      "Recall: 0.7462932454695222\n",
      "F1 Score: 0.7414075286415712\n"
     ]
    }
   ],
   "source": [
    "print(\"Accuracy:\",metrics.accuracy_score(y, lrpredictions))\n",
    "print(\"Precision:\",metrics.precision_score(y, lrpredictions))\n",
    "print(\"Recall:\",metrics.recall_score(y, lrpredictions))\n",
    "print(\"F1 Score:\", metrics.f1_score(y, lrpredictions))"
   ]
  },
  {
   "cell_type": "code",
   "execution_count": 117,
   "id": "10c0d26f",
   "metadata": {},
   "outputs": [
    {
     "data": {
      "text/plain": [
       "array([[389, 301],\n",
       "       [147, 460]])"
      ]
     },
     "execution_count": 117,
     "metadata": {},
     "output_type": "execute_result"
    }
   ],
   "source": [
    "cnf_matrix_knn=metrics.confusion_matrix(y, knnpredictions)\n",
    "cnf_matrix_knn"
   ]
  },
  {
   "cell_type": "code",
   "execution_count": 118,
   "id": "f70ec9b3",
   "metadata": {},
   "outputs": [
    {
     "data": {
      "text/plain": [
       "Text(0.5, 257.44, 'Predicted label')"
      ]
     },
     "execution_count": 118,
     "metadata": {},
     "output_type": "execute_result"
    },
    {
     "data": {
      "image/png": "[encoded data removed]",
      "text/plain": [
       "<Figure size 432x288 with 2 Axes>"
      ]
     },
     "metadata": {
      "needs_background": "light"
     },
     "output_type": "display_data"
    }
   ],
   "source": [
    "# name  of classes\n",
    "fig, ax = plt.subplots()\n",
    "tick_marks = np.arange(len(y))\n",
    "plt.xticks(tick_marks, y)\n",
    "plt.yticks(tick_marks, y)\n",
    "# create heatmap\n",
    "sns.heatmap(pd.DataFrame(cnf_matrix_knn), annot=True, cmap=\"coolwarm\" ,fmt='g')\n",
    "ax.xaxis.set_label_position(\"top\")\n",
    "plt.tight_layout()\n",
    "plt.title('Confusion matrix', y=1.1)\n",
    "plt.ylabel('Actual Label')\n",
    "plt.xlabel('Predicted label')"
   ]
  },
  {
   "cell_type": "code",
   "execution_count": 119,
   "id": "eea3039e",
   "metadata": {},
   "outputs": [
    {
     "name": "stdout",
     "output_type": "stream",
     "text": [
      "Accuracy: 0.6545875096376252\n",
      "Precision: 0.6044678055190539\n",
      "Recall: 0.7578253706754531\n",
      "F1 Score: 0.672514619883041\n"
     ]
    }
   ],
   "source": [
    "print(\"Accuracy:\",metrics.accuracy_score(y, knnpredictions))\n",
    "print(\"Precision:\",metrics.precision_score(y, knnpredictions))\n",
    "print(\"Recall:\",metrics.recall_score(y, knnpredictions))\n",
    "print(\"F1 Score:\", metrics.f1_score(y, knnpredictions))"
   ]
  },
  {
   "cell_type": "code",
   "execution_count": 114,
   "id": "5036c600",
   "metadata": {},
   "outputs": [
    {
     "data": {
      "text/plain": [
       "array([[528, 162],\n",
       "       [154, 453]])"
      ]
     },
     "execution_count": 114,
     "metadata": {},
     "output_type": "execute_result"
    }
   ],
   "source": [
    "cnf_matrix_lr=metrics.confusion_matrix(y, lrpredictions)\n",
    "cnf_matrix_lr"
   ]
  },
  {
   "cell_type": "code",
   "execution_count": 122,
   "id": "87975ed3",
   "metadata": {},
   "outputs": [
    {
     "data": {
      "text/plain": [
       "array([[574, 116],\n",
       "       [116, 491]])"
      ]
     },
     "execution_count": 122,
     "metadata": {},
     "output_type": "execute_result"
    }
   ],
   "source": [
    "cnf_matrix_rf=metrics.confusion_matrix(y, rfpredictions)\n",
    "cnf_matrix_rf"
   ]
  },
  {
   "cell_type": "code",
   "execution_count": 123,
   "id": "a4b3ef4a",
   "metadata": {},
   "outputs": [
    {
     "data": {
      "text/plain": [
       "Text(0.5, 257.44, 'Predicted label')"
      ]
     },
     "execution_count": 123,
     "metadata": {},
     "output_type": "execute_result"
    },
    {
     "data": {
      "image/png": "[encoded data removed]",
      "text/plain": [
       "<Figure size 432x288 with 2 Axes>"
      ]
     },
     "metadata": {
      "needs_background": "light"
     },
     "output_type": "display_data"
    }
   ],
   "source": [
    "# name  of classes\n",
    "fig, ax = plt.subplots()\n",
    "tick_marks = np.arange(len(y))\n",
    "plt.xticks(tick_marks, y)\n",
    "plt.yticks(tick_marks, y)\n",
    "# create heatmap\n",
    "sns.heatmap(pd.DataFrame(cnf_matrix_rf), annot=True, cmap=\"YlGnBu\" ,fmt='g')\n",
    "ax.xaxis.set_label_position(\"top\")\n",
    "plt.tight_layout()\n",
    "plt.title('Confusion matrix', y=1.1)\n",
    "plt.ylabel('Actual Label')\n",
    "plt.xlabel('Predicted label')"
   ]
  },
  {
   "cell_type": "code",
   "execution_count": 124,
   "id": "326bf5f5",
   "metadata": {},
   "outputs": [
    {
     "name": "stdout",
     "output_type": "stream",
     "text": [
      "Accuracy: 0.8211256746337703\n",
      "Precision: 0.8088962108731467\n",
      "Recall: 0.8088962108731467\n",
      "F1 Score: 0.8088962108731467\n"
     ]
    }
   ],
   "source": [
    "print(\"Accuracy:\",metrics.accuracy_score(y, rfpredictions))\n",
    "print(\"Precision:\",metrics.precision_score(y, rfpredictions))\n",
    "print(\"Recall:\",metrics.recall_score(y, rfpredictions))\n",
    "print(\"F1 Score:\", metrics.f1_score(y, rfpredictions))"
   ]
  },
  {
   "cell_type": "code",
   "execution_count": 51,
   "id": "2678e515",
   "metadata": {},
   "outputs": [
    {
     "data": {
      "text/plain": [
       "<spacytextblob.spacytextblob.SpacyTextBlob at 0x7fa47047bd00>"
      ]
     },
     "execution_count": 51,
     "metadata": {},
     "output_type": "execute_result"
    }
   ],
   "source": [
    "# tell spaCy to use the english language\n",
    "nlp = spacy.load('en_core_web_sm')\n",
    "# add sentiment analysis to your pipeline\n",
    "nlp.add_pipe(\"spacytextblob\")"
   ]
  },
  {
   "cell_type": "code",
   "execution_count": 52,
   "id": "c142d926",
   "metadata": {},
   "outputs": [],
   "source": [
    "df['polarity']=[nlp(word)._.polarity for word in df['text']]"
   ]
  },
  {
   "cell_type": "code",
   "execution_count": 53,
   "id": "7de2a962",
   "metadata": {},
   "outputs": [],
   "source": [
    "df['subjectivity']=[nlp(word)._.subjectivity for word in df['text']]"
   ]
  },
  {
   "cell_type": "code",
   "execution_count": 54,
   "id": "c95660b5",
   "metadata": {},
   "outputs": [],
   "source": [
    "df['assessment']=[nlp(word)._.assessments for word in df['text']]"
   ]
  },
  {
   "cell_type": "code",
   "execution_count": 55,
   "id": "084f5ebd",
   "metadata": {},
   "outputs": [
    {
     "name": "stdout",
     "output_type": "stream",
     "text": [
      "RF 0.779 +- 0.059\n"
     ]
    }
   ],
   "source": [
    "print('RF', round (rf_scores.mean(), 3), '+-', round (2 *lr_scores.std(), 3))"
   ]
  },
  {
   "cell_type": "code",
   "execution_count": 86,
   "id": "69164197",
   "metadata": {},
   "outputs": [
    {
     "name": "stdout",
     "output_type": "stream",
     "text": [
      "Apple Mean Polarity:\n",
      "0.093\n",
      "Apple Median Polarity:\n",
      "0.067\n"
     ]
    },
    {
     "data": {
      "text/plain": [
       "(None, None, None, None, <AxesSubplot:>)"
      ]
     },
     "execution_count": 86,
     "metadata": {},
     "output_type": "execute_result"
    },
    {
     "data": {
      "image/png": "[encoded data removed]",
      "text/plain": [
       "<Figure size 432x288 with 1 Axes>"
      ]
     },
     "metadata": {
      "needs_background": "light"
     },
     "output_type": "display_data"
    }
   ],
   "source": [
    "print('Apple Mean Polarity:'), print(round(df['polarity'][0:606].mean(), 3)), print('Apple Median Polarity:'), print(round(df['polarity'][0:606].median(), 3)), df['polarity'][0:606].hist()"
   ]
  },
  {
   "cell_type": "code",
   "execution_count": 85,
   "id": "fea1f81f",
   "metadata": {},
   "outputs": [
    {
     "name": "stdout",
     "output_type": "stream",
     "text": [
      "Google Mean Polarity\n",
      "0.05\n",
      "Google Median Polarity\n",
      "0.0\n"
     ]
    },
    {
     "data": {
      "text/plain": [
       "(None, None, None, None, <AxesSubplot:>)"
      ]
     },
     "execution_count": 85,
     "metadata": {},
     "output_type": "execute_result"
    },
    {
     "data": {
      "image/png": "[encoded data removed]",
      "text/plain": [
       "<Figure size 432x288 with 1 Axes>"
      ]
     },
     "metadata": {
      "needs_background": "light"
     },
     "output_type": "display_data"
    }
   ],
   "source": [
    "print('Google Mean Polarity'), print(round(df['polarity'][607:1297].mean(), 3)), print('Google Median Polarity'), print(round(df['polarity'][607:1297].median(), 3)), df['polarity'][607:1297].hist()"
   ]
  },
  {
   "cell_type": "code",
   "execution_count": 339,
   "id": "b48fe4f1",
   "metadata": {},
   "outputs": [
    {
     "data": {
      "text/plain": [
       "(0.38307911761061136, 0.4056210602263233, <AxesSubplot:>)"
      ]
     },
     "execution_count": 339,
     "metadata": {},
     "output_type": "execute_result"
    },
    {
     "data": {
      "image/png": "[encoded data removed]",
      "text/plain": [
       "<Figure size 432x288 with 1 Axes>"
      ]
     },
     "metadata": {
      "needs_background": "light"
     },
     "output_type": "display_data"
    }
   ],
   "source": [
    "df['subjectivity'][0:606].mean(), df['subjectivity'][0:606].median(), df['subjectivity'][0:606].hist()"
   ]
  },
  {
   "cell_type": "code",
   "execution_count": 340,
   "id": "ea40e5d0",
   "metadata": {},
   "outputs": [
    {
     "data": {
      "text/plain": [
       "(0.36707887357085267, 0.38867653810835623, <AxesSubplot:>)"
      ]
     },
     "execution_count": 340,
     "metadata": {},
     "output_type": "execute_result"
    },
    {
     "data": {
      "image/png": "[encoded data removed]",
      "text/plain": [
       "<Figure size 432x288 with 1 Axes>"
      ]
     },
     "metadata": {
      "needs_background": "light"
     },
     "output_type": "display_data"
    }
   ],
   "source": [
    "df['subjectivity'][607:1297].mean(), df['subjectivity'][607:1297].median(), df['subjectivity'][607:1297].hist()"
   ]
  },
  {
   "cell_type": "code",
   "execution_count": 349,
   "id": "07be7edb",
   "metadata": {},
   "outputs": [
    {
     "data": {
      "text/plain": [
       "(apple\n",
       " 0    0.367079\n",
       " 1    0.383323\n",
       " Name: subjectivity, dtype: float64,\n",
       " apple\n",
       " 0    0.388677\n",
       " 1    0.405921\n",
       " Name: subjectivity, dtype: float64,\n",
       " apple\n",
       " 0    AxesSubplot(0.125,0.125;0.775x0.755)\n",
       " 1    AxesSubplot(0.125,0.125;0.775x0.755)\n",
       " Name: subjectivity, dtype: object)"
      ]
     },
     "execution_count": 349,
     "metadata": {},
     "output_type": "execute_result"
    },
    {
     "data": {
      "image/png": "[encoded data removed]",
      "text/plain": [
       "<Figure size 432x288 with 1 Axes>"
      ]
     },
     "metadata": {
      "needs_background": "light"
     },
     "output_type": "display_data"
    }
   ],
   "source": [
    "df.groupby(['apple'])['subjectivity'].mean(), df.groupby(['apple'])['subjectivity'].median(), df.groupby(['apple'])['subjectivity'].hist()"
   ]
  },
  {
   "cell_type": "code",
   "execution_count": 350,
   "id": "d18e020a",
   "metadata": {},
   "outputs": [
    {
     "data": {
      "text/plain": [
       "(apple\n",
       " 0    0.051353\n",
       " 1    0.092909\n",
       " Name: polarity, dtype: float64,\n",
       " apple\n",
       " 0    0.000000\n",
       " 1    0.066667\n",
       " Name: polarity, dtype: float64,\n",
       " apple\n",
       " 0    AxesSubplot(0.125,0.125;0.775x0.755)\n",
       " 1    AxesSubplot(0.125,0.125;0.775x0.755)\n",
       " Name: polarity, dtype: object)"
      ]
     },
     "execution_count": 350,
     "metadata": {},
     "output_type": "execute_result"
    },
    {
     "data": {
      "image/png": "[encoded data removed]",
      "text/plain": [
       "<Figure size 432x288 with 1 Axes>"
      ]
     },
     "metadata": {
      "needs_background": "light"
     },
     "output_type": "display_data"
    }
   ],
   "source": [
    "df.groupby(['apple'])['polarity'].mean(), df.groupby(['apple'])['polarity'].median(), df.groupby(['apple'])['polarity'].hist()"
   ]
  },
  {
   "cell_type": "markdown",
   "id": "4a97f939",
   "metadata": {},
   "source": [
    "## Piping and Gridsearch automation were used."
   ]
  },
  {
   "cell_type": "markdown",
   "id": "0d7fe689",
   "metadata": {},
   "source": [
    "### This is where the parameters were created for each of the three models."
   ]
  },
  {
   "cell_type": "code",
   "execution_count": 17,
   "id": "f585709d",
   "metadata": {},
   "outputs": [],
   "source": [
    "params1={'tfidf__strip_accents':[ascii], 'tfidf__lowercase':[True],\\\n",
    "         \n",
    "'tfidf__stop_words':['english'], 'tfidf__max_df':[10, 20, 50, 100, 150, 200],\\\n",
    "\n",
    "'tfidf__min_df':[.01, .05, .1, .5, 1], 'tfidf__max_features':[50, 150, 250, 300, 350],\\\n",
    "\n",
    "'tfidf__norm':['l1'], 'tfidf__sublinear_tf':[True], 'lr__penalty':['l1', 'l2']}\n",
    "\n",
    "\n",
    "params2={'tfidf__strip_accents':[ascii], 'tfidf__lowercase':[True],\\\n",
    "         \n",
    "'tfidf__stop_words':['english'], 'tfidf__max_df':[10, 20, 50, 100, 150, 200],\\\n",
    "         \n",
    "'tfidf__min_df':[.01, .05, .1, .5, 1], 'tfidf__max_features':[50, 150, 200, 300, 350],\\\n",
    "         \n",
    "'tfidf__norm':['l1'], 'tfidf__sublinear_tf':[True], 'knn__n_neighbors':range(1, 51, 10), \\\n",
    "         \n",
    "'knn__weights':['uniform', 'distance'], 'knn__metric':['euclidean','manhattan']}\n",
    "\n",
    "\n",
    "params3={'tfidf__strip_accents':[None, ascii], 'tfidf__lowercase':[False, True],\\\n",
    "         \n",
    "'tfidf__stop_words':[None, 'english'], 'tfidf__max_df':[10, 20, 50, 100, 150, 200],\\\n",
    "         \n",
    "'tfidf__min_df':[.01, .05, .1, .5, 1], 'tfidf__max_features':[50, 150, 250, 300, 350],\\\n",
    "         \n",
    "'tfidf__norm':['l1'], 'tfidf__sublinear_tf':[False, True], 'rf__max_depth': [range(1,20, 5)],\\\n",
    "\n",
    "'rf__min_samples_leaf':[range(1,15, 5)], 'rf__n_estimators':[25, 50, 100, 200]}\n"
   ]
  },
  {
   "cell_type": "code",
   "execution_count": 75,
   "id": "f1fb992a",
   "metadata": {},
   "outputs": [
    {
     "name": "stdout",
     "output_type": "stream",
     "text": [
      "Apple Mean Polarity:\n",
      "0.093\n",
      "Apple Median Polarity:\n",
      "0.067\n"
     ]
    },
    {
     "data": {
      "text/plain": [
       "(None, None, None, None, <AxesSubplot:>)"
      ]
     },
     "execution_count": 75,
     "metadata": {},
     "output_type": "execute_result"
    },
    {
     "data": {
      "image/png": "[encoded data removed]",
      "text/plain": [
       "<Figure size 432x288 with 1 Axes>"
      ]
     },
     "metadata": {
      "needs_background": "light"
     },
     "output_type": "display_data"
    }
   ],
   "source": [
    "print('Apple Mean Polarity:'), print(round(df['polarity'][0:606].mean(), 3)), print('Apple Median Polarity:'), print(round(df['polarity'][0:606].median(), 3)), df['polarity'][0:606].hist()"
   ]
  },
  {
   "cell_type": "markdown",
   "id": "aa73f3ce",
   "metadata": {},
   "source": [
    "## [Pipelines, GridsearchCV, and Automated Modeling](Pipelines, GridsearchCV, and Automated Modeling)\n",
    "### The Pipelines are instantiated, and the GridsearchCV is run. Parameters had to be reduced to prevent a crash of the notebook."
   ]
  },
  {
   "cell_type": "code",
   "execution_count": 19,
   "id": "b12cda20",
   "metadata": {},
   "outputs": [],
   "source": [
    "pipelr=Pipeline([('tfidf', TfidfVectorizer()), ('ss', StandardScaler()), ('lr', LogisticRegression())])\n",
    "pipeknn=Pipeline([('tfidf', TfidfVectorizer()), ('ss', StandardScaler()), ('knn', KNeighborsClassifier())])\n",
    "piperf=Pipeline([('tfidf', TfidfVectorizer()), ('ss', StandardScaler()), ('rf', RandomForestClassifier())])"
   ]
  },
  {
   "cell_type": "code",
   "execution_count": 87,
   "id": "ae97867d",
   "metadata": {},
   "outputs": [],
   "source": [
    "#pipelrgrid=GridSearchCV(pipelr, param_grid=params1, cv=5)\n",
    "#pipelrgrid.fit(X,y)"
   ]
  },
  {
   "cell_type": "code",
   "execution_count": 21,
   "id": "33a469c0",
   "metadata": {},
   "outputs": [
    {
     "name": "stdout",
     "output_type": "stream",
     "text": [
      "nan\n",
      "Pipeline(steps=[('tfidf',\n",
      "                 TfidfVectorizer(max_df=10, max_features=50, min_df=0.01,\n",
      "                                 norm='l1', stop_words='english',\n",
      "                                 strip_accents=<built-in function ascii>,\n",
      "                                 sublinear_tf=True)),\n",
      "                ('ss', StandardScaler()),\n",
      "                ('lr', LogisticRegression(penalty='l1'))])\n",
      "{'lr__penalty': 'l1', 'tfidf__lowercase': True, 'tfidf__max_df': 10, 'tfidf__max_features': 50, 'tfidf__min_df': 0.01, 'tfidf__norm': 'l1', 'tfidf__stop_words': 'english', 'tfidf__strip_accents': <built-in function ascii>, 'tfidf__sublinear_tf': True}\n"
     ]
    }
   ],
   "source": [
    "#print(pipelrgrid.best_score_)\n",
    "#print(pipelrgrid.best_estimator_)\n",
    "#print(pipelrgrid.best_params_)"
   ]
  },
  {
   "cell_type": "code",
   "execution_count": 89,
   "id": "3ab39cd0",
   "metadata": {},
   "outputs": [],
   "source": [
    "#pipeknngrid=GridSearchCV(pipeknn, param_grid=params2, cv=5)\n",
    "#pipeknngrid.fit(X,y)"
   ]
  },
  {
   "cell_type": "code",
   "execution_count": 88,
   "id": "f54b123a",
   "metadata": {},
   "outputs": [],
   "source": [
    "#print(pipeknngrid.best_score_)\n",
    "#print(pipeknngrid.best_estimator_)\n",
    "#print(pipeknngrid.best_params_)"
   ]
  },
  {
   "cell_type": "code",
   "execution_count": null,
   "id": "f4baa233",
   "metadata": {},
   "outputs": [],
   "source": [
    "#piperfgrid=GridSearchCV(piperf, param_grid=params3, cv=5)\n",
    "#piperfgrid.fit(X,y)"
   ]
  },
  {
   "cell_type": "code",
   "execution_count": null,
   "id": "347a620f",
   "metadata": {},
   "outputs": [],
   "source": [
    "#print(piperfgrid.best_score_)\n",
    "#print(piperfgrid.best_estimator_)\n",
    "#print(piperfgrid.best_params_)"
   ]
  },
  {
   "cell_type": "code",
   "execution_count": null,
   "id": "ff343207",
   "metadata": {},
   "outputs": [],
   "source": []
  },
  {
   "cell_type": "markdown",
   "id": "2b6d4ddb",
   "metadata": {},
   "source": [
    "## [Conclusions and Recommendations] (Conclusions and Recommendations)\n",
    "As"
   ]
  },
  {
   "cell_type": "code",
   "execution_count": 16,
   "id": "a05b219e",
   "metadata": {},
   "outputs": [
    {
     "data": {
      "text/plain": [
       "[1, 11, 21, 31, 41]"
      ]
     },
     "execution_count": 16,
     "metadata": {},
     "output_type": "execute_result"
    }
   ],
   "source": [
    "\n",
    "\n"
   ]
  },
  {
   "cell_type": "code",
   "execution_count": null,
   "id": "1fea6d41",
   "metadata": {},
   "outputs": [],
   "source": []
  }
 ],
 "metadata": {
  "kernelspec": {
   "display_name": "Python 3",
   "language": "python",
   "name": "python3"
  },
  "language_info": {
   "codemirror_mode": {
    "name": "ipython",
    "version": 3
   },
   "file_extension": ".py",
   "mimetype": "text/x-python",
   "name": "python",
   "nbconvert_exporter": "python",
   "pygments_lexer": "ipython3",
   "version": "3.8.8"
  }
 },
 "nbformat": 4,
 "nbformat_minor": 5
}
