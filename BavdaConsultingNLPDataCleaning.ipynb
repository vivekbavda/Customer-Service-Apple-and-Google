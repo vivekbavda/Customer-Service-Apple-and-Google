{
 "cells": [
  {
   "cell_type": "markdown",
   "id": "b1b99166",
   "metadata": {},
   "source": [
    "# [Data Cleaning & Exploratory Data Analysis](#'project_3/BavdaConsultingNLPDataCleaning')"
   ]
  },
  {
   "cell_type": "markdown",
   "id": "886c9ed8",
   "metadata": {},
   "source": [
    "## Table of Contents\n",
    "   - [Exploratory Data Analysis](#Exploratory-Data-Analysis)\n",
    "   - [Data Cleaning](#Data-Cleaning)\n",
    "   - [Summary Statistics and Visualizations Created.](#Summary-Statistics-and-Visualizations-Created.)\n"
   ]
  },
  {
   "cell_type": "markdown",
   "id": "1e7725ae",
   "metadata": {},
   "source": [
    "#### Import statements are below"
   ]
  },
  {
   "cell_type": "code",
   "execution_count": 1,
   "id": "e8954fb7",
   "metadata": {},
   "outputs": [],
   "source": [
    "import pandas as pd\n",
    "import numpy as np\n",
    "import matplotlib.pyplot as plt\n",
    "import seaborn as sns\n",
    "import re\n",
    "from tqdm import tqdm\n",
    "from pprint import pprint\n",
    "\n",
    "from nltk import PorterStemmer\n",
    "from nltk.tokenize import word_tokenize\n",
    "from nltk.stem import WordNetLemmatizer\n",
    "lemmatizer =WordNetLemmatizer()\n",
    "lemmatizer.lemmatize(\"cats\")\n",
    "\n",
    "from sklearn.model_selection import cross_val_score, KFold\n",
    "from sklearn.linear_model import LogisticRegression\n",
    "from sklearn.neighbors import KNeighborsClassifier\n",
    "from sklearn.ensemble import RandomForestClassifier\n",
    "from sklearn.feature_extraction.text import CountVectorizer\n",
    "from sklearn.feature_extraction.text import TfidfVectorizer\n",
    "\n"
   ]
  },
  {
   "cell_type": "markdown",
   "id": "e28d2919",
   "metadata": {},
   "source": [
    "#### Loading Datasets from Data Collection Notebook"
   ]
  },
  {
   "cell_type": "code",
   "execution_count": 2,
   "id": "189a1439",
   "metadata": {},
   "outputs": [],
   "source": [
    "dfg = pd.read_csv('./data/google818.csv')\n",
    "dfa = pd.read_csv('./data/apple818.csv')"
   ]
  },
  {
   "cell_type": "markdown",
   "id": "f94e0a96",
   "metadata": {},
   "source": [
    "### [Exploratory Data Analysis](#Exploratory-Data-Analysis)\n",
    "\n",
    "With this dataset and with Natural Language Processing in general, we venture on the difficult path of converting sentiment and language to 1's and 0's for a computer to distinguish. As a cautionary note, this is an extremely difficult process that must be recognized before any conclusion is reached. As described in the introduction and background, this is a multipart project. We will be taking polls and creating focus groups to tease out the best model for ANEC-NOC. Having explored the data, it seems likely that we will be able to distinguish between Apple and Google.  However, our stated goal of discovering who handles customer service best may be out of reach with the this natural language processing dataset. We may discover a few key words that will help us with the poll and focus groups. It may be that both handle customer service well as the outside research suggests, meaning the nuance of the type of customer may be difficult to translate. It may be that ANEC-NOCC has to decide who their target customers are more like, Google or Apple. As I explored the data, I checked variables through Unique Values, Descriptive Statistics, and Histograms. While there were several histograms, the layered histograms showed no variation in distribution, meaning the variable would not be predictive. The descriptive statistics also demonstrated this.  The posts remain the most important part of the analysis. Comments were predictive. Keeping the url was important for identification purposes."
   ]
  },
  {
   "cell_type": "markdown",
   "id": "3396dd58",
   "metadata": {},
   "source": [
    "target variable, columns mergedcheck for duplicates"
   ]
  },
  {
   "cell_type": "code",
   "execution_count": 3,
   "id": "bc3ac5dd",
   "metadata": {},
   "outputs": [
    {
     "data": {
      "text/plain": [
       "(3000, 84)"
      ]
     },
     "execution_count": 3,
     "metadata": {},
     "output_type": "execute_result"
    }
   ],
   "source": [
    "dfa.shape"
   ]
  },
  {
   "cell_type": "code",
   "execution_count": 4,
   "id": "b54d0dba",
   "metadata": {},
   "outputs": [
    {
     "data": {
      "text/plain": [
       "(3000, 84)"
      ]
     },
     "execution_count": 4,
     "metadata": {},
     "output_type": "execute_result"
    }
   ],
   "source": [
    "dfg.shape"
   ]
  },
  {
   "cell_type": "code",
   "execution_count": 5,
   "id": "e53855ea",
   "metadata": {},
   "outputs": [
    {
     "data": {
      "text/plain": [
       "Index(['Unnamed: 0', 'all_awardings', 'allow_live_comments', 'author',\n",
       "       'author_flair_css_class', 'author_flair_richtext', 'author_flair_text',\n",
       "       'author_flair_type', 'author_fullname', 'author_is_blocked',\n",
       "       'author_patreon_flair', 'author_premium', 'awarders', 'can_mod_post',\n",
       "       'contest_mode', 'created_utc', 'domain', 'full_link', 'gildings', 'id',\n",
       "       'is_created_from_ads_ui', 'is_crosspostable', 'is_meta',\n",
       "       'is_original_content', 'is_reddit_media_domain', 'is_robot_indexable',\n",
       "       'is_self', 'is_video', 'link_flair_background_color',\n",
       "       'link_flair_css_class', 'link_flair_richtext', 'link_flair_template_id',\n",
       "       'link_flair_text', 'link_flair_text_color', 'link_flair_type', 'locked',\n",
       "       'media_only', 'no_follow', 'num_comments', 'num_crossposts', 'over_18',\n",
       "       'parent_whitelist_status', 'permalink', 'pinned', 'pwls',\n",
       "       'removed_by_category', 'retrieved_on', 'score', 'selftext',\n",
       "       'send_replies', 'spoiler', 'stickied', 'subreddit', 'subreddit_id',\n",
       "       'subreddit_subscribers', 'subreddit_type', 'thumbnail', 'title',\n",
       "       'total_awards_received', 'treatment_tags', 'upvote_ratio', 'url',\n",
       "       'whitelist_status', 'wls', 'post_hint', 'preview', 'thumbnail_height',\n",
       "       'thumbnail_width', 'url_overridden_by_dest', 'steward_reports',\n",
       "       'author_cakeday', 'suggested_sort', 'crosspost_parent',\n",
       "       'crosspost_parent_list', 'media', 'media_embed', 'secure_media',\n",
       "       'secure_media_embed', 'distinguished', 'author_flair_background_color',\n",
       "       'author_flair_text_color', 'banned_by', 'edited', 'gilded'],\n",
       "      dtype='object')"
      ]
     },
     "execution_count": 5,
     "metadata": {},
     "output_type": "execute_result"
    }
   ],
   "source": [
    "dfa.columns"
   ]
  },
  {
   "cell_type": "code",
   "execution_count": 6,
   "id": "41960943",
   "metadata": {},
   "outputs": [
    {
     "data": {
      "text/plain": [
       "Index(['Unnamed: 0', 'all_awardings', 'allow_live_comments', 'author',\n",
       "       'author_flair_css_class', 'author_flair_richtext', 'author_flair_text',\n",
       "       'author_flair_type', 'author_fullname', 'author_is_blocked',\n",
       "       'author_patreon_flair', 'author_premium', 'awarders', 'can_mod_post',\n",
       "       'contest_mode', 'created_utc', 'domain', 'full_link', 'gildings', 'id',\n",
       "       'is_created_from_ads_ui', 'is_crosspostable', 'is_meta',\n",
       "       'is_original_content', 'is_reddit_media_domain', 'is_robot_indexable',\n",
       "       'is_self', 'is_video', 'link_flair_background_color',\n",
       "       'link_flair_richtext', 'link_flair_text_color', 'link_flair_type',\n",
       "       'locked', 'media_only', 'no_follow', 'num_comments', 'num_crossposts',\n",
       "       'over_18', 'parent_whitelist_status', 'permalink', 'pinned', 'pwls',\n",
       "       'retrieved_on', 'score', 'selftext', 'send_replies', 'spoiler',\n",
       "       'stickied', 'subreddit', 'subreddit_id', 'subreddit_subscribers',\n",
       "       'subreddit_type', 'thumbnail', 'title', 'total_awards_received',\n",
       "       'treatment_tags', 'upvote_ratio', 'url', 'url_overridden_by_dest',\n",
       "       'whitelist_status', 'wls', 'post_hint', 'preview',\n",
       "       'removed_by_category', 'thumbnail_height', 'thumbnail_width',\n",
       "       'link_flair_css_class', 'link_flair_text', 'media', 'media_embed',\n",
       "       'secure_media', 'secure_media_embed', 'media_metadata',\n",
       "       'author_cakeday', 'steward_reports', 'crosspost_parent',\n",
       "       'crosspost_parent_list', 'updated_utc', 'gilded',\n",
       "       'author_flair_background_color', 'author_flair_text_color',\n",
       "       'suggested_sort', 'edited', 'banned_by'],\n",
       "      dtype='object')"
      ]
     },
     "execution_count": 6,
     "metadata": {},
     "output_type": "execute_result"
    }
   ],
   "source": [
    "dfg.columns"
   ]
  },
  {
   "cell_type": "markdown",
   "id": "cea5f6d0",
   "metadata": {},
   "source": [
    "#### Creating  the target variable, 'apple', where 1 indicate Apple whereas 0 indicates Google in each dataset. "
   ]
  },
  {
   "cell_type": "code",
   "execution_count": 7,
   "id": "a2f4cdd0",
   "metadata": {},
   "outputs": [],
   "source": [
    "dfg['apple']=0\n",
    "\n",
    "dfa['apple']=1\n",
    "\n"
   ]
  },
  {
   "cell_type": "markdown",
   "id": "478eee5b",
   "metadata": {},
   "source": [
    "#### Check variables through Unique Values, Descriptive Statistics, and Histograms"
   ]
  },
  {
   "cell_type": "code",
   "execution_count": 8,
   "id": "94e93db0",
   "metadata": {},
   "outputs": [
    {
     "data": {
      "text/plain": [
       "(array([False,  True]),\n",
       " array([False,  True]),\n",
       " count      3000\n",
       " unique        2\n",
       " top       False\n",
       " freq       2986\n",
       " Name: spoiler, dtype: object,\n",
       " count      3000\n",
       " unique        2\n",
       " top       False\n",
       " freq       2995\n",
       " Name: spoiler, dtype: object)"
      ]
     },
     "execution_count": 8,
     "metadata": {},
     "output_type": "execute_result"
    }
   ],
   "source": [
    "dfg['spoiler'].unique(), dfa['spoiler'].unique(), dfg['spoiler'].describe(), dfa['spoiler'].describe()"
   ]
  },
  {
   "cell_type": "code",
   "execution_count": 9,
   "id": "b2f143b6",
   "metadata": {},
   "outputs": [
    {
     "data": {
      "text/plain": [
       "(array([nan, True], dtype=object), array([nan, True], dtype=object))"
      ]
     },
     "execution_count": 9,
     "metadata": {},
     "output_type": "execute_result"
    }
   ],
   "source": [
    "dfg['author_cakeday'].unique(), dfa['author_cakeday'].unique()"
   ]
  },
  {
   "cell_type": "code",
   "execution_count": 10,
   "id": "c595cddf",
   "metadata": {},
   "outputs": [
    {
     "data": {
      "text/plain": [
       "(array(['all_ads', 'promo_adult_nsfw'], dtype=object),\n",
       " array(['all_ads', 'promo_adult_nsfw'], dtype=object),\n",
       " <AxesSubplot:>,\n",
       " <AxesSubplot:>)"
      ]
     },
     "execution_count": 10,
     "metadata": {},
     "output_type": "execute_result"
    },
    {
     "data": {
      "image/png": "[encoded data removed]",
      "text/plain": [
       "<Figure size 432x288 with 1 Axes>"
      ]
     },
     "metadata": {
      "needs_background": "light"
     },
     "output_type": "display_data"
    }
   ],
   "source": [
    "dfg['whitelist_status'].unique(), dfa['whitelist_status'].unique(), dfg['whitelist_status'].hist(), dfa['whitelist_status'].hist()"
   ]
  },
  {
   "cell_type": "code",
   "execution_count": 11,
   "id": "9f42ab24",
   "metadata": {},
   "outputs": [
    {
     "data": {
      "text/plain": [
       "(<AxesSubplot:>, <AxesSubplot:>)"
      ]
     },
     "execution_count": 11,
     "metadata": {},
     "output_type": "execute_result"
    },
    {
     "data": {
      "image/png": "[encoded data removed]",
      "text/plain": [
       "<Figure size 432x288 with 1 Axes>"
      ]
     },
     "metadata": {
      "needs_background": "light"
     },
     "output_type": "display_data"
    }
   ],
   "source": [
    "dfg['upvote_ratio'].hist(), dfa['upvote_ratio'].hist()"
   ]
  },
  {
   "cell_type": "code",
   "execution_count": 12,
   "id": "c4c5f8a9",
   "metadata": {},
   "outputs": [
    {
     "data": {
      "text/plain": [
       "(array([   1,    3,    0,   65,    4,    6,    7,    5,   23, 1994,    2,\n",
       "           8,   36, 1999,    9,  360,   46, 1254,   34,   31,   19, 1220,\n",
       "          25,   21,  541,   11,   22,  898,  660,   13,   30,   14, 1739,\n",
       "          18,   15,   82,   28, 1619,   60,   12,  157,  483,   27,  826,\n",
       "          42, 1656,  170,  653, 2183, 1221, 1440,  255,  146,  135, 2149,\n",
       "         476,   62,   16,  254, 1219, 1302,   38,   35,  494,  974,   79,\n",
       "         216, 1857,  853,  271,  437,   17, 1455,   10,  629,   29,  449,\n",
       "         171,   26, 2129,  521, 1169, 2344,  506,   32, 1433,  744,   63,\n",
       "         475,  100, 1211,   72,  736,  162,  104, 1719, 1369, 1567, 2462,\n",
       "          37, 5880,   24, 2316,  118,   78,  945,   20,   39,  904, 1283,\n",
       "        1080, 1673,  115,   61,  942,  123,   96,  939,  185, 1579,   69,\n",
       "         472,  142, 1725,   83,   67,  672,  131,   66,  582, 1629,  367,\n",
       "          43, 1709, 1128,   55,   58,  187, 2472,   71,  224, 1781,   68,\n",
       "        1728,   57, 2009, 2746,  828,   47,   64, 1191,  426,  256, 2435,\n",
       "        2687, 2042,  349, 2234]),\n",
       " array([   1,    8,    0, 1698,    2,   65,    3,   30,    5,    6,   22,\n",
       "          68,   39, 1852,  295,   33,   10,   32,   23,  146,   82,  155,\n",
       "         136,  108, 3107,   69,   41,  440,   38,    9,  708,  580,  472]),\n",
       " <AxesSubplot:>,\n",
       " <AxesSubplot:>)"
      ]
     },
     "execution_count": 12,
     "metadata": {},
     "output_type": "execute_result"
    },
    {
     "data": {
      "image/png": "[encoded data removed]",
      "text/plain": [
       "<Figure size 432x288 with 1 Axes>"
      ]
     },
     "metadata": {
      "needs_background": "light"
     },
     "output_type": "display_data"
    }
   ],
   "source": [
    "dfg['score'].unique(), dfa['score'].unique(), dfg['score'].hist(), dfa['score'].hist()"
   ]
  },
  {
   "cell_type": "code",
   "execution_count": 13,
   "id": "a5d76a57",
   "metadata": {},
   "outputs": [
    {
     "data": {
      "text/plain": [
       "(array([6, 3]), array([6, 3]), <AxesSubplot:>, <AxesSubplot:>)"
      ]
     },
     "execution_count": 13,
     "metadata": {},
     "output_type": "execute_result"
    },
    {
     "data": {
      "image/png": "[encoded data removed]",
      "text/plain": [
       "<Figure size 432x288 with 1 Axes>"
      ]
     },
     "metadata": {
      "needs_background": "light"
     },
     "output_type": "display_data"
    }
   ],
   "source": [
    "dfg['wls'].unique(), dfa['wls'].unique(),dfg['wls'].hist(), dfa['wls'].hist()"
   ]
  },
  {
   "cell_type": "code",
   "execution_count": 14,
   "id": "65842693",
   "metadata": {},
   "outputs": [
    {
     "data": {
      "text/plain": [
       "(array([False]), array([False]))"
      ]
     },
     "execution_count": 14,
     "metadata": {},
     "output_type": "execute_result"
    }
   ],
   "source": [
    "dfg['is_meta'].unique(), dfa['is_meta'].unique()"
   ]
  },
  {
   "cell_type": "code",
   "execution_count": 15,
   "id": "1bf45536",
   "metadata": {},
   "outputs": [
    {
     "data": {
      "text/plain": [
       "(array([ True, False]),\n",
       " array([False,  True]),\n",
       " count     3000\n",
       " unique       2\n",
       " top       True\n",
       " freq      1974\n",
       " Name: is_crosspostable, dtype: object,\n",
       " count      3000\n",
       " unique        2\n",
       " top       False\n",
       " freq       1870\n",
       " Name: is_crosspostable, dtype: object)"
      ]
     },
     "execution_count": 15,
     "metadata": {},
     "output_type": "execute_result"
    }
   ],
   "source": [
    "dfg['is_crosspostable'].unique(), dfa['is_crosspostable'].unique(),dfg['is_crosspostable'].describe(), dfa['is_crosspostable'].describe()"
   ]
  },
  {
   "cell_type": "code",
   "execution_count": 16,
   "id": "cd1a8fc2",
   "metadata": {},
   "outputs": [
    {
     "data": {
      "text/plain": [
       "(array([False, nan], dtype=object), array([False, nan], dtype=object))"
      ]
     },
     "execution_count": 16,
     "metadata": {},
     "output_type": "execute_result"
    }
   ],
   "source": [
    "dfg['is_created_from_ads_ui'].unique(), dfa['is_created_from_ads_ui'].unique()"
   ]
  },
  {
   "cell_type": "code",
   "execution_count": 17,
   "id": "6a4e747a",
   "metadata": {},
   "outputs": [
    {
     "data": {
      "text/plain": [
       "(array(['{}', \"{'gid_1': 2}\", \"{'gid_3': 1}\", \"{'gid_2': 2}\",\n",
       "        \"{'gid_2': 1}\", \"{'gid_1': 1}\"], dtype=object),\n",
       " array(['{}', \"{'gid_3': 1}\", \"{'gid_2': 1}\"], dtype=object),\n",
       " <AxesSubplot:>,\n",
       " <AxesSubplot:>)"
      ]
     },
     "execution_count": 17,
     "metadata": {},
     "output_type": "execute_result"
    },
    {
     "data": {
      "image/png": "[encoded data removed]",
      "text/plain": [
       "<Figure size 432x288 with 1 Axes>"
      ]
     },
     "metadata": {
      "needs_background": "light"
     },
     "output_type": "display_data"
    }
   ],
   "source": [
    "dfg['gildings'].unique(), dfa['gildings'].unique(), dfg['gildings'].hist(), dfa['gildings'].hist()"
   ]
  },
  {
   "cell_type": "code",
   "execution_count": 18,
   "id": "4b044aea",
   "metadata": {},
   "outputs": [
    {
     "data": {
      "text/plain": [
       "(array(['reddit.com', 'newindia360.com', 'self.google', 'youtu.be',\n",
       "        'antiviruscustomercareservice.com', 'techfans.co.uk', 'i.redd.it',\n",
       "        'self.GoogleFi', 'alltfn.com', 'syrow.com', 'techpost.io',\n",
       "        'cnbc.com', 'techcrunch.com', 'link.medium.com', 'androidhire.com',\n",
       "        'youtube.com', 'popularmechanics.com', 'mangocityit.com',\n",
       "        'edition.cnn.com', 'issuu.com', 'store.outrightcrm.com',\n",
       "        'skeduhub.blogspot.com', 'i.imgur.com', 'around360tome.com',\n",
       "        'techyfest.com',\n",
       "        '/r/google/comments/cemu9w/no_more_google_ads_maybe/',\n",
       "        'theevoking.com', 'zdnet.com', 'businessinsider.sg',\n",
       "        'buyreviewservice.com', 'bbc.com', 'cnet.com', 'unlikekinds.com',\n",
       "        'technext.me', 'iamcheated.indianmoney.com', 'garmincare.com',\n",
       "        'pandaily.com', 'globebusinesscenter.com', 'breitbart.com',\n",
       "        'catchmyblogs.com', 'droid-life.com', 'wired.com',\n",
       "        'downforeveryoneorjustme.com', 'cityfalcon.com',\n",
       "        'finance.yahoo.com', '9to5google.com', 'google.com', 'twitch.tv',\n",
       "        'imgur.com', 'outrightcrm.com', 'bloomberg.com', 'ipcgroup.com.sg',\n",
       "        'login-helps.com', 'digitalinformationworld.com',\n",
       "        'midvalleycity.in', 'ultimatestealth.com', 'dpreview.com',\n",
       "        'ab7as.net', 'commonsensemedia.org', 'amazon.com', 'usazillow.com',\n",
       "        'dopetechnews.com', 'twitter.com', 'digitalphablet.com',\n",
       "        'mobile.twitter.com', 'idevice.ro', 'cakeboost.com', 'v.redd.it',\n",
       "        '/r/google/comments/cd58hf/san_sebastian_in_google_earth_studio/',\n",
       "        'tiranalajm.com', 'medium.com', 'theintercept.com', 'shoelace.nyc',\n",
       "        'bestcaptionquots.com', 'gizmodo.com', 'pymnts.com', 'canva.com',\n",
       "        'theeconomyclub.com', 'theguardian.com', 'tomsguide.com',\n",
       "        'arstechnica.com', 'fox34.com', 'ibb.co', 'techunalt.com',\n",
       "        'hooktube.com', 'smsstore.in', 'turbo-talks.blogspot.com',\n",
       "        'cointelegraph.com', 'viralbor.com', 'vrt.be',\n",
       "        'seocompanyindiablog.wordpress.com', 'analyticsindiamag.com',\n",
       "        'parsingscience.org', 'technomosis.blog', 'bradleytaunt.com',\n",
       "        'androidpolice.com', 'simpl.fyi', 'developers.googleblog.com',\n",
       "        'nytimes.com', 'myexploringlife.com',\n",
       "        'metalguard819684610.wordpress.com', 'translate.google.com',\n",
       "        'thefedupdemocrat.home.blog', 'bestdesign2hub.com',\n",
       "        'nokiapoweruser.com', 'posts.gle', 'scrabbl.com',\n",
       "        'fighterjetsworld.com', 'blog.google', 'lepetitjournal.com',\n",
       "        'theverge.com', 'seroundtable.com',\n",
       "        '/r/google/comments/caxii9/google_translation_at_its_best/',\n",
       "        'vinaytechhouse.com', 'instagram.com', 'washingtonpost.com',\n",
       "        '/r/google/comments/cam230/exclusive_podcast_app_animation/',\n",
       "        'blog.descasio.com', 'tugadar.com', 'cheapsocialmarketing.com',\n",
       "        'websolutionsz.com', 'rknsu.com', 'nypost.com', 'nexusearth.com',\n",
       "        'mixcloud.com', 'vice.com', 'cloudly.engineer', 'pcsuite.net',\n",
       "        'sievesoftware.com', 'praguetravel.co.il', 'sievesoftech.com',\n",
       "        'tuneround.com', 'self.AndroidQuestions', 'outrightsystems.org',\n",
       "        'abc.net.au', 'wrytin.com', 'xda-developers.com',\n",
       "        'fastcompany.com', 'assistant.google.com', 'pinbomb.com',\n",
       "        'seosmmblog.com', 'snag.gy', 'docs.google.com',\n",
       "        '/r/google/comments/c8sqbt/cool/', 'foxnews.com', 'axios.com',\n",
       "        'gizmopixels.com', 'dailymail.co.uk', 'gizmodo.co.uk',\n",
       "        'ahaan.co.uk', 'screenshot-magazine.com', 'reuters.com',\n",
       "        'chronicle.security', 'gizmeek.com', 'blhhitech.blogspot.com',\n",
       "        'ausassignmenthelp.wordpress.com', 'bloglovin.com',\n",
       "        'alabamatix.com',\n",
       "        '/r/google/comments/c7h48b/i_just_caugh_up_this_coollooking_plane_on_google/',\n",
       "        'zerohedge.com', 'amsterdamtravel.co.il', 'i.gyazo.com',\n",
       "        'altneuro.com', 'github.com', 'gizchina.com', 'guitricks.com',\n",
       "        'engadget.com', 'zeroanthropology.net', 'enterprisedigi.com',\n",
       "        'norbutech.com', 'newsbytesapp.com', 'web.archive.org',\n",
       "        'outline.com', 'm.youtube.com', 'storage.googleapis.com',\n",
       "        'projectveritas.com', 'dailywire.com', 'vimeo.com',\n",
       "        'brevitysoftware.com', 'cnn.com', 'gohmert.house.gov',\n",
       "        'google.co.uk', 'infinixblogs.com', 'bitchute.com',\n",
       "        'www-forbes-com.cdn.ampproject.org', 'powerlineblog.com',\n",
       "        'tv5.espn.com', 'businessinsider.com', 'udemy.com',\n",
       "        'realexamcollection.com', 'moz.com', 'archive.fo',\n",
       "        'tennesseestar.com', 't3.com', 'edensplain.com', 'lidblog.com',\n",
       "        'sololinux.es', 'webtrainingguides.com', 'dailycaller.com',\n",
       "        'go-beyond.org', 'forbes.com', 'cisomag.com', 'newsweek.com',\n",
       "        'interestingengineering.com', 'gifrun.com', 'archive.org',\n",
       "        'wsj.com', '/r/google/comments/c4r63n/i_cant_fix_this_weird_bug/',\n",
       "        'isamigrations.com', 'kboydeveloper.online', 'self.GooglePixel',\n",
       "        'mediabangladesh.net', 'beta.washingtonpost.com', 'nubela.co',\n",
       "        'simonveith.wordpress.com', 'tryviews.com',\n",
       "        'professorawais.blogspot.com', 'bayareane.ws', 'theprimetalks.com',\n",
       "        'bluemedora.com', 'fluidrank.com', 'pentamedia.ae',\n",
       "        '91mobiles.com', 'shop.spreadshirt.com', 'computerworld.com',\n",
       "        'blog.chromium.org', 'th3rdeyexr.com', 'askhelpme.com',\n",
       "        'buy5stareviews.com', 'howtogeek.com', 'security.googleblog.com',\n",
       "        'yes-lazystudentconnoisseur-fan.tumblr.com',\n",
       "        'shashwatguptapro.com', 'self.privacy', 'chrome.google.com',\n",
       "        'roseleo.wordpress.com', 'support.google.com', 'wdmtech.com',\n",
       "        'independent.co.uk', 'gsuiteupdates.googleblog.com',\n",
       "        '/r/google/comments/c1yjhc/call_me_daddy/', 'slate.com',\n",
       "        'latimes.com', 'drivingoffencedefence.co.uk',\n",
       "        'passiveresidualincomeideas.com', 'self.LocalGuides',\n",
       "        'ecosport.co.il', 'rahmanmaghrby.com',\n",
       "        '/r/google/comments/c1fszn/chuta_chutak_waterfalls_khuzdar_balochistan/',\n",
       "        'morningstar.com', 'gfycat.com', 'techinspiration.net',\n",
       "        'blog.batam.co.il', 'self.csharp', 'betanews.com',\n",
       "        'mvpatil5.blogspot.com', 'oportunidadesfinanceira.com.br',\n",
       "        'inquirer.com', 'headlinesoftoday.com', 'cryptosyringe.com',\n",
       "        'httimes.co.in',\n",
       "        '/r/google/comments/c08sue/i_dont_understand_how_or_why_i_didnt_set_this_up/',\n",
       "        'peertube.mastodon.host', 'livekaktus.com', 'webtechnicaltips.com',\n",
       "        'rozetked.me', 'lifelongprogrammer.blogspot.com',\n",
       "        'patentsandtech.com', 'ccn.com', 'usanums.com', 'seopow.net',\n",
       "        'primecustomersupportnumber.com',\n",
       "        '/r/google/comments/bzoa29/i_pressed_the_little_sound_button_to_have_a/',\n",
       "        'beincrypto.com', 'ameertech.com', 'thebipartisanpress.com',\n",
       "        'verywellfamily.com', 'fortune.com', 'spicestech.com', 'autt.in',\n",
       "        'versionmuseum.com', 'b1oxx.1jl.info', 'redbuddy.in',\n",
       "        'news.yahoo.com', 'busyness05.blogspot.com', 'fool.com',\n",
       "        'medresponsive.com', 'mercurynews.com', 'darwinmail.app',\n",
       "        'status.cloud.google.com', 'webclusion.tumblr.com',\n",
       "        'ontheaside.com', 'images.app.goo.gl', 'store.google.com',\n",
       "        'theelitepost.com', '/r/google/comments/bxicpv/um_google/',\n",
       "        'kotaku.com', 'sky-news.co.uk', 'datas-recovery.com',\n",
       "        'gsaadvantage.gov', 'deepit.com', 'scitechinfos.com',\n",
       "        'allphonesblog.com', 'blog.ikeymonitor.com', 'concettolabs.com',\n",
       "        '/r/google/comments/bwyr5u/apparently_even_the_featured_functions_dont_work/',\n",
       "        'cloud.google.com', 'topwebvn.com', 'techinfinite.in',\n",
       "        'digitaltrends.com', 'lifegrim.com', 'newswise.live', 'nj.com',\n",
       "        'youtubehatespeech.org', 'news.google.com', 'photos.app.goo.gl',\n",
       "        'self.LineageOS', 'marketwatch.com', 'dazeinfo.com',\n",
       "        'makewebbetter.com', 'newrepublic.com', 'offspring.lifehacker.com',\n",
       "        'fast.ai', 'theonion.com', 'gadgets.ndtv.com', 'bixmove.com',\n",
       "        '/r/google/comments/bw1t14/i_am_on_reddit/', 'downdetector.com',\n",
       "        'fccid.io', '/r/google/comments/bvqecm/so_i_found_a_bug/',\n",
       "        'chng.it',\n",
       "        '/r/google/comments/bvnbqw/seriously_why_are_googles_ios_apps_in_general_so/',\n",
       "        'seobanglore.advertroindia.co.in', 'techgrinch.com',\n",
       "        'patents.google.com', 'seobasics.net', 'sgy-law.co.il', 'sec.gov',\n",
       "        '/r/google/comments/bv8bk2/search_icon_animation_on_google_search_input_is/',\n",
       "        'techfunnel.com', 'appdexterity.com', 'w2ssolutions.com',\n",
       "        'sinhatechs.blogspot.com', 'get.cryptobrowser.site',\n",
       "        '/r/google/comments/buyb8d/nest_hello_gave_me_an_activity_alert_and_this_is/',\n",
       "        '/r/google/comments/buwse9/chrome_will_limit_ad_blocking_extensions_huh/',\n",
       "        'itworld.com', 'mozilla.org', 'diigo.com', 'businessinsider.in',\n",
       "        'play.google.com', '/r/google/comments/bun8bi/duo_ads_nice/',\n",
       "        'shaharyartraders.com', 'cgrundy.com', 'lemonde01net.blogspot.com',\n",
       "        'techtricknews.com',\n",
       "        '/r/google/comments/bu0ics/suitecrm_bcc_archive/',\n",
       "        'alltechbeauty.blogspot.com', 'somethingoneviral.in',\n",
       "        'skolaro.com', 'blogontop.com', 'hitechnectar.com', 'xplint.com',\n",
       "        '/r/google/comments/btl1c3/suitecrm_hide_unwanted_things/',\n",
       "        'penieltech.com', 'locabizness.com', 'self.pixel_phones',\n",
       "        'being4u.com', 'politico.eu',\n",
       "        '/r/google/comments/bta1z8/color_zap/',\n",
       "        '/r/google/comments/bt76wo/tilt_makes_the_app_done_stunner_in_oneplus/',\n",
       "        'theintelects.com', 'firebaseopensource.com', 'dailydot.com',\n",
       "        'talkingpointsmemo.com', 'bestwebsites19.com',\n",
       "        '/r/google/comments/bso7ud/this_cat_represents_huawei_company/',\n",
       "        '/r/google/comments/bsn220/cant_save_images_anymore_help/',\n",
       "        'morningconsult.com', 'anchor.fm', 'myfirstandroid.com',\n",
       "        'binaryinformatics.com', '/r/google/comments/bsgafd/google/',\n",
       "        '/r/google/comments/bsfgio/see_you_again/', 'vasxxx.mobi',\n",
       "        'getwebcanvas.com', 'brave.com', 'horsezipsworld.com',\n",
       "        'techerati.com', 'setapp.com', 'pcworld.com', 'self.googlephotos',\n",
       "        'kaltii.com', 'forums.oneplus.com', 'self.ayoub_mosta7',\n",
       "        'planetstoryline.com', 'qatarviral.net', 'utcc.utoronto.ca',\n",
       "        'abe-winter.github.io',\n",
       "        '/r/google/comments/brlwf8/document_upload_bulk_for_suitecrm_allow_numerous/',\n",
       "        'securityweek.com', 'mindbowser.com', 'afrak.com',\n",
       "        '/r/google/comments/br8d5f/suitecrm_faster_global_search_integrationbest/',\n",
       "        'infiniteprivacy.com', 'textly.ai', 'washingtondailyreport.com',\n",
       "        'techrepublic.com', 'bestsellinghk.wordpress.com',\n",
       "        'troopmessenger.com', 'thenextweb.com', 'smmsmartmarket.com',\n",
       "        'glitchybytes.gq', 'androidauthority.com', 'jasonatwood.io',\n",
       "        'wnobserver.com', 'quora.com', '55cook.tumblr.com'], dtype=object),\n",
       " array(['self.apple', 'afriglob.com', 'discussions.apple.com',\n",
       "        'cultofmac.com', '9to5mac.com', 'reuters.com', 'appleinsider.com',\n",
       "        'apps.apple.com', 'etsy.com', 'twitter.com',\n",
       "        'dogpottytrainingsecrets.000webhostapp.com', 'computerworld.com',\n",
       "        'macrumors.com', 'theregister.co.uk', 'tv.apple.com', 'forbes.com',\n",
       "        'eqmac.app', 'idevice.ro', 'notebookcheck.net',\n",
       "        'systoolsgroup.com', 'ref.surveyjunkies.co', 'pos.li',\n",
       "        'iphonehacks.com', 'ww.9to5mac.com', 'nypost.com', 'phoronix.com',\n",
       "        'youtube.com', 'tomshardware.com', 'apple.com', 'esimdb.com',\n",
       "        'telegraph.co.uk', 'paleofuture.gizmodo.com', 'nytimes.com',\n",
       "        'kevinrooke.com', 'self.ipad', 'uspto.report',\n",
       "        'businessinsider.com', 'idownloadblog.com', 'aymanjaddaa.com',\n",
       "        'threatpost.com', 'music.apple.com', 'igeeksblog.com', 'imore.com',\n",
       "        'quora.com', 'self.macbook', 'overclock3d.net', 'macstories.net',\n",
       "        'doctordatabases.com', 'macpricesaustralia.com.au',\n",
       "        'streamable.com', 'tommytoy.typepad.com', 'youtu.be',\n",
       "        'matovsky.com', 'smmsmartmarket.com', 'androbliz.net',\n",
       "        'joinfluz.app.link', 'ikea.com', 'rover.ebay.com', 'decider.com',\n",
       "        'thetechportal.com', 'flurry.com', 'm.economictimes.com',\n",
       "        'chng.it', 'flurrymobile.tumblr.com', 'templeoftech.net',\n",
       "        'cnbc.com', 'techarp.com', 'betanews.com', 'fadel.io',\n",
       "        'self.AskReddit', 'solutionfactory.in', 'reddit.com',\n",
       "        'eet-china.com', 'arstechnica.com', 'dealsandvouchers.co.uk',\n",
       "        'amazonprimecentral.com', 'fox5ny.com', 'podearcase.com',\n",
       "        'pcmag.com', 'medium.com', 'makezens.com', 'ifixit.com',\n",
       "        'self.AppleMusic', 'petapixel.com', 'erudipedia.co.uk',\n",
       "        'leadmy.pl', 'theverge.com', 'bloomberg.com',\n",
       "        'iphone.appleinsider.com', 'wsbtv.com', 'decrypt.co',\n",
       "        'pocket-lint.com', 'link.medium.com', 'rprna.com',\n",
       "        'thorcinema.com', 'core.telegram.org', 'cdn.discordapp.com',\n",
       "        'gizmodo.com', 'self.QueenOfFarNorth', 'amazon.com', 'fortune.com',\n",
       "        'spencerdailey.com', 'sensortower.com', 'gsmarena.com',\n",
       "        'm.gsmarena.com', 'self.airpods', 'self.Advice', 'mnml.shop',\n",
       "        'projectchanachai.weebly.com', 'markets.businessinsider.com',\n",
       "        'warriortradingnews.com', 'media.thinknum.com', 'heraldplanet.com',\n",
       "        'researchandcare.org', 'bgr.com', 'econotimes.com',\n",
       "        'straitstimes.com', 'usatoday.com', 'asia.nikkei.com',\n",
       "        'self.Showerthoughts', 'self.AppleCard', 'adamleithp.github.io',\n",
       "        'vice.com', 'indiafinancenews.com', 'btitech.co', 'facebook.com',\n",
       "        'topclassactions.com', 'musa11971.github.io', 'wccftech.com',\n",
       "        'pasteboard.co', 'souqvia.com', 'self.hardware',\n",
       "        'chromeunboxed.com', nan, 'mjtsai.com', 'safeguarde.com',\n",
       "        'apple.news', 'geekpasion.com', 'souq-olx.com', 'letgo.onelink.me',\n",
       "        'respawnfirst.com', 'self.applehelp', 'edmtunes.com',\n",
       "        'counterpointresearch.com', 'self.Roku', 'forums.macrumors.com',\n",
       "        'self.AppleWatch', 'slashdot.org', 'pinterest.com',\n",
       "        'hollywoodreporter.com', 'self.ios', 'photos.google.com',\n",
       "        'dailymail.co.uk', 'self.iCloud', 'objective-see.com', 'yahoo.com',\n",
       "        'viralmag.co.uk', 'lunaranimation.com', 'economist.com',\n",
       "        'setup.icloud.com', 'self.macbookpro', 'blurspy.com',\n",
       "        'finance.yahoo.com', 'sammobile.com', 'engadget.com',\n",
       "        'tomsguide.com', 'in.mashable.com', 'barrons.com', 'self.Amd',\n",
       "        'geeksgyaan.com', 'stephencoyle.net', 'washingtonpost.com',\n",
       "        'm.youtube.com', 'gearpatrol.com', 'self.podcasts',\n",
       "        'mobile.twitter.com', 'huaweicentral.com', 'inc.com',\n",
       "        'phukieniphonex.com', 'tanhoangminh.net', 'zdnet.com',\n",
       "        'macdailynews.com', 'ww.electrek.co', 'techcrunch.com',\n",
       "        'bbngnews.com', 'troop180.info', 'icloud.com', 'stromvalget.no',\n",
       "        'techdailystuff.com', 'careerfinder4you.blogspot.com', 'wsj.com',\n",
       "        'manuals.info.apple.com', 'itunes.apple.com', 'support.apple.com',\n",
       "        'macworld.com', 'polding.eu', 'macworld.co.uk',\n",
       "        'taiwannews.com.tw', 'insidetheauction.000webhostapp.com',\n",
       "        'coinqrcode.com', 'lapcatsoftware.com', 'narcity.com',\n",
       "        'eclecticlight.co', 'zigbeealliance.org', 'browser.geekbench.com',\n",
       "        'in.pinterest.com', 'refurb.me', 'walmart.com', 'newswire.ca',\n",
       "        'kickstarter.com', 'bestbuy.com', 'gofundme.com', 'artstation.com',\n",
       "        'theguardian.com', 'linkedin.com', 'mobilemodegaming.com',\n",
       "        'costco.com', 'self.Casetify', 'vox.com', 'ft.com',\n",
       "        'businessinsider.de', 'appscanlab.com', 'slideshare.net',\n",
       "        'vrscomputers.com', 'lucianmarin.com', 'currys.co.uk',\n",
       "        'inputmag.com', 'fivestars.blog', 'github.com',\n",
       "        'smartphoneidea.com', 'istorenow.com', 'blog.vincentlaforet.com',\n",
       "        'time.com', 'surveygizmo.eu', 'nintendosmash.com',\n",
       "        'businessassociate.net',\n",
       "        'a1502-2015-macbook-pro-13-trackpad-cable-failure.ks.fastmail.com.au',\n",
       "        'folklore.org', 'self.AirpodsPro', 'self.jailbreak', 'pcgamer.com',\n",
       "        'technologyreview.com', 'firstpost.com', 'cellebrite.com',\n",
       "        'timesofindia.indiatimes.com'], dtype=object))"
      ]
     },
     "execution_count": 18,
     "metadata": {},
     "output_type": "execute_result"
    }
   ],
   "source": [
    "dfg['domain'].unique(), dfa['domain'].unique()"
   ]
  },
  {
   "cell_type": "code",
   "execution_count": 19,
   "id": "2416ab95",
   "metadata": {},
   "outputs": [
    {
     "data": {
      "text/plain": [
       "(array([False]), array([False]))"
      ]
     },
     "execution_count": 19,
     "metadata": {},
     "output_type": "execute_result"
    }
   ],
   "source": [
    "dfg['contest_mode'].unique(), dfa['contest_mode'].unique()"
   ]
  },
  {
   "cell_type": "code",
   "execution_count": 20,
   "id": "1d48bdc5",
   "metadata": {},
   "outputs": [
    {
     "data": {
      "text/plain": [
       "(array([False]), array([False]))"
      ]
     },
     "execution_count": 20,
     "metadata": {},
     "output_type": "execute_result"
    }
   ],
   "source": [
    "dfg['can_mod_post'].unique(), dfa['can_mod_post'].unique()"
   ]
  },
  {
   "cell_type": "code",
   "execution_count": 21,
   "id": "b75daf14",
   "metadata": {},
   "outputs": [
    {
     "data": {
      "text/plain": [
       "(array(['[]', nan], dtype=object), array(['[]'], dtype=object))"
      ]
     },
     "execution_count": 21,
     "metadata": {},
     "output_type": "execute_result"
    }
   ],
   "source": [
    "dfg['awarders'].unique(), dfa['awarders'].unique()"
   ]
  },
  {
   "cell_type": "code",
   "execution_count": 22,
   "id": "d88882ec",
   "metadata": {},
   "outputs": [
    {
     "data": {
      "text/plain": [
       "(array(['t2_jc4zf', 't2_d4b6ghho', 't2_d9zs568w', ..., 't2_18rt9o3e',\n",
       "        't2_zb9ygv9', 't2_wsuge'], dtype=object),\n",
       " array(['t2_x0xgx', 't2_a0677f16', 't2_d2vdfudy', ..., 't2_3w511gw6',\n",
       "        't2_12m5g0', 't2_57ri43rd'], dtype=object))"
      ]
     },
     "execution_count": 22,
     "metadata": {},
     "output_type": "execute_result"
    }
   ],
   "source": [
    "dfg['author_fullname'].unique(), dfa['author_fullname'].unique()"
   ]
  },
  {
   "cell_type": "code",
   "execution_count": 23,
   "id": "fe7be7a8",
   "metadata": {},
   "outputs": [
    {
     "data": {
      "text/plain": [
       "(array(['text', nan], dtype=object),\n",
       " array(['text', 'richtext', nan], dtype=object))"
      ]
     },
     "execution_count": 23,
     "metadata": {},
     "output_type": "execute_result"
    }
   ],
   "source": [
    "dfg['author_flair_type'].unique(), dfa['author_flair_type'].unique()"
   ]
  },
  {
   "cell_type": "code",
   "execution_count": 24,
   "id": "a01ad716",
   "metadata": {},
   "outputs": [
    {
     "data": {
      "text/plain": [
       "(array([nan]), array([nan, 'Aaron'], dtype=object))"
      ]
     },
     "execution_count": 24,
     "metadata": {},
     "output_type": "execute_result"
    }
   ],
   "source": [
    "dfg['author_flair_text'].unique(), dfa['author_flair_text'].unique()"
   ]
  },
  {
   "cell_type": "code",
   "execution_count": 25,
   "id": "ffc8c602",
   "metadata": {},
   "outputs": [
    {
     "data": {
      "text/plain": [
       "(array(['[]', nan], dtype=object),\n",
       " array(['[]', \"[{'e': 'text', 't': 'Aaron'}]\", nan], dtype=object))"
      ]
     },
     "execution_count": 25,
     "metadata": {},
     "output_type": "execute_result"
    }
   ],
   "source": [
    "dfg['author_flair_richtext'].unique(), dfa['author_flair_richtext'].unique()"
   ]
  },
  {
   "cell_type": "code",
   "execution_count": 26,
   "id": "eb849525",
   "metadata": {},
   "outputs": [
    {
     "data": {
      "text/plain": [
       "(array([nan]), array([nan, 'moderator'], dtype=object))"
      ]
     },
     "execution_count": 26,
     "metadata": {},
     "output_type": "execute_result"
    }
   ],
   "source": [
    "dfg['author_flair_css_class'].unique(), dfa['author_flair_css_class'].unique()"
   ]
  },
  {
   "cell_type": "code",
   "execution_count": 27,
   "id": "badf951d",
   "metadata": {},
   "outputs": [
    {
     "data": {
      "text/plain": [
       "(array(['chazjamie', 'Reasonable-Art7398', 'instantsupports', ...,\n",
       "        'Clash-of-Youtube', 'Nikoz1745', 'ashrafshref185'], dtype=object),\n",
       " array(['dealmaker07', 'Aromatic-Attorney-86', 'menarefigs', ...,\n",
       "        'Tralewa', 'kaktus1389', 'mrgeeksquad'], dtype=object))"
      ]
     },
     "execution_count": 27,
     "metadata": {},
     "output_type": "execute_result"
    }
   ],
   "source": [
    "dfg['author'].unique(), dfa['author'].unique()"
   ]
  },
  {
   "cell_type": "code",
   "execution_count": 28,
   "id": "ceec7327",
   "metadata": {},
   "outputs": [
    {
     "data": {
      "text/plain": [
       "(array([False, nan], dtype=object), array([False,  True]))"
      ]
     },
     "execution_count": 28,
     "metadata": {},
     "output_type": "execute_result"
    }
   ],
   "source": [
    "dfg['allow_live_comments'].unique(), dfa['allow_live_comments'].unique(), "
   ]
  },
  {
   "cell_type": "code",
   "execution_count": 29,
   "id": "349235f7",
   "metadata": {},
   "outputs": [
    {
     "data": {
      "text/plain": [
       "(array([   0,    1,    2, ..., 2997, 2998, 2999]),\n",
       " array([   0,    1,    2, ..., 2997, 2998, 2999]))"
      ]
     },
     "execution_count": 29,
     "metadata": {},
     "output_type": "execute_result"
    }
   ],
   "source": [
    "dfg['Unnamed: 0'].unique(), dfa['Unnamed: 0'].unique()"
   ]
  },
  {
   "cell_type": "markdown",
   "id": "29a3b74d",
   "metadata": {},
   "source": [
    "#### Relevant columns from both identified, merged, and checked"
   ]
  },
  {
   "cell_type": "code",
   "execution_count": 30,
   "id": "8b0ec44a",
   "metadata": {},
   "outputs": [],
   "source": [
    "dfg=dfg[['created_utc', 'apple', 'selftext', 'full_link', 'url', 'id', 'num_comments', 'title', 'num_crossposts']]\n",
    "dfa=dfa[['created_utc', 'apple', 'selftext', 'full_link', 'url', 'id', 'num_comments', 'title', 'num_crossposts']]"
   ]
  },
  {
   "cell_type": "code",
   "execution_count": 31,
   "id": "93733a4e",
   "metadata": {
    "scrolled": true
   },
   "outputs": [
    {
     "data": {
      "text/html": [
       "<div>\n",
       "<style scoped>\n",
       "    .dataframe tbody tr th:only-of-type {\n",
       "        vertical-align: middle;\n",
       "    }\n",
       "\n",
       "    .dataframe tbody tr th {\n",
       "        vertical-align: top;\n",
       "    }\n",
       "\n",
       "    .dataframe thead th {\n",
       "        text-align: right;\n",
       "    }\n",
       "</style>\n",
       "<table border=\"1\" class=\"dataframe\">\n",
       "  <thead>\n",
       "    <tr style=\"text-align: right;\">\n",
       "      <th></th>\n",
       "      <th>created_utc</th>\n",
       "      <th>apple</th>\n",
       "      <th>selftext</th>\n",
       "      <th>full_link</th>\n",
       "      <th>url</th>\n",
       "      <th>id</th>\n",
       "      <th>num_comments</th>\n",
       "      <th>title</th>\n",
       "      <th>num_crossposts</th>\n",
       "    </tr>\n",
       "  </thead>\n",
       "  <tbody>\n",
       "    <tr>\n",
       "      <th>0</th>\n",
       "      <td>1629169721</td>\n",
       "      <td>1</td>\n",
       "      <td>[removed]</td>\n",
       "      <td>https://www.reddit.com/r/apple/comments/p5vi7i...</td>\n",
       "      <td>https://www.reddit.com/r/apple/comments/p5vi7i...</td>\n",
       "      <td>p5vi7i</td>\n",
       "      <td>0</td>\n",
       "      <td>Citizens one + Apple customer service issues</td>\n",
       "      <td>0</td>\n",
       "    </tr>\n",
       "    <tr>\n",
       "      <th>1</th>\n",
       "      <td>1628782441</td>\n",
       "      <td>1</td>\n",
       "      <td>So a while back I heard Apple might be coming ...</td>\n",
       "      <td>https://www.reddit.com/r/apple/comments/p329rb...</td>\n",
       "      <td>https://www.reddit.com/r/apple/comments/p329rb...</td>\n",
       "      <td>p329rb</td>\n",
       "      <td>2</td>\n",
       "      <td>Apple Wi-Fi rumors</td>\n",
       "      <td>0</td>\n",
       "    </tr>\n",
       "    <tr>\n",
       "      <th>2</th>\n",
       "      <td>1627573674</td>\n",
       "      <td>1</td>\n",
       "      <td>[removed]</td>\n",
       "      <td>https://www.reddit.com/r/apple/comments/ou02cq...</td>\n",
       "      <td>https://www.reddit.com/r/apple/comments/ou02cq...</td>\n",
       "      <td>ou02cq</td>\n",
       "      <td>2</td>\n",
       "      <td>Does Apple Outsource All Customer Service Over...</td>\n",
       "      <td>0</td>\n",
       "    </tr>\n",
       "    <tr>\n",
       "      <th>3</th>\n",
       "      <td>1626632988</td>\n",
       "      <td>1</td>\n",
       "      <td>[removed]</td>\n",
       "      <td>https://www.reddit.com/r/apple/comments/omwb6q...</td>\n",
       "      <td>https://www.reddit.com/r/apple/comments/omwb6q...</td>\n",
       "      <td>omwb6q</td>\n",
       "      <td>0</td>\n",
       "      <td>This Apple customer service rep. ❤️</td>\n",
       "      <td>0</td>\n",
       "    </tr>\n",
       "    <tr>\n",
       "      <th>4</th>\n",
       "      <td>1625171854</td>\n",
       "      <td>1</td>\n",
       "      <td>[removed]</td>\n",
       "      <td>https://www.reddit.com/r/apple/comments/obun7k...</td>\n",
       "      <td>https://www.reddit.com/r/apple/comments/obun7k...</td>\n",
       "      <td>obun7k</td>\n",
       "      <td>1</td>\n",
       "      <td>How can I communicate with customer service?</td>\n",
       "      <td>0</td>\n",
       "    </tr>\n",
       "    <tr>\n",
       "      <th>...</th>\n",
       "      <td>...</td>\n",
       "      <td>...</td>\n",
       "      <td>...</td>\n",
       "      <td>...</td>\n",
       "      <td>...</td>\n",
       "      <td>...</td>\n",
       "      <td>...</td>\n",
       "      <td>...</td>\n",
       "      <td>...</td>\n",
       "    </tr>\n",
       "    <tr>\n",
       "      <th>5995</th>\n",
       "      <td>1558290823</td>\n",
       "      <td>0</td>\n",
       "      <td>NaN</td>\n",
       "      <td>https://www.reddit.com/r/google/comments/bqkad...</td>\n",
       "      <td>https://www.quora.com/Why-do-Yelp-reviews-almo...</td>\n",
       "      <td>bqkadd</td>\n",
       "      <td>1</td>\n",
       "      <td>(4) Anochai FDM's answer to Why do Yelp review...</td>\n",
       "      <td>0</td>\n",
       "    </tr>\n",
       "    <tr>\n",
       "      <th>5996</th>\n",
       "      <td>1558287699</td>\n",
       "      <td>0</td>\n",
       "      <td>NaN</td>\n",
       "      <td>https://www.reddit.com/r/google/comments/bqjol...</td>\n",
       "      <td>https://i.redd.it/wotab45vf7z21.png</td>\n",
       "      <td>bqjolk</td>\n",
       "      <td>26</td>\n",
       "      <td>Anyone know how to fix this dark mode issue. I...</td>\n",
       "      <td>0</td>\n",
       "    </tr>\n",
       "    <tr>\n",
       "      <th>5997</th>\n",
       "      <td>1558286521</td>\n",
       "      <td>0</td>\n",
       "      <td>NaN</td>\n",
       "      <td>https://www.reddit.com/r/google/comments/bqjgk...</td>\n",
       "      <td>https://www.youtube.com/attribution_link?a=09I...</td>\n",
       "      <td>bqjgk3</td>\n",
       "      <td>0</td>\n",
       "      <td>Is The Google Home Mini Worth It In 2019?</td>\n",
       "      <td>0</td>\n",
       "    </tr>\n",
       "    <tr>\n",
       "      <th>5998</th>\n",
       "      <td>1558281690</td>\n",
       "      <td>0</td>\n",
       "      <td>Hi, my name is Nikita and I from Russia. I jus...</td>\n",
       "      <td>https://www.reddit.com/r/google/comments/bqijz...</td>\n",
       "      <td>https://www.reddit.com/r/google/comments/bqijz...</td>\n",
       "      <td>bqijzc</td>\n",
       "      <td>1</td>\n",
       "      <td>Need help (Software engineers)</td>\n",
       "      <td>0</td>\n",
       "    </tr>\n",
       "    <tr>\n",
       "      <th>5999</th>\n",
       "      <td>1558280122</td>\n",
       "      <td>0</td>\n",
       "      <td>NaN</td>\n",
       "      <td>https://www.reddit.com/r/google/comments/bqi9p...</td>\n",
       "      <td>https://55cook.tumblr.com/post/184979484721/%D...</td>\n",
       "      <td>bqi9ph</td>\n",
       "      <td>0</td>\n",
       "      <td>كيفية نطق كلمة جوجل google - How to pronounce ...</td>\n",
       "      <td>0</td>\n",
       "    </tr>\n",
       "  </tbody>\n",
       "</table>\n",
       "<p>6000 rows × 9 columns</p>\n",
       "</div>"
      ],
      "text/plain": [
       "      created_utc  apple                                           selftext  \\\n",
       "0      1629169721      1                                          [removed]   \n",
       "1      1628782441      1  So a while back I heard Apple might be coming ...   \n",
       "2      1627573674      1                                          [removed]   \n",
       "3      1626632988      1                                          [removed]   \n",
       "4      1625171854      1                                          [removed]   \n",
       "...           ...    ...                                                ...   \n",
       "5995   1558290823      0                                                NaN   \n",
       "5996   1558287699      0                                                NaN   \n",
       "5997   1558286521      0                                                NaN   \n",
       "5998   1558281690      0  Hi, my name is Nikita and I from Russia. I jus...   \n",
       "5999   1558280122      0                                                NaN   \n",
       "\n",
       "                                              full_link  \\\n",
       "0     https://www.reddit.com/r/apple/comments/p5vi7i...   \n",
       "1     https://www.reddit.com/r/apple/comments/p329rb...   \n",
       "2     https://www.reddit.com/r/apple/comments/ou02cq...   \n",
       "3     https://www.reddit.com/r/apple/comments/omwb6q...   \n",
       "4     https://www.reddit.com/r/apple/comments/obun7k...   \n",
       "...                                                 ...   \n",
       "5995  https://www.reddit.com/r/google/comments/bqkad...   \n",
       "5996  https://www.reddit.com/r/google/comments/bqjol...   \n",
       "5997  https://www.reddit.com/r/google/comments/bqjgk...   \n",
       "5998  https://www.reddit.com/r/google/comments/bqijz...   \n",
       "5999  https://www.reddit.com/r/google/comments/bqi9p...   \n",
       "\n",
       "                                                    url      id  num_comments  \\\n",
       "0     https://www.reddit.com/r/apple/comments/p5vi7i...  p5vi7i             0   \n",
       "1     https://www.reddit.com/r/apple/comments/p329rb...  p329rb             2   \n",
       "2     https://www.reddit.com/r/apple/comments/ou02cq...  ou02cq             2   \n",
       "3     https://www.reddit.com/r/apple/comments/omwb6q...  omwb6q             0   \n",
       "4     https://www.reddit.com/r/apple/comments/obun7k...  obun7k             1   \n",
       "...                                                 ...     ...           ...   \n",
       "5995  https://www.quora.com/Why-do-Yelp-reviews-almo...  bqkadd             1   \n",
       "5996                https://i.redd.it/wotab45vf7z21.png  bqjolk            26   \n",
       "5997  https://www.youtube.com/attribution_link?a=09I...  bqjgk3             0   \n",
       "5998  https://www.reddit.com/r/google/comments/bqijz...  bqijzc             1   \n",
       "5999  https://55cook.tumblr.com/post/184979484721/%D...  bqi9ph             0   \n",
       "\n",
       "                                                  title  num_crossposts  \n",
       "0          Citizens one + Apple customer service issues               0  \n",
       "1                                    Apple Wi-Fi rumors               0  \n",
       "2     Does Apple Outsource All Customer Service Over...               0  \n",
       "3                   This Apple customer service rep. ❤️               0  \n",
       "4          How can I communicate with customer service?               0  \n",
       "...                                                 ...             ...  \n",
       "5995  (4) Anochai FDM's answer to Why do Yelp review...               0  \n",
       "5996  Anyone know how to fix this dark mode issue. I...               0  \n",
       "5997          Is The Google Home Mini Worth It In 2019?               0  \n",
       "5998                     Need help (Software engineers)               0  \n",
       "5999  كيفية نطق كلمة جوجل google - How to pronounce ...               0  \n",
       "\n",
       "[6000 rows x 9 columns]"
      ]
     },
     "execution_count": 31,
     "metadata": {},
     "output_type": "execute_result"
    }
   ],
   "source": [
    "results=[dfa, dfg]\n",
    "df=pd.concat(results, ignore_index=True)\n",
    "df"
   ]
  },
  {
   "cell_type": "code",
   "execution_count": 32,
   "id": "6d22016c",
   "metadata": {},
   "outputs": [],
   "source": [
    "#remove outliers"
   ]
  },
  {
   "cell_type": "markdown",
   "id": "a5d5bd9d",
   "metadata": {},
   "source": [
    "### [Data Cleaning](#Data-Cleaning)\n",
    "\n",
    "This section goes hand and hand with Exploratory Data Analysis and Preprocessing. While this is not a linear process, I have attempted to make it as close as possible. Several steps were taken. Duplicates were removed. 'Removed' and 'Deleted' Posts were excised as these are missing values. One dummy variable was added. There were Nan's that amounted to three observations. These missing values were dropped. There are some short posts that are outliers that appear to be out of the norm. They have not been removed for two reasons. First, the use of a swear word is descriptive even if is just that. Second, the TFIDH transformer has a maximum feature depth, maximum document frequency, and a minimum document frequency. When these posts are converted into matrices, the outliers, if they are that, will be eliminated from the calculation. These features will also be used in part to cancel out the effect of buzzwords such as product or company name.  This way we can distinguish customer service from product names."
   ]
  },
  {
   "cell_type": "code",
   "execution_count": 33,
   "id": "82f972bd",
   "metadata": {},
   "outputs": [
    {
     "data": {
      "text/plain": [
       "Series([], Name: id, dtype: int64)"
      ]
     },
     "execution_count": 33,
     "metadata": {},
     "output_type": "execute_result"
    }
   ],
   "source": [
    "df[df.duplicated(subset='id')].id.value_counts()[:2]\n"
   ]
  },
  {
   "cell_type": "code",
   "execution_count": 34,
   "id": "64a6ed16",
   "metadata": {},
   "outputs": [
    {
     "data": {
      "text/plain": [
       "[removed]    2169\n",
       "[deleted]      18\n",
       "Name: selftext, dtype: int64"
      ]
     },
     "execution_count": 34,
     "metadata": {},
     "output_type": "execute_result"
    }
   ],
   "source": [
    "df[df.duplicated(subset='selftext')].selftext.value_counts()[:2]"
   ]
  },
  {
   "cell_type": "code",
   "execution_count": 35,
   "id": "12eb9aa9",
   "metadata": {},
   "outputs": [
    {
     "data": {
      "text/html": [
       "<div>\n",
       "<style scoped>\n",
       "    .dataframe tbody tr th:only-of-type {\n",
       "        vertical-align: middle;\n",
       "    }\n",
       "\n",
       "    .dataframe tbody tr th {\n",
       "        vertical-align: top;\n",
       "    }\n",
       "\n",
       "    .dataframe thead th {\n",
       "        text-align: right;\n",
       "    }\n",
       "</style>\n",
       "<table border=\"1\" class=\"dataframe\">\n",
       "  <thead>\n",
       "    <tr style=\"text-align: right;\">\n",
       "      <th></th>\n",
       "      <th>created_utc</th>\n",
       "      <th>apple</th>\n",
       "      <th>selftext</th>\n",
       "      <th>full_link</th>\n",
       "      <th>url</th>\n",
       "      <th>id</th>\n",
       "      <th>num_comments</th>\n",
       "      <th>title</th>\n",
       "      <th>num_crossposts</th>\n",
       "    </tr>\n",
       "  </thead>\n",
       "  <tbody>\n",
       "    <tr>\n",
       "      <th>0</th>\n",
       "      <td>1629169721</td>\n",
       "      <td>1</td>\n",
       "      <td>[removed]</td>\n",
       "      <td>https://www.reddit.com/r/apple/comments/p5vi7i...</td>\n",
       "      <td>https://www.reddit.com/r/apple/comments/p5vi7i...</td>\n",
       "      <td>p5vi7i</td>\n",
       "      <td>0</td>\n",
       "      <td>Citizens one + Apple customer service issues</td>\n",
       "      <td>0</td>\n",
       "    </tr>\n",
       "    <tr>\n",
       "      <th>1</th>\n",
       "      <td>1628782441</td>\n",
       "      <td>1</td>\n",
       "      <td>So a while back I heard Apple might be coming ...</td>\n",
       "      <td>https://www.reddit.com/r/apple/comments/p329rb...</td>\n",
       "      <td>https://www.reddit.com/r/apple/comments/p329rb...</td>\n",
       "      <td>p329rb</td>\n",
       "      <td>2</td>\n",
       "      <td>Apple Wi-Fi rumors</td>\n",
       "      <td>0</td>\n",
       "    </tr>\n",
       "    <tr>\n",
       "      <th>21</th>\n",
       "      <td>1617568289</td>\n",
       "      <td>1</td>\n",
       "      <td>It has been my experience that Apple’s support...</td>\n",
       "      <td>https://www.reddit.com/r/apple/comments/mk47vq...</td>\n",
       "      <td>https://www.reddit.com/r/apple/comments/mk47vq...</td>\n",
       "      <td>mk47vq</td>\n",
       "      <td>227</td>\n",
       "      <td>Have anyone noticed a massive drop off in Supp...</td>\n",
       "      <td>0</td>\n",
       "    </tr>\n",
       "    <tr>\n",
       "      <th>25</th>\n",
       "      <td>1612136462</td>\n",
       "      <td>1</td>\n",
       "      <td>I just have to get this off my chest because I...</td>\n",
       "      <td>https://www.reddit.com/r/apple/comments/l9p9ws...</td>\n",
       "      <td>https://www.reddit.com/r/apple/comments/l9p9ws...</td>\n",
       "      <td>l9p9ws</td>\n",
       "      <td>22</td>\n",
       "      <td>Apple isn't listening so I thought I'd just tr...</td>\n",
       "      <td>0</td>\n",
       "    </tr>\n",
       "    <tr>\n",
       "      <th>29</th>\n",
       "      <td>1608925887</td>\n",
       "      <td>1</td>\n",
       "      <td>Hello, I am a student and use Pearson for Stat...</td>\n",
       "      <td>https://www.reddit.com/r/apple/comments/kk4vv2...</td>\n",
       "      <td>https://www.reddit.com/r/apple/comments/kk4vv2...</td>\n",
       "      <td>kk4vv2</td>\n",
       "      <td>2</td>\n",
       "      <td>Upgrade operating system message</td>\n",
       "      <td>0</td>\n",
       "    </tr>\n",
       "    <tr>\n",
       "      <th>...</th>\n",
       "      <td>...</td>\n",
       "      <td>...</td>\n",
       "      <td>...</td>\n",
       "      <td>...</td>\n",
       "      <td>...</td>\n",
       "      <td>...</td>\n",
       "      <td>...</td>\n",
       "      <td>...</td>\n",
       "      <td>...</td>\n",
       "    </tr>\n",
       "    <tr>\n",
       "      <th>5974</th>\n",
       "      <td>1558313935</td>\n",
       "      <td>0</td>\n",
       "      <td>For many months Timeline has been flakey on my...</td>\n",
       "      <td>https://www.reddit.com/r/google/comments/bqola...</td>\n",
       "      <td>https://www.reddit.com/r/google/comments/bqola...</td>\n",
       "      <td>bqola0</td>\n",
       "      <td>0</td>\n",
       "      <td>Google Timeline Issue</td>\n",
       "      <td>0</td>\n",
       "    </tr>\n",
       "    <tr>\n",
       "      <th>5976</th>\n",
       "      <td>1558313021</td>\n",
       "      <td>0</td>\n",
       "      <td>I hope I live long enough to see Bill and Hill...</td>\n",
       "      <td>https://www.reddit.com/r/google/comments/bqofm...</td>\n",
       "      <td>https://www.reddit.com/r/google/comments/bqofm...</td>\n",
       "      <td>bqofm2</td>\n",
       "      <td>0</td>\n",
       "      <td>Bill and Hillary Clinton</td>\n",
       "      <td>0</td>\n",
       "    </tr>\n",
       "    <tr>\n",
       "      <th>5978</th>\n",
       "      <td>1558307388</td>\n",
       "      <td>0</td>\n",
       "      <td>[https://support.google.com/websearch/thread/...</td>\n",
       "      <td>https://www.reddit.com/r/google/comments/bqnh3...</td>\n",
       "      <td>https://www.reddit.com/r/google/comments/bqnh3...</td>\n",
       "      <td>bqnh3i</td>\n",
       "      <td>0</td>\n",
       "      <td>Safesearch broken</td>\n",
       "      <td>0</td>\n",
       "    </tr>\n",
       "    <tr>\n",
       "      <th>5981</th>\n",
       "      <td>1558305003</td>\n",
       "      <td>0</td>\n",
       "      <td>Hi\\n\\nI'm trying to make a list of \"flip-a-swi...</td>\n",
       "      <td>https://www.reddit.com/r/google/comments/bqn1h...</td>\n",
       "      <td>https://www.reddit.com/r/google/comments/bqn1h...</td>\n",
       "      <td>bqn1hz</td>\n",
       "      <td>0</td>\n",
       "      <td>Help me make a list of \"flip-a-switch\" feature...</td>\n",
       "      <td>0</td>\n",
       "    </tr>\n",
       "    <tr>\n",
       "      <th>5998</th>\n",
       "      <td>1558281690</td>\n",
       "      <td>0</td>\n",
       "      <td>Hi, my name is Nikita and I from Russia. I jus...</td>\n",
       "      <td>https://www.reddit.com/r/google/comments/bqijz...</td>\n",
       "      <td>https://www.reddit.com/r/google/comments/bqijz...</td>\n",
       "      <td>bqijzc</td>\n",
       "      <td>1</td>\n",
       "      <td>Need help (Software engineers)</td>\n",
       "      <td>0</td>\n",
       "    </tr>\n",
       "  </tbody>\n",
       "</table>\n",
       "<p>1300 rows × 9 columns</p>\n",
       "</div>"
      ],
      "text/plain": [
       "      created_utc  apple                                           selftext  \\\n",
       "0      1629169721      1                                          [removed]   \n",
       "1      1628782441      1  So a while back I heard Apple might be coming ...   \n",
       "21     1617568289      1  It has been my experience that Apple’s support...   \n",
       "25     1612136462      1  I just have to get this off my chest because I...   \n",
       "29     1608925887      1  Hello, I am a student and use Pearson for Stat...   \n",
       "...           ...    ...                                                ...   \n",
       "5974   1558313935      0  For many months Timeline has been flakey on my...   \n",
       "5976   1558313021      0  I hope I live long enough to see Bill and Hill...   \n",
       "5978   1558307388      0   [https://support.google.com/websearch/thread/...   \n",
       "5981   1558305003      0  Hi\\n\\nI'm trying to make a list of \"flip-a-swi...   \n",
       "5998   1558281690      0  Hi, my name is Nikita and I from Russia. I jus...   \n",
       "\n",
       "                                              full_link  \\\n",
       "0     https://www.reddit.com/r/apple/comments/p5vi7i...   \n",
       "1     https://www.reddit.com/r/apple/comments/p329rb...   \n",
       "21    https://www.reddit.com/r/apple/comments/mk47vq...   \n",
       "25    https://www.reddit.com/r/apple/comments/l9p9ws...   \n",
       "29    https://www.reddit.com/r/apple/comments/kk4vv2...   \n",
       "...                                                 ...   \n",
       "5974  https://www.reddit.com/r/google/comments/bqola...   \n",
       "5976  https://www.reddit.com/r/google/comments/bqofm...   \n",
       "5978  https://www.reddit.com/r/google/comments/bqnh3...   \n",
       "5981  https://www.reddit.com/r/google/comments/bqn1h...   \n",
       "5998  https://www.reddit.com/r/google/comments/bqijz...   \n",
       "\n",
       "                                                    url      id  num_comments  \\\n",
       "0     https://www.reddit.com/r/apple/comments/p5vi7i...  p5vi7i             0   \n",
       "1     https://www.reddit.com/r/apple/comments/p329rb...  p329rb             2   \n",
       "21    https://www.reddit.com/r/apple/comments/mk47vq...  mk47vq           227   \n",
       "25    https://www.reddit.com/r/apple/comments/l9p9ws...  l9p9ws            22   \n",
       "29    https://www.reddit.com/r/apple/comments/kk4vv2...  kk4vv2             2   \n",
       "...                                                 ...     ...           ...   \n",
       "5974  https://www.reddit.com/r/google/comments/bqola...  bqola0             0   \n",
       "5976  https://www.reddit.com/r/google/comments/bqofm...  bqofm2             0   \n",
       "5978  https://www.reddit.com/r/google/comments/bqnh3...  bqnh3i             0   \n",
       "5981  https://www.reddit.com/r/google/comments/bqn1h...  bqn1hz             0   \n",
       "5998  https://www.reddit.com/r/google/comments/bqijz...  bqijzc             1   \n",
       "\n",
       "                                                  title  num_crossposts  \n",
       "0          Citizens one + Apple customer service issues               0  \n",
       "1                                    Apple Wi-Fi rumors               0  \n",
       "21    Have anyone noticed a massive drop off in Supp...               0  \n",
       "25    Apple isn't listening so I thought I'd just tr...               0  \n",
       "29                     Upgrade operating system message               0  \n",
       "...                                                 ...             ...  \n",
       "5974                              Google Timeline Issue               0  \n",
       "5976                           Bill and Hillary Clinton               0  \n",
       "5978                                  Safesearch broken               0  \n",
       "5981  Help me make a list of \"flip-a-switch\" feature...               0  \n",
       "5998                     Need help (Software engineers)               0  \n",
       "\n",
       "[1300 rows x 9 columns]"
      ]
     },
     "execution_count": 35,
     "metadata": {},
     "output_type": "execute_result"
    }
   ],
   "source": [
    "df.drop_duplicates(subset=['selftext'], keep='first', inplace=True)\n",
    "df"
   ]
  },
  {
   "cell_type": "markdown",
   "id": "fd5f6e4f",
   "metadata": {},
   "source": [
    "#### Checked for removed and deleted posts. Converted to NaN's"
   ]
  },
  {
   "cell_type": "code",
   "execution_count": 36,
   "id": "68d79a61",
   "metadata": {},
   "outputs": [
    {
     "data": {
      "text/html": [
       "<div>\n",
       "<style scoped>\n",
       "    .dataframe tbody tr th:only-of-type {\n",
       "        vertical-align: middle;\n",
       "    }\n",
       "\n",
       "    .dataframe tbody tr th {\n",
       "        vertical-align: top;\n",
       "    }\n",
       "\n",
       "    .dataframe thead th {\n",
       "        text-align: right;\n",
       "    }\n",
       "</style>\n",
       "<table border=\"1\" class=\"dataframe\">\n",
       "  <thead>\n",
       "    <tr style=\"text-align: right;\">\n",
       "      <th></th>\n",
       "      <th>created_utc</th>\n",
       "      <th>apple</th>\n",
       "      <th>selftext</th>\n",
       "      <th>full_link</th>\n",
       "      <th>url</th>\n",
       "      <th>id</th>\n",
       "      <th>num_comments</th>\n",
       "      <th>title</th>\n",
       "      <th>num_crossposts</th>\n",
       "    </tr>\n",
       "  </thead>\n",
       "  <tbody>\n",
       "    <tr>\n",
       "      <th>0</th>\n",
       "      <td>1629169721</td>\n",
       "      <td>1</td>\n",
       "      <td>NaN</td>\n",
       "      <td>https://www.reddit.com/r/apple/comments/p5vi7i...</td>\n",
       "      <td>https://www.reddit.com/r/apple/comments/p5vi7i...</td>\n",
       "      <td>p5vi7i</td>\n",
       "      <td>0</td>\n",
       "      <td>Citizens one + Apple customer service issues</td>\n",
       "      <td>0</td>\n",
       "    </tr>\n",
       "    <tr>\n",
       "      <th>1</th>\n",
       "      <td>1628782441</td>\n",
       "      <td>1</td>\n",
       "      <td>So a while back I heard Apple might be coming ...</td>\n",
       "      <td>https://www.reddit.com/r/apple/comments/p329rb...</td>\n",
       "      <td>https://www.reddit.com/r/apple/comments/p329rb...</td>\n",
       "      <td>p329rb</td>\n",
       "      <td>2</td>\n",
       "      <td>Apple Wi-Fi rumors</td>\n",
       "      <td>0</td>\n",
       "    </tr>\n",
       "    <tr>\n",
       "      <th>21</th>\n",
       "      <td>1617568289</td>\n",
       "      <td>1</td>\n",
       "      <td>It has been my experience that Apple’s support...</td>\n",
       "      <td>https://www.reddit.com/r/apple/comments/mk47vq...</td>\n",
       "      <td>https://www.reddit.com/r/apple/comments/mk47vq...</td>\n",
       "      <td>mk47vq</td>\n",
       "      <td>227</td>\n",
       "      <td>Have anyone noticed a massive drop off in Supp...</td>\n",
       "      <td>0</td>\n",
       "    </tr>\n",
       "    <tr>\n",
       "      <th>25</th>\n",
       "      <td>1612136462</td>\n",
       "      <td>1</td>\n",
       "      <td>I just have to get this off my chest because I...</td>\n",
       "      <td>https://www.reddit.com/r/apple/comments/l9p9ws...</td>\n",
       "      <td>https://www.reddit.com/r/apple/comments/l9p9ws...</td>\n",
       "      <td>l9p9ws</td>\n",
       "      <td>22</td>\n",
       "      <td>Apple isn't listening so I thought I'd just tr...</td>\n",
       "      <td>0</td>\n",
       "    </tr>\n",
       "    <tr>\n",
       "      <th>29</th>\n",
       "      <td>1608925887</td>\n",
       "      <td>1</td>\n",
       "      <td>Hello, I am a student and use Pearson for Stat...</td>\n",
       "      <td>https://www.reddit.com/r/apple/comments/kk4vv2...</td>\n",
       "      <td>https://www.reddit.com/r/apple/comments/kk4vv2...</td>\n",
       "      <td>kk4vv2</td>\n",
       "      <td>2</td>\n",
       "      <td>Upgrade operating system message</td>\n",
       "      <td>0</td>\n",
       "    </tr>\n",
       "    <tr>\n",
       "      <th>...</th>\n",
       "      <td>...</td>\n",
       "      <td>...</td>\n",
       "      <td>...</td>\n",
       "      <td>...</td>\n",
       "      <td>...</td>\n",
       "      <td>...</td>\n",
       "      <td>...</td>\n",
       "      <td>...</td>\n",
       "      <td>...</td>\n",
       "    </tr>\n",
       "    <tr>\n",
       "      <th>5974</th>\n",
       "      <td>1558313935</td>\n",
       "      <td>0</td>\n",
       "      <td>For many months Timeline has been flakey on my...</td>\n",
       "      <td>https://www.reddit.com/r/google/comments/bqola...</td>\n",
       "      <td>https://www.reddit.com/r/google/comments/bqola...</td>\n",
       "      <td>bqola0</td>\n",
       "      <td>0</td>\n",
       "      <td>Google Timeline Issue</td>\n",
       "      <td>0</td>\n",
       "    </tr>\n",
       "    <tr>\n",
       "      <th>5976</th>\n",
       "      <td>1558313021</td>\n",
       "      <td>0</td>\n",
       "      <td>I hope I live long enough to see Bill and Hill...</td>\n",
       "      <td>https://www.reddit.com/r/google/comments/bqofm...</td>\n",
       "      <td>https://www.reddit.com/r/google/comments/bqofm...</td>\n",
       "      <td>bqofm2</td>\n",
       "      <td>0</td>\n",
       "      <td>Bill and Hillary Clinton</td>\n",
       "      <td>0</td>\n",
       "    </tr>\n",
       "    <tr>\n",
       "      <th>5978</th>\n",
       "      <td>1558307388</td>\n",
       "      <td>0</td>\n",
       "      <td>[https://support.google.com/websearch/thread/...</td>\n",
       "      <td>https://www.reddit.com/r/google/comments/bqnh3...</td>\n",
       "      <td>https://www.reddit.com/r/google/comments/bqnh3...</td>\n",
       "      <td>bqnh3i</td>\n",
       "      <td>0</td>\n",
       "      <td>Safesearch broken</td>\n",
       "      <td>0</td>\n",
       "    </tr>\n",
       "    <tr>\n",
       "      <th>5981</th>\n",
       "      <td>1558305003</td>\n",
       "      <td>0</td>\n",
       "      <td>Hi\\n\\nI'm trying to make a list of \"flip-a-swi...</td>\n",
       "      <td>https://www.reddit.com/r/google/comments/bqn1h...</td>\n",
       "      <td>https://www.reddit.com/r/google/comments/bqn1h...</td>\n",
       "      <td>bqn1hz</td>\n",
       "      <td>0</td>\n",
       "      <td>Help me make a list of \"flip-a-switch\" feature...</td>\n",
       "      <td>0</td>\n",
       "    </tr>\n",
       "    <tr>\n",
       "      <th>5998</th>\n",
       "      <td>1558281690</td>\n",
       "      <td>0</td>\n",
       "      <td>Hi, my name is Nikita and I from Russia. I jus...</td>\n",
       "      <td>https://www.reddit.com/r/google/comments/bqijz...</td>\n",
       "      <td>https://www.reddit.com/r/google/comments/bqijz...</td>\n",
       "      <td>bqijzc</td>\n",
       "      <td>1</td>\n",
       "      <td>Need help (Software engineers)</td>\n",
       "      <td>0</td>\n",
       "    </tr>\n",
       "  </tbody>\n",
       "</table>\n",
       "<p>1300 rows × 9 columns</p>\n",
       "</div>"
      ],
      "text/plain": [
       "      created_utc  apple                                           selftext  \\\n",
       "0      1629169721      1                                                NaN   \n",
       "1      1628782441      1  So a while back I heard Apple might be coming ...   \n",
       "21     1617568289      1  It has been my experience that Apple’s support...   \n",
       "25     1612136462      1  I just have to get this off my chest because I...   \n",
       "29     1608925887      1  Hello, I am a student and use Pearson for Stat...   \n",
       "...           ...    ...                                                ...   \n",
       "5974   1558313935      0  For many months Timeline has been flakey on my...   \n",
       "5976   1558313021      0  I hope I live long enough to see Bill and Hill...   \n",
       "5978   1558307388      0   [https://support.google.com/websearch/thread/...   \n",
       "5981   1558305003      0  Hi\\n\\nI'm trying to make a list of \"flip-a-swi...   \n",
       "5998   1558281690      0  Hi, my name is Nikita and I from Russia. I jus...   \n",
       "\n",
       "                                              full_link  \\\n",
       "0     https://www.reddit.com/r/apple/comments/p5vi7i...   \n",
       "1     https://www.reddit.com/r/apple/comments/p329rb...   \n",
       "21    https://www.reddit.com/r/apple/comments/mk47vq...   \n",
       "25    https://www.reddit.com/r/apple/comments/l9p9ws...   \n",
       "29    https://www.reddit.com/r/apple/comments/kk4vv2...   \n",
       "...                                                 ...   \n",
       "5974  https://www.reddit.com/r/google/comments/bqola...   \n",
       "5976  https://www.reddit.com/r/google/comments/bqofm...   \n",
       "5978  https://www.reddit.com/r/google/comments/bqnh3...   \n",
       "5981  https://www.reddit.com/r/google/comments/bqn1h...   \n",
       "5998  https://www.reddit.com/r/google/comments/bqijz...   \n",
       "\n",
       "                                                    url      id  num_comments  \\\n",
       "0     https://www.reddit.com/r/apple/comments/p5vi7i...  p5vi7i             0   \n",
       "1     https://www.reddit.com/r/apple/comments/p329rb...  p329rb             2   \n",
       "21    https://www.reddit.com/r/apple/comments/mk47vq...  mk47vq           227   \n",
       "25    https://www.reddit.com/r/apple/comments/l9p9ws...  l9p9ws            22   \n",
       "29    https://www.reddit.com/r/apple/comments/kk4vv2...  kk4vv2             2   \n",
       "...                                                 ...     ...           ...   \n",
       "5974  https://www.reddit.com/r/google/comments/bqola...  bqola0             0   \n",
       "5976  https://www.reddit.com/r/google/comments/bqofm...  bqofm2             0   \n",
       "5978  https://www.reddit.com/r/google/comments/bqnh3...  bqnh3i             0   \n",
       "5981  https://www.reddit.com/r/google/comments/bqn1h...  bqn1hz             0   \n",
       "5998  https://www.reddit.com/r/google/comments/bqijz...  bqijzc             1   \n",
       "\n",
       "                                                  title  num_crossposts  \n",
       "0          Citizens one + Apple customer service issues               0  \n",
       "1                                    Apple Wi-Fi rumors               0  \n",
       "21    Have anyone noticed a massive drop off in Supp...               0  \n",
       "25    Apple isn't listening so I thought I'd just tr...               0  \n",
       "29                     Upgrade operating system message               0  \n",
       "...                                                 ...             ...  \n",
       "5974                              Google Timeline Issue               0  \n",
       "5976                           Bill and Hillary Clinton               0  \n",
       "5978                                  Safesearch broken               0  \n",
       "5981  Help me make a list of \"flip-a-switch\" feature...               0  \n",
       "5998                     Need help (Software engineers)               0  \n",
       "\n",
       "[1300 rows x 9 columns]"
      ]
     },
     "execution_count": 36,
     "metadata": {},
     "output_type": "execute_result"
    }
   ],
   "source": [
    "df.selftext.replace({'[removed]': np.nan, '[deleted]':np.nan}, inplace = True)\n",
    "df"
   ]
  },
  {
   "cell_type": "markdown",
   "id": "01c51813",
   "metadata": {},
   "source": [
    "#### There is such a small amount of NaN's  so dropped."
   ]
  },
  {
   "cell_type": "code",
   "execution_count": 37,
   "id": "5e2b51e9",
   "metadata": {},
   "outputs": [
    {
     "data": {
      "text/plain": [
       "created_utc       0\n",
       "apple             0\n",
       "selftext          3\n",
       "full_link         0\n",
       "url               0\n",
       "id                0\n",
       "num_comments      0\n",
       "title             0\n",
       "num_crossposts    0\n",
       "dtype: int64"
      ]
     },
     "execution_count": 37,
     "metadata": {},
     "output_type": "execute_result"
    }
   ],
   "source": [
    "df.isnull().sum()"
   ]
  },
  {
   "cell_type": "code",
   "execution_count": 38,
   "id": "26efcc79",
   "metadata": {},
   "outputs": [],
   "source": [
    "df.dropna(inplace=True)"
   ]
  },
  {
   "cell_type": "code",
   "execution_count": 39,
   "id": "f6abee2b",
   "metadata": {},
   "outputs": [
    {
     "data": {
      "text/html": [
       "<div>\n",
       "<style scoped>\n",
       "    .dataframe tbody tr th:only-of-type {\n",
       "        vertical-align: middle;\n",
       "    }\n",
       "\n",
       "    .dataframe tbody tr th {\n",
       "        vertical-align: top;\n",
       "    }\n",
       "\n",
       "    .dataframe thead th {\n",
       "        text-align: right;\n",
       "    }\n",
       "</style>\n",
       "<table border=\"1\" class=\"dataframe\">\n",
       "  <thead>\n",
       "    <tr style=\"text-align: right;\">\n",
       "      <th></th>\n",
       "      <th>created_utc</th>\n",
       "      <th>apple</th>\n",
       "      <th>selftext</th>\n",
       "      <th>full_link</th>\n",
       "      <th>url</th>\n",
       "      <th>id</th>\n",
       "      <th>num_comments</th>\n",
       "      <th>title</th>\n",
       "      <th>num_crossposts</th>\n",
       "    </tr>\n",
       "  </thead>\n",
       "  <tbody>\n",
       "    <tr>\n",
       "      <th>1</th>\n",
       "      <td>1628782441</td>\n",
       "      <td>1</td>\n",
       "      <td>So a while back I heard Apple might be coming ...</td>\n",
       "      <td>https://www.reddit.com/r/apple/comments/p329rb...</td>\n",
       "      <td>https://www.reddit.com/r/apple/comments/p329rb...</td>\n",
       "      <td>p329rb</td>\n",
       "      <td>2</td>\n",
       "      <td>Apple Wi-Fi rumors</td>\n",
       "      <td>0</td>\n",
       "    </tr>\n",
       "    <tr>\n",
       "      <th>21</th>\n",
       "      <td>1617568289</td>\n",
       "      <td>1</td>\n",
       "      <td>It has been my experience that Apple’s support...</td>\n",
       "      <td>https://www.reddit.com/r/apple/comments/mk47vq...</td>\n",
       "      <td>https://www.reddit.com/r/apple/comments/mk47vq...</td>\n",
       "      <td>mk47vq</td>\n",
       "      <td>227</td>\n",
       "      <td>Have anyone noticed a massive drop off in Supp...</td>\n",
       "      <td>0</td>\n",
       "    </tr>\n",
       "    <tr>\n",
       "      <th>25</th>\n",
       "      <td>1612136462</td>\n",
       "      <td>1</td>\n",
       "      <td>I just have to get this off my chest because I...</td>\n",
       "      <td>https://www.reddit.com/r/apple/comments/l9p9ws...</td>\n",
       "      <td>https://www.reddit.com/r/apple/comments/l9p9ws...</td>\n",
       "      <td>l9p9ws</td>\n",
       "      <td>22</td>\n",
       "      <td>Apple isn't listening so I thought I'd just tr...</td>\n",
       "      <td>0</td>\n",
       "    </tr>\n",
       "    <tr>\n",
       "      <th>29</th>\n",
       "      <td>1608925887</td>\n",
       "      <td>1</td>\n",
       "      <td>Hello, I am a student and use Pearson for Stat...</td>\n",
       "      <td>https://www.reddit.com/r/apple/comments/kk4vv2...</td>\n",
       "      <td>https://www.reddit.com/r/apple/comments/kk4vv2...</td>\n",
       "      <td>kk4vv2</td>\n",
       "      <td>2</td>\n",
       "      <td>Upgrade operating system message</td>\n",
       "      <td>0</td>\n",
       "    </tr>\n",
       "    <tr>\n",
       "      <th>31</th>\n",
       "      <td>1607465909</td>\n",
       "      <td>1</td>\n",
       "      <td>As of today, I dropped my 2018 15\" MacBook Pro...</td>\n",
       "      <td>https://www.reddit.com/r/apple/comments/k9eg93...</td>\n",
       "      <td>https://www.reddit.com/r/apple/comments/k9eg93...</td>\n",
       "      <td>k9eg93</td>\n",
       "      <td>0</td>\n",
       "      <td>For anyone who recently got a logic board repl...</td>\n",
       "      <td>0</td>\n",
       "    </tr>\n",
       "    <tr>\n",
       "      <th>...</th>\n",
       "      <td>...</td>\n",
       "      <td>...</td>\n",
       "      <td>...</td>\n",
       "      <td>...</td>\n",
       "      <td>...</td>\n",
       "      <td>...</td>\n",
       "      <td>...</td>\n",
       "      <td>...</td>\n",
       "      <td>...</td>\n",
       "    </tr>\n",
       "    <tr>\n",
       "      <th>5974</th>\n",
       "      <td>1558313935</td>\n",
       "      <td>0</td>\n",
       "      <td>For many months Timeline has been flakey on my...</td>\n",
       "      <td>https://www.reddit.com/r/google/comments/bqola...</td>\n",
       "      <td>https://www.reddit.com/r/google/comments/bqola...</td>\n",
       "      <td>bqola0</td>\n",
       "      <td>0</td>\n",
       "      <td>Google Timeline Issue</td>\n",
       "      <td>0</td>\n",
       "    </tr>\n",
       "    <tr>\n",
       "      <th>5976</th>\n",
       "      <td>1558313021</td>\n",
       "      <td>0</td>\n",
       "      <td>I hope I live long enough to see Bill and Hill...</td>\n",
       "      <td>https://www.reddit.com/r/google/comments/bqofm...</td>\n",
       "      <td>https://www.reddit.com/r/google/comments/bqofm...</td>\n",
       "      <td>bqofm2</td>\n",
       "      <td>0</td>\n",
       "      <td>Bill and Hillary Clinton</td>\n",
       "      <td>0</td>\n",
       "    </tr>\n",
       "    <tr>\n",
       "      <th>5978</th>\n",
       "      <td>1558307388</td>\n",
       "      <td>0</td>\n",
       "      <td>[https://support.google.com/websearch/thread/...</td>\n",
       "      <td>https://www.reddit.com/r/google/comments/bqnh3...</td>\n",
       "      <td>https://www.reddit.com/r/google/comments/bqnh3...</td>\n",
       "      <td>bqnh3i</td>\n",
       "      <td>0</td>\n",
       "      <td>Safesearch broken</td>\n",
       "      <td>0</td>\n",
       "    </tr>\n",
       "    <tr>\n",
       "      <th>5981</th>\n",
       "      <td>1558305003</td>\n",
       "      <td>0</td>\n",
       "      <td>Hi\\n\\nI'm trying to make a list of \"flip-a-swi...</td>\n",
       "      <td>https://www.reddit.com/r/google/comments/bqn1h...</td>\n",
       "      <td>https://www.reddit.com/r/google/comments/bqn1h...</td>\n",
       "      <td>bqn1hz</td>\n",
       "      <td>0</td>\n",
       "      <td>Help me make a list of \"flip-a-switch\" feature...</td>\n",
       "      <td>0</td>\n",
       "    </tr>\n",
       "    <tr>\n",
       "      <th>5998</th>\n",
       "      <td>1558281690</td>\n",
       "      <td>0</td>\n",
       "      <td>Hi, my name is Nikita and I from Russia. I jus...</td>\n",
       "      <td>https://www.reddit.com/r/google/comments/bqijz...</td>\n",
       "      <td>https://www.reddit.com/r/google/comments/bqijz...</td>\n",
       "      <td>bqijzc</td>\n",
       "      <td>1</td>\n",
       "      <td>Need help (Software engineers)</td>\n",
       "      <td>0</td>\n",
       "    </tr>\n",
       "  </tbody>\n",
       "</table>\n",
       "<p>1297 rows × 9 columns</p>\n",
       "</div>"
      ],
      "text/plain": [
       "      created_utc  apple                                           selftext  \\\n",
       "1      1628782441      1  So a while back I heard Apple might be coming ...   \n",
       "21     1617568289      1  It has been my experience that Apple’s support...   \n",
       "25     1612136462      1  I just have to get this off my chest because I...   \n",
       "29     1608925887      1  Hello, I am a student and use Pearson for Stat...   \n",
       "31     1607465909      1  As of today, I dropped my 2018 15\" MacBook Pro...   \n",
       "...           ...    ...                                                ...   \n",
       "5974   1558313935      0  For many months Timeline has been flakey on my...   \n",
       "5976   1558313021      0  I hope I live long enough to see Bill and Hill...   \n",
       "5978   1558307388      0   [https://support.google.com/websearch/thread/...   \n",
       "5981   1558305003      0  Hi\\n\\nI'm trying to make a list of \"flip-a-swi...   \n",
       "5998   1558281690      0  Hi, my name is Nikita and I from Russia. I jus...   \n",
       "\n",
       "                                              full_link  \\\n",
       "1     https://www.reddit.com/r/apple/comments/p329rb...   \n",
       "21    https://www.reddit.com/r/apple/comments/mk47vq...   \n",
       "25    https://www.reddit.com/r/apple/comments/l9p9ws...   \n",
       "29    https://www.reddit.com/r/apple/comments/kk4vv2...   \n",
       "31    https://www.reddit.com/r/apple/comments/k9eg93...   \n",
       "...                                                 ...   \n",
       "5974  https://www.reddit.com/r/google/comments/bqola...   \n",
       "5976  https://www.reddit.com/r/google/comments/bqofm...   \n",
       "5978  https://www.reddit.com/r/google/comments/bqnh3...   \n",
       "5981  https://www.reddit.com/r/google/comments/bqn1h...   \n",
       "5998  https://www.reddit.com/r/google/comments/bqijz...   \n",
       "\n",
       "                                                    url      id  num_comments  \\\n",
       "1     https://www.reddit.com/r/apple/comments/p329rb...  p329rb             2   \n",
       "21    https://www.reddit.com/r/apple/comments/mk47vq...  mk47vq           227   \n",
       "25    https://www.reddit.com/r/apple/comments/l9p9ws...  l9p9ws            22   \n",
       "29    https://www.reddit.com/r/apple/comments/kk4vv2...  kk4vv2             2   \n",
       "31    https://www.reddit.com/r/apple/comments/k9eg93...  k9eg93             0   \n",
       "...                                                 ...     ...           ...   \n",
       "5974  https://www.reddit.com/r/google/comments/bqola...  bqola0             0   \n",
       "5976  https://www.reddit.com/r/google/comments/bqofm...  bqofm2             0   \n",
       "5978  https://www.reddit.com/r/google/comments/bqnh3...  bqnh3i             0   \n",
       "5981  https://www.reddit.com/r/google/comments/bqn1h...  bqn1hz             0   \n",
       "5998  https://www.reddit.com/r/google/comments/bqijz...  bqijzc             1   \n",
       "\n",
       "                                                  title  num_crossposts  \n",
       "1                                    Apple Wi-Fi rumors               0  \n",
       "21    Have anyone noticed a massive drop off in Supp...               0  \n",
       "25    Apple isn't listening so I thought I'd just tr...               0  \n",
       "29                     Upgrade operating system message               0  \n",
       "31    For anyone who recently got a logic board repl...               0  \n",
       "...                                                 ...             ...  \n",
       "5974                              Google Timeline Issue               0  \n",
       "5976                           Bill and Hillary Clinton               0  \n",
       "5978                                  Safesearch broken               0  \n",
       "5981  Help me make a list of \"flip-a-switch\" feature...               0  \n",
       "5998                     Need help (Software engineers)               0  \n",
       "\n",
       "[1297 rows x 9 columns]"
      ]
     },
     "execution_count": 39,
     "metadata": {},
     "output_type": "execute_result"
    }
   ],
   "source": [
    "df"
   ]
  },
  {
   "cell_type": "code",
   "execution_count": 40,
   "id": "e4ca8edf",
   "metadata": {},
   "outputs": [],
   "source": [
    "df['selftext']=df['selftext'].str.lower()\n",
    "df['title']=df['title'].str.lower()"
   ]
  },
  {
   "cell_type": "code",
   "execution_count": 41,
   "id": "93beb3e0",
   "metadata": {},
   "outputs": [
    {
     "data": {
      "text/plain": [
       "1      so a while back i heard apple might be coming ...\n",
       "21     it has been my experience that apple’s support...\n",
       "25     i just have to get this off my chest because i...\n",
       "29     hello, i am a student and use pearson for stat...\n",
       "31     as of today, i dropped my 2018 15\" macbook pro...\n",
       "51     first-time apple customer here.\\n\\nmy laptop w...\n",
       "53     as you may have seen, i sent the following twe...\n",
       "57     in february, i decided to finally upgrade my i...\n",
       "59     on march 23rd i broke the screen on my 11max p...\n",
       "63     i just had one of the worst customer service e...\n",
       "64     dell's u3818dw and u3419w monitors violate usb...\n",
       "66     i was a genius for 3yrs, no longer am one, but...\n",
       "70     here is the video of messages \\nhttps://www.re...\n",
       "71     hi there! this year my goal was to get a job w...\n",
       "72     last year apple had a company wide profit marg...\n",
       "74     i recently received a hand-me-down 2015 macboo...\n",
       "80     anyone have macbook air 2019 bluetooth keyboar...\n",
       "82     i really liked the new 16\" mbp that released b...\n",
       "86     [https://youtu.be/zhgidcfvhui](https://youtu.b...\n",
       "101    i think the current models of normal iphones b...\n",
       "Name: selftext, dtype: object"
      ]
     },
     "execution_count": 41,
     "metadata": {},
     "output_type": "execute_result"
    }
   ],
   "source": [
    "df['selftext'].head(20)"
   ]
  },
  {
   "cell_type": "markdown",
   "id": "12582a61",
   "metadata": {},
   "source": [
    "#### Below, 'title' and 'selftext' are combined to make the matrix transformation easier"
   ]
  },
  {
   "cell_type": "code",
   "execution_count": 42,
   "id": "928f7759",
   "metadata": {},
   "outputs": [],
   "source": [
    "df.title=df.title.apply(lambda x: x + '.')\n",
    "df['text']=df.title + ' ' + df.selftext\n",
    "df.reset_index(inplace=True)"
   ]
  },
  {
   "cell_type": "markdown",
   "id": "1e331b41",
   "metadata": {},
   "source": [
    "\n",
    "\n",
    "### [Summary Statistics and Visualizations Created.](#Summary-Statistics-and-Visualizations-Created.)\n",
    "\n",
    "Below for the few numeric variables included, the descriptive statistics are shown. The histogram show there may be little predictive power. The correlation heatmap concurs. The next notebook also contains visualizations."
   ]
  },
  {
   "cell_type": "code",
   "execution_count": 43,
   "id": "1eb1e31a",
   "metadata": {},
   "outputs": [
    {
     "data": {
      "text/html": [
       "<div>\n",
       "<style scoped>\n",
       "    .dataframe tbody tr th:only-of-type {\n",
       "        vertical-align: middle;\n",
       "    }\n",
       "\n",
       "    .dataframe tbody tr th {\n",
       "        vertical-align: top;\n",
       "    }\n",
       "\n",
       "    .dataframe thead th {\n",
       "        text-align: right;\n",
       "    }\n",
       "</style>\n",
       "<table border=\"1\" class=\"dataframe\">\n",
       "  <thead>\n",
       "    <tr style=\"text-align: right;\">\n",
       "      <th></th>\n",
       "      <th>index</th>\n",
       "      <th>created_utc</th>\n",
       "      <th>apple</th>\n",
       "      <th>num_comments</th>\n",
       "      <th>num_crossposts</th>\n",
       "    </tr>\n",
       "  </thead>\n",
       "  <tbody>\n",
       "    <tr>\n",
       "      <th>count</th>\n",
       "      <td>1297.000000</td>\n",
       "      <td>1.297000e+03</td>\n",
       "      <td>1297.000000</td>\n",
       "      <td>1297.000000</td>\n",
       "      <td>1297.0</td>\n",
       "    </tr>\n",
       "    <tr>\n",
       "      <th>mean</th>\n",
       "      <td>3140.713955</td>\n",
       "      <td>1.569593e+09</td>\n",
       "      <td>0.468003</td>\n",
       "      <td>4.922899</td>\n",
       "      <td>0.0</td>\n",
       "    </tr>\n",
       "    <tr>\n",
       "      <th>std</th>\n",
       "      <td>1568.202722</td>\n",
       "      <td>9.699154e+06</td>\n",
       "      <td>0.499168</td>\n",
       "      <td>29.242973</td>\n",
       "      <td>0.0</td>\n",
       "    </tr>\n",
       "    <tr>\n",
       "      <th>min</th>\n",
       "      <td>1.000000</td>\n",
       "      <td>1.558282e+09</td>\n",
       "      <td>0.000000</td>\n",
       "      <td>0.000000</td>\n",
       "      <td>0.0</td>\n",
       "    </tr>\n",
       "    <tr>\n",
       "      <th>25%</th>\n",
       "      <td>1807.000000</td>\n",
       "      <td>1.560985e+09</td>\n",
       "      <td>0.000000</td>\n",
       "      <td>0.000000</td>\n",
       "      <td>0.0</td>\n",
       "    </tr>\n",
       "    <tr>\n",
       "      <th>50%</th>\n",
       "      <td>3084.000000</td>\n",
       "      <td>1.563473e+09</td>\n",
       "      <td>0.000000</td>\n",
       "      <td>0.000000</td>\n",
       "      <td>0.0</td>\n",
       "    </tr>\n",
       "    <tr>\n",
       "      <th>75%</th>\n",
       "      <td>4426.000000</td>\n",
       "      <td>1.577296e+09</td>\n",
       "      <td>1.000000</td>\n",
       "      <td>1.000000</td>\n",
       "      <td>0.0</td>\n",
       "    </tr>\n",
       "    <tr>\n",
       "      <th>max</th>\n",
       "      <td>5998.000000</td>\n",
       "      <td>1.628782e+09</td>\n",
       "      <td>1.000000</td>\n",
       "      <td>531.000000</td>\n",
       "      <td>0.0</td>\n",
       "    </tr>\n",
       "  </tbody>\n",
       "</table>\n",
       "</div>"
      ],
      "text/plain": [
       "             index   created_utc        apple  num_comments  num_crossposts\n",
       "count  1297.000000  1.297000e+03  1297.000000   1297.000000          1297.0\n",
       "mean   3140.713955  1.569593e+09     0.468003      4.922899             0.0\n",
       "std    1568.202722  9.699154e+06     0.499168     29.242973             0.0\n",
       "min       1.000000  1.558282e+09     0.000000      0.000000             0.0\n",
       "25%    1807.000000  1.560985e+09     0.000000      0.000000             0.0\n",
       "50%    3084.000000  1.563473e+09     0.000000      0.000000             0.0\n",
       "75%    4426.000000  1.577296e+09     1.000000      1.000000             0.0\n",
       "max    5998.000000  1.628782e+09     1.000000    531.000000             0.0"
      ]
     },
     "execution_count": 43,
     "metadata": {},
     "output_type": "execute_result"
    }
   ],
   "source": [
    "df.describe()"
   ]
  },
  {
   "cell_type": "code",
   "execution_count": 44,
   "id": "98aa641c",
   "metadata": {},
   "outputs": [
    {
     "data": {
      "text/plain": [
       "<AxesSubplot:>"
      ]
     },
     "execution_count": 44,
     "metadata": {},
     "output_type": "execute_result"
    },
    {
     "data": {
      "image/png": "[encoded data removed]",
      "text/plain": [
       "<Figure size 432x288 with 1 Axes>"
      ]
     },
     "metadata": {
      "needs_background": "light"
     },
     "output_type": "display_data"
    }
   ],
   "source": [
    "df.num_comments.hist()"
   ]
  },
  {
   "cell_type": "code",
   "execution_count": 45,
   "id": "7a4fa48b",
   "metadata": {},
   "outputs": [
    {
     "name": "stderr",
     "output_type": "stream",
     "text": [
      "<ipython-input-45-39b6bc70d929>:1: UserWarning: Boolean Series key will be reindexed to match DataFrame index.\n",
      "  df.corr()[['apple']][(df.corr()['apple'].sort_values().abs() > .10)],\n"
     ]
    },
    {
     "data": {
      "text/plain": [
       "(                apple\n",
       " index       -0.846493\n",
       " created_utc  0.781482\n",
       " apple        1.000000,)"
      ]
     },
     "execution_count": 45,
     "metadata": {},
     "output_type": "execute_result"
    }
   ],
   "source": [
    "df.corr()[['apple']][(df.corr()['apple'].sort_values().abs() > .10)],"
   ]
  },
  {
   "cell_type": "code",
   "execution_count": 46,
   "id": "537db394",
   "metadata": {},
   "outputs": [
    {
     "data": {
      "text/plain": [
       "[Text(0.5, 1.0, 'Correlation with Companies')]"
      ]
     },
     "execution_count": 46,
     "metadata": {},
     "output_type": "execute_result"
    },
    {
     "data": {
      "image/png": "[encoded data removed]",
      "text/plain": [
       "<Figure size 432x288 with 2 Axes>"
      ]
     },
     "metadata": {
      "needs_background": "light"
     },
     "output_type": "display_data"
    }
   ],
   "source": [
    "ax=sns.heatmap(df.corr(), annot=True, cmap='coolwarm', vmin=-1, vmax=1)\n",
    "ax.set(title = \"Correlation with Companies\")"
   ]
  },
  {
   "cell_type": "markdown",
   "id": "293420a9",
   "metadata": {},
   "source": [
    "#### Data Types checked to ensure modeling success. There is also a csv filed that is saved for the next notebook."
   ]
  },
  {
   "cell_type": "code",
   "execution_count": 47,
   "id": "88eae72b",
   "metadata": {},
   "outputs": [
    {
     "data": {
      "text/plain": [
       "index              int64\n",
       "created_utc        int64\n",
       "apple              int64\n",
       "selftext          object\n",
       "full_link         object\n",
       "url               object\n",
       "id                object\n",
       "num_comments       int64\n",
       "title             object\n",
       "num_crossposts     int64\n",
       "text              object\n",
       "dtype: object"
      ]
     },
     "execution_count": 47,
     "metadata": {},
     "output_type": "execute_result"
    }
   ],
   "source": [
    "df.dtypes"
   ]
  },
  {
   "cell_type": "code",
   "execution_count": 48,
   "id": "1a595840",
   "metadata": {},
   "outputs": [],
   "source": [
    "#df.to_csv('data/modeling.csv')"
   ]
  },
  {
   "cell_type": "markdown",
   "id": "f00df4b1",
   "metadata": {},
   "source": [
    "### Exploratory Data Analysis is continued in the Modeling section. Preprocessing, Modeling, Exploratory Data Analysis, and Data cleaning go hand in hand.There are multiple iterations in the data science process, and therefore, this is not completely linear.  I have attempted to create a linear flow. Please click on the link below to continue. \n",
    "### [Modeling, Data Visualization, and Conclusions Notebook](/BavdaConsultingNLPModelingConclusions)"
   ]
  },
  {
   "cell_type": "code",
   "execution_count": null,
   "id": "e5317b3e",
   "metadata": {},
   "outputs": [],
   "source": []
  }
 ],
 "metadata": {
  "kernelspec": {
   "display_name": "Python 3",
   "language": "python",
   "name": "python3"
  },
  "language_info": {
   "codemirror_mode": {
    "name": "ipython",
    "version": 3
   },
   "file_extension": ".py",
   "mimetype": "text/x-python",
   "name": "python",
   "nbconvert_exporter": "python",
   "pygments_lexer": "ipython3",
   "version": "3.8.8"
  }
 },
 "nbformat": 4,
 "nbformat_minor": 5
}
